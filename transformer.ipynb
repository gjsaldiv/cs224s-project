{
 "cells": [
  {
   "cell_type": "code",
   "execution_count": 1,
   "metadata": {
    "colab": {
     "base_uri": "https://localhost:8080/"
    },
    "id": "S6iAqK_e-z75",
    "outputId": "fa061668-4c0d-4a74-f513-71cffcf91526"
   },
   "outputs": [],
   "source": [
    "# Imports \n",
    "import librosa\n",
    "import librosa.display\n",
    "import librosa.effects\n",
    "import librosa.util\n",
    "\n",
    "import numpy as np\n",
    "import sys, os\n",
    "import pandas as pd\n",
    "import matplotlib.pyplot as plt\n",
    "\n",
    "import sklearn\n",
    "from sklearn.linear_model import LogisticRegression\n",
    "from sklearn.metrics import f1_score\n",
    "from sklearn import preprocessing\n",
    "from tqdm import tqdm\n",
    "\n",
    "import torch\n",
    "import torch.nn as nn\n",
    "from torch.utils.data import Dataset\n",
    "from torch.utils.data import DataLoader\n",
    "import torch.nn.functional as F\n",
    "from transformer_models import *"
   ]
  },
  {
   "cell_type": "code",
   "execution_count": 2,
   "metadata": {
    "id": "5IEPrjp5AtlU"
   },
   "outputs": [
    {
     "name": "stderr",
     "output_type": "stream",
     "text": [
      " 39%|███▉      | 2914/7442 [04:46<08:27,  8.92it/s]"
     ]
    },
    {
     "name": "stdout",
     "output_type": "stream",
     "text": [
      "info: Empty DataFrame\n",
      "Columns: [Unnamed: 0, FileName, VoiceVote, VoiceLevel, FaceVote, FaceLevel, MultiModalVote, MultiModalLevel]\n",
      "Index: []\n",
      "index count: 2912\n",
      "unable to find file: 1040_ITH_SAD_X.wav\n"
     ]
    },
    {
     "name": "stderr",
     "output_type": "stream",
     "text": [
      "100%|██████████| 7442/7442 [12:02<00:00, 10.31it/s]"
     ]
    },
    {
     "name": "stdout",
     "output_type": "stream",
     "text": [
      "shape of train data: (7442, 6)\n",
      "shape of labels: (7442,)\n"
     ]
    },
    {
     "name": "stderr",
     "output_type": "stream",
     "text": [
      "\n"
     ]
    }
   ],
   "source": [
    "#Features we want right now: min f0, max f0, and mean f0 and maybe rms (not sure exactly what that is but was used in the paper)\n",
    "path = '/home/CREMA-D/AudioWAV/'\n",
    "files = os.listdir(path)\n",
    "\n",
    "summary = pd.read_csv('/home/CREMA-D/processedResults/summaryTable.csv')\n",
    "\n",
    "num_files = len(os.listdir(path)) #not sure how you want to count files\n",
    "count = 0\n",
    "\n",
    "# Aim to get to 12 features\n",
    "num_features = 6\n",
    "\n",
    "# Keep track of min and max duration of all data\n",
    "min_dur = np.inf\n",
    "max_dur = 0\n",
    "max_length = 0\n",
    "\n",
    "X = np.zeros((num_files, num_features))\n",
    "Y = np.zeros(num_files).astype(str)\n",
    "for sample in tqdm(files): #depends on how you access\n",
    "    file = os.path.join(path,sample)\n",
    "    current_wav, current_sr = librosa.load(file) #fix for set up \n",
    "    f0_series = librosa.yin(current_wav, librosa.note_to_hz('C2'), librosa.note_to_hz('C7'))\n",
    "    rms_series = librosa.feature.rms(y=current_wav)\n",
    "    f0_max = np.amax(f0_series)\n",
    "    f0_min = np.amin(f0_series)\n",
    "    # Get f0 range\n",
    "    f0_range = f0_max - f0_min\n",
    "    # duration\n",
    "    duration = librosa.get_duration(y=current_wav, sr=current_sr)\n",
    "    \n",
    "    # Outer duration\n",
    "    if duration > max_dur:\n",
    "        max_dur = duration\n",
    "    if duration < min_dur:\n",
    "        min_dur = duration\n",
    "        \n",
    "    # Get the pitches\n",
    "#     pitches, magnitudes = librosa.piptrack(y=current_wav, sr=current_sr)\n",
    "#     pitch_max = np.amax(pitches)\n",
    "#     pitch_min = np.amin(pitches)\n",
    "#     # Get f0 range\n",
    "#     pitch_range = pitch_max - pitch_min\n",
    "#     pitch_mean = np.mean(pitches)\n",
    "    \n",
    "    f0_mean = np.mean(f0_series)\n",
    "    rms_max = np.amax(rms_series)\n",
    "    rms_min = np.amin(rms_series)\n",
    "    rms_mean = np.mean(rms_series)\n",
    "#     x = np.array([f0_min, f0_max, f0_mean, f0_range, duration, rms_min, rms_max, rms_mean, pitch_max, pitch_min, \n",
    "#                   pitch_range, pitch_mean])\n",
    "    if num_features == 8:\n",
    "        x = np.array([f0_min, f0_max, f0_mean, f0_range, duration, rms_min, rms_max, rms_mean])\n",
    "    else:\n",
    "        x = np.array([f0_min, f0_max, f0_mean, rms_min, rms_max, rms_mean])\n",
    "    X[count,:] = x\n",
    "    # Get the label for VoiceVote\n",
    "    info = summary.loc[summary['FileName'] == sample.split('.')[0]]\n",
    "    try:\n",
    "        Y[count] = info['VoiceVote'].values[0]\n",
    "    except Exception as ex:\n",
    "        print(f'info: {info}')\n",
    "        print(f'index count: {count}')\n",
    "        index = count\n",
    "        print(f'unable to find file: {sample}')\n",
    "        count -= 1\n",
    "    count += 1\n",
    "print(f'shape of train data: {X.shape}')\n",
    "print(f'shape of labels: {Y.shape}')"
   ]
  },
  {
   "cell_type": "code",
   "execution_count": 3,
   "metadata": {
    "id": "n60PZXht_tv-"
   },
   "outputs": [
    {
     "name": "stdout",
     "output_type": "stream",
     "text": [
      "shape of train data: (7442, 6)\n",
      "shape of labels: (7442,)\n",
      "['N' '0.0']\n",
      "New X shape: (7441, 6)\n",
      "New Y shape: (7441,)\n",
      "Example feature: [7.25388728e+01 2.79622457e+02 1.54880632e+02 4.40623751e-03\n",
      " 5.49128167e-02 1.39149548e-02]\n",
      "Last Y to check: N\n",
      "min duration: 1.2679818594104308\n",
      "max duration: 5.005034013605442\n",
      "num classes: 39\n",
      "classes: ['A' 'A:D' 'A:D:F:N' 'A:D:F:N:S' 'A:D:H:N' 'A:D:N' 'A:D:N:S' 'A:F' 'A:F:N'\n",
      " 'A:H' 'A:H:N' 'A:N' 'A:N:S' 'A:S' 'D' 'D:F' 'D:F:H:N' 'D:F:N' 'D:F:N:S'\n",
      " 'D:F:S' 'D:H' 'D:H:N' 'D:N' 'D:N:S' 'D:S' 'F' 'F:H' 'F:H:N' 'F:H:N:S'\n",
      " 'F:N' 'F:N:S' 'F:S' 'H' 'H:N' 'H:N:S' 'H:S' 'N' 'N:S' 'S']\n",
      "shape of transformed labels: (7441,)\n"
     ]
    }
   ],
   "source": [
    "#For Logistic Regression, can use sklearn.linear_model.LogisticRegression\n",
    "# !pip install -U scikit-learn\n",
    "# import sklearn\n",
    "# from sklearn.linear_model import LogisticRegression\n",
    "# Remove the file that wasn't in results\n",
    "print(f'shape of train data: {X.shape}')\n",
    "print(f'shape of labels: {Y.shape}')\n",
    "print(Y[7440:])\n",
    "\n",
    "# Remove that one example without a label\n",
    "X = np.delete(X,-1,axis=0)\n",
    "Y = Y[:-1]\n",
    "print(f'New X shape: {X.shape}')\n",
    "print(f'New Y shape: {Y.shape}')\n",
    "print(f'Example feature: {X[4,:]}')\n",
    "print(f'Last Y to check: {Y[-1]}')\n",
    "print(f'min duration: {min_dur}')\n",
    "print(f'max duration: {max_dur}')\n",
    "\n",
    "# Find number of unique labels\n",
    "num_unique = np.unique(Y).shape[0]\n",
    "print(f'num classes: {num_unique}')\n",
    "\n",
    "# Use label encoder for string labels\n",
    "le = preprocessing.LabelEncoder()\n",
    "le.fit(Y)\n",
    "print(f'classes: {le.classes_}')\n",
    "transformed_labels = le.transform(Y)\n",
    "print(f'shape of transformed labels: {transformed_labels.shape}')"
   ]
  },
  {
   "cell_type": "code",
   "execution_count": 4,
   "metadata": {},
   "outputs": [],
   "source": [
    "# Create dataset from the data\n",
    "class CREMADataset(Dataset):\n",
    "    \"\"\"\n",
    "    CREMA-D dataset to load and use\n",
    "    \"\"\"\n",
    "    def __init__(self, X, Y, num_examples, split='train', train_ratio = 0.8, val_ratio = 0.1):\n",
    "        super().__init__()\n",
    "        # X are the features, Y are the labels\n",
    "        self.Y = Y  \n",
    "        self.X = X\n",
    "        self.num_examples = num_examples\n",
    "        self.train_ratio = train_ratio\n",
    "        self.val_ratio = val_ratio\n",
    "\n",
    "        # Decides which indices belong to which split.\n",
    "        train_indices, val_indices, test_indices = self.split_data(num_examples, train_ratio=train_ratio, val_ratio=val_ratio)\n",
    "\n",
    "        if split == 'train':\n",
    "            indices = train_indices\n",
    "        elif split == 'val':\n",
    "            indices = val_indices\n",
    "        elif split == 'test':\n",
    "            indices = test_indices\n",
    "        else:\n",
    "            raise Exception(f'Split {split} not supported.')\n",
    "            \n",
    "        self.indices = indices\n",
    "\n",
    "    def split_data(self, num_examples, train_ratio = 0.8, val_ratio = 0.1):\n",
    "        \"\"\"Splits data into train, val, and test sets based on speaker. When \n",
    "        evaluating methods on the test split, we measure how well they generalize\n",
    "        to new (unseen) speakers.\n",
    "\n",
    "        Concretely, this stores and returns indices belonging to each split.\n",
    "        \"\"\"\n",
    "        # Fix seed so everyone reproduces the same splits.\n",
    "        rs = np.random.RandomState(42)\n",
    "\n",
    "        indices = np.arange(0, num_examples)\n",
    "        train_idx = int(num_examples * train_ratio)\n",
    "        num_remaining = num_examples - train_idx\n",
    "        val_idx = train_idx + int(num_remaining/2)\n",
    "        \n",
    "        print(f'train idx: {train_idx}')\n",
    "        print(f'val idx: {val_idx}')\n",
    "        \n",
    "        train_indices = indices[:train_idx]\n",
    "        val_indices = indices[train_idx:val_idx]\n",
    "        test_indices = indices[val_idx:]\n",
    "        return train_indices, val_indices, test_indices\n",
    "\n",
    "    def __getitem__(self, index):\n",
    "        index = self.indices[index]\n",
    "        return torch.FloatTensor(self.X[index,:]), torch.LongTensor([self.Y[index]])\n",
    "\n",
    "    def __len__(self):\n",
    "        \"\"\"Returns total number of utterances in the dataset.\"\"\"\n",
    "        return len(self.indices)\n"
   ]
  },
  {
   "cell_type": "code",
   "execution_count": 5,
   "metadata": {},
   "outputs": [],
   "source": [
    "# Define the transformer\n",
    "class MLP(nn.Module):\n",
    "    def __init__(self, input_dim, n_classes):\n",
    "        super().__init__()\n",
    "        # Initialize layers\n",
    "        self.linear = nn.Linear(input_dim, n_classes)\n",
    "        self.relu = nn.ReLU()\n",
    "    \n",
    "    def forward(self, x):\n",
    "        output = self.linear(x)\n",
    "        result = self.relu(output)\n",
    "        return result\n",
    "    \n",
    "class EmotionTransformerPrototype(nn.Module):\n",
    "    def __init__(self, input_dim, num_class, num_layers=2, hidden_dim=128):\n",
    "        super().__init__()\n",
    "        # Note: `batch_first=True` argument implies the inputs to the LSTM should\n",
    "        # be of shape (batch_size x T x D) instead of (T x batch_size x D).\n",
    "        self.encoder = MLP(input_dim, hidden_dim)\n",
    "        self.decoder = nn.Linear(hidden_dim, num_class)\n",
    "        self.input_dim = input_dim\n",
    "        self.num_class = num_class\n",
    "        self.num_layers = num_layers\n",
    "        self.hidden_dim = hidden_dim\n",
    "        \n",
    "    def forward(self, inputs):\n",
    "        log_probs = None\n",
    "        # Hint: This is an N-way classification problem.\n",
    "        embed = self.encoder(inputs)\n",
    "        output = self.decoder(embed)\n",
    "        # Softmax for N-way classification, followed by log to make them log_probs\n",
    "        # log_probs = F.log_softmax(output, dim=2)\n",
    "        log_probs = F.log_softmax(output, dim=-1)\n",
    "        # If log softmax --> use negative log likelihood loss\n",
    "        # If normal probabilities --> use normal cross entropy (equivalent methods!)\n",
    "        return log_probs\n",
    "  \n",
    "    def get_loss(self, probs, targets):\n",
    "        loss = None\n",
    "        # Cross entropy loss if probs is normal probabilities\n",
    "        # Negative log likelihood if probs is log probs\n",
    "        # probs = probs.view(-1)\n",
    "        # targets = targets.view(-1).type(dtype=torch.float) # --> float()\n",
    "        # loss = F.cross_entropy(probs, targets)\n",
    "        loss = F.nll_loss(probs, targets)\n",
    "        return loss\n",
    "\n",
    "class EmotionCNNTransformer(nn.Module):\n",
    "    def __init__(\n",
    "          self, input_dim, num_class, kernel_size, num_layers=2, hidden_dim=128, stride=1, padding=0):\n",
    "        super().__init__()\n",
    "        # Note: `batch_first=True` argument implies the inputs to the LSTM should\n",
    "        # be of shape (batch_size x T x D) instead of (T x batch_size x D).\n",
    "        self.encoder = nn.Conv1d(input_dim, hidden_dim, kernel_size, stride=stride, padding=padding)\n",
    "        self.decoder = nn.Linear(hidden_dim, num_class)\n",
    "        self.input_dim = input_dim\n",
    "        self.num_class = num_class\n",
    "        self.num_layers = num_layers\n",
    "        self.hidden_dim = hidden_dim\n",
    "\n",
    "    \n",
    "class EmotionRNNTransformer(nn.Module):\n",
    "    \"\"\"\n",
    "  Encoder-Decoder model to classify emotions for utterances.\n",
    "\n",
    "  Args:\n",
    "    input_dim: integer\n",
    "                number of input features\n",
    "    num_class: integer\n",
    "                number of class labels\n",
    "    num_layers: integer (default: 2)\n",
    "                number of layers in encoder LSTM\n",
    "    hidden_dim: integer (default: 128)\n",
    "                number of hidden dimensions for encoder LSTM\n",
    "    bidirectional: boolean (default: True)\n",
    "                    is the encoder LSTM bidirectional?\n",
    "  \"\"\"\n",
    "    def __init__(\n",
    "          self, input_dim, num_class, num_layers=2, hidden_dim=128,\n",
    "          bidirectional=True):\n",
    "        super().__init__()\n",
    "        # Note: `batch_first=True` argument implies the inputs to the LSTM should\n",
    "        # be of shape (batch_size x T x D) instead of (T x batch_size x D).\n",
    "        self.encoder = nn.LSTM(input_dim, hidden_dim, num_layers=num_layers, \n",
    "                                bidirectional=bidirectional, batch_first=True)\n",
    "        self.decoder = nn.Linear(hidden_dim * 2, num_class)\n",
    "        self.input_dim = input_dim\n",
    "        self.num_class = num_class\n",
    "        self.num_layers = num_layers\n",
    "        self.hidden_dim = hidden_dim\n",
    "        self.embedding_dim = hidden_dim * num_layers * 2 * \\\n",
    "                              (2 if bidirectional else 1)\n",
    "\n",
    "    def combine_h_and_c(self, h, c):\n",
    "        \"\"\"Combine the signals from RNN hidden and cell states.\"\"\"\n",
    "        batch_size = h.size(1)\n",
    "        h = h.permute(1, 0, 2).contiguous()\n",
    "        c = c.permute(1, 0, 2).contiguous()\n",
    "        h = h.view(batch_size, -1)\n",
    "        c = c.view(batch_size, -1)\n",
    "        return torch.cat([h, c], dim=1)  # just concatenate\n",
    "\n",
    "    def forward(self, inputs, input_lengths):\n",
    "        batch_size, max_length, _ = inputs.size()\n",
    "        # `torch.nn.utils.rnn.pack_padded_sequence` collapses padded sequences\n",
    "        # to a contiguous chunk\n",
    "        inputs = torch.nn.utils.rnn.pack_padded_sequence(\n",
    "            inputs, input_lengths.cpu(), batch_first=True, enforce_sorted=False)\n",
    "        log_probs = None\n",
    "        h, c = None, None\n",
    "        ############################ START OF YOUR CODE ############################\n",
    "        # TODO(2.1)\n",
    "        # Hint:\n",
    "        # - Refer to https://pytorch.org/docs/stable/nn.html\n",
    "        # - Use `self.encoder` to get the encodings output which is of shape\n",
    "        #   (batch_size, max_length, num_directions*hidden_dim) and the\n",
    "        #   hidden states and cell states which are both of shape\n",
    "        #   (batch_size, num_layers*num_directions, hidden_dim)\n",
    "        # - Pad outputs with `0.` using `torch.nn.utils.rnn.pad_packed_sequence`\n",
    "        #   (turn on batch_first and set total_length as max_length).\n",
    "        # - Apply 50% dropout.\n",
    "        # - Use `self.decoder` to take the embeddings sequence and return\n",
    "        #   probabilities for each character.\n",
    "        # - Make sure to then convert to log probabilities.\n",
    "\n",
    "        # Get encodings\n",
    "        encodings, (h, c) = self.encoder(inputs)\n",
    "\n",
    "        # Pad outputs with '0'\n",
    "        padded, lengths = torch.nn.utils.rnn.pad_packed_sequence(encodings, batch_first=True, total_length=max_length)\n",
    "\n",
    "        # Apply dropout\n",
    "        dropout = nn.Dropout(p=0.5)\n",
    "        dropped_padded = dropout(padded)\n",
    "\n",
    "        # Decode to get probabilies dimensions (batch_size, time steps, num chars <vocab>)\n",
    "        probabilities = self.decoder(dropped_padded)\n",
    "\n",
    "        # Log probabilities\n",
    "        # dim=2 because softmax over the vocabulary dimension. dim=1 is over time steps\n",
    "        log_probs = F.log_softmax(probabilities, dim=2)\n",
    "\n",
    "        ############################# END OF YOUR CODE #############################\n",
    "\n",
    "        # The extracted embedding is not used for the ASR task but will be\n",
    "        # needed for other auxiliary tasks.\n",
    "        embedding = self.combine_h_and_c(h, c)\n",
    "        return log_probs, embedding\n",
    "\n",
    "    def get_loss(self, log_probs, targets):\n",
    "            # cross-entropy for softmax/negative log likelihood loss for log softmax\n",
    "        return F.nll_loss(probs, targets)\n",
    "\n",
    "    def decode(self, log_probs, input_lengths, labels, label_lengths):\n",
    "        # Use greedy decoding.\n",
    "        decoded = torch.argmax(log_probs, dim=2)\n",
    "        batch_size = decoded.size(0)\n",
    "\n",
    "        hypothesis_lengths = input_lengths.cpu().numpy().tolist()\n",
    "        if labels is None: # Run at inference time.\n",
    "          references, reference_lengths = None, None\n",
    "        else:\n",
    "          references = labels.cpu().numpy().tolist()\n",
    "          reference_lengths = label_lengths.cpu().numpy().tolist()\n",
    "\n",
    "        return hypotheses, hypothesis_lengths, references, reference_lengths"
   ]
  },
  {
   "cell_type": "code",
   "execution_count": 6,
   "metadata": {},
   "outputs": [
    {
     "name": "stdout",
     "output_type": "stream",
     "text": [
      "train idx: 5952\n",
      "val idx: 6696\n",
      "train idx: 5952\n",
      "val idx: 6696\n",
      "train idx: 5952\n",
      "val idx: 6696\n",
      "5952\n",
      "744\n",
      "745\n",
      "(tensor([6.8573e+01, 2.7087e+02, 1.8743e+02, 3.4345e-03, 1.8924e-02, 8.0639e-03]), tensor([36]))\n",
      "(tensor([6.8139e+01, 7.0053e+02, 2.0496e+02, 3.7657e-03, 8.5794e-02, 2.4723e-02]), tensor([36]))\n"
     ]
    }
   ],
   "source": [
    "# Set up the dataloaders\n",
    "train_dataset = CREMADataset(X, transformed_labels, X.shape[0], split='train')\n",
    "val_dataset = CREMADataset(X, transformed_labels, X.shape[0], split='val')\n",
    "test_dataset = CREMADataset(X, transformed_labels, X.shape[0], split='test')\n",
    "\n",
    "# Check dataset length\n",
    "print(len(train_dataset))\n",
    "print(len(val_dataset))\n",
    "print(len(test_dataset))\n",
    "\n",
    "# Check data\n",
    "print(train_dataset[0])\n",
    "print(test_dataset[0])\n",
    "\n",
    "# Set dataloaders\n",
    "batch_size = 16\n",
    "train_loader = DataLoader(train_dataset, batch_size=batch_size, shuffle=True)\n",
    "val_loader = DataLoader(val_dataset, batch_size=batch_size, shuffle=False)\n",
    "test_loader = DataLoader(test_dataset, batch_size=batch_size, shuffle=False)"
   ]
  },
  {
   "cell_type": "code",
   "execution_count": 7,
   "metadata": {
    "scrolled": false
   },
   "outputs": [
    {
     "name": "stderr",
     "output_type": "stream",
     "text": [
      "  1%|          | 1/100 [00:01<01:43,  1.05s/it]"
     ]
    },
    {
     "name": "stdout",
     "output_type": "stream",
     "text": [
      "Epoch 0 - Training loss: 12.606 , Training Accuracy: 0.375\n",
      "Epoch 0 - Validation loss: 6.621 , Validation Accuracy: 0.499\n"
     ]
    },
    {
     "name": "stderr",
     "output_type": "stream",
     "text": [
      "\r",
      "  2%|▏         | 2/100 [00:02<01:38,  1.01s/it]"
     ]
    },
    {
     "name": "stdout",
     "output_type": "stream",
     "text": [
      "Epoch 1 - Training loss: 6.607 , Training Accuracy: 0.814\n"
     ]
    },
    {
     "name": "stderr",
     "output_type": "stream",
     "text": [
      "\r",
      "  3%|▎         | 3/100 [00:03<01:38,  1.01s/it]"
     ]
    },
    {
     "name": "stdout",
     "output_type": "stream",
     "text": [
      "Epoch 2 - Training loss: 6.405 , Training Accuracy: 1.245\n"
     ]
    },
    {
     "name": "stderr",
     "output_type": "stream",
     "text": [
      "\r",
      "  4%|▍         | 4/100 [00:04<01:38,  1.02s/it]"
     ]
    },
    {
     "name": "stdout",
     "output_type": "stream",
     "text": [
      "Epoch 3 - Training loss: 6.253 , Training Accuracy: 1.696\n"
     ]
    },
    {
     "name": "stderr",
     "output_type": "stream",
     "text": [
      "\r",
      "  5%|▌         | 5/100 [00:05<01:37,  1.02s/it]"
     ]
    },
    {
     "name": "stdout",
     "output_type": "stream",
     "text": [
      "Epoch 4 - Training loss: 6.925 , Training Accuracy: 2.133\n"
     ]
    },
    {
     "name": "stderr",
     "output_type": "stream",
     "text": [
      "\r",
      "  6%|▌         | 6/100 [00:06<01:37,  1.04s/it]"
     ]
    },
    {
     "name": "stdout",
     "output_type": "stream",
     "text": [
      "Epoch 5 - Training loss: 6.142 , Training Accuracy: 2.594\n",
      "Epoch 5 - Validation loss: 6.253 , Validation Accuracy: 0.505\n"
     ]
    },
    {
     "name": "stderr",
     "output_type": "stream",
     "text": [
      "\r",
      "  7%|▋         | 7/100 [00:07<01:37,  1.04s/it]"
     ]
    },
    {
     "name": "stdout",
     "output_type": "stream",
     "text": [
      "Epoch 6 - Training loss: 5.660 , Training Accuracy: 3.048\n"
     ]
    },
    {
     "name": "stderr",
     "output_type": "stream",
     "text": [
      "\r",
      "  8%|▊         | 8/100 [00:08<01:35,  1.04s/it]"
     ]
    },
    {
     "name": "stdout",
     "output_type": "stream",
     "text": [
      "Epoch 7 - Training loss: 5.698 , Training Accuracy: 3.503\n"
     ]
    },
    {
     "name": "stderr",
     "output_type": "stream",
     "text": [
      "\r",
      "  9%|▉         | 9/100 [00:09<01:34,  1.03s/it]"
     ]
    },
    {
     "name": "stdout",
     "output_type": "stream",
     "text": [
      "Epoch 8 - Training loss: 5.354 , Training Accuracy: 3.954\n"
     ]
    },
    {
     "name": "stderr",
     "output_type": "stream",
     "text": [
      "\r",
      " 10%|█         | 10/100 [00:10<01:33,  1.04s/it]"
     ]
    },
    {
     "name": "stdout",
     "output_type": "stream",
     "text": [
      "Epoch 9 - Training loss: 4.647 , Training Accuracy: 4.426\n"
     ]
    },
    {
     "name": "stderr",
     "output_type": "stream",
     "text": [
      "\r",
      " 11%|█         | 11/100 [00:11<01:33,  1.05s/it]"
     ]
    },
    {
     "name": "stdout",
     "output_type": "stream",
     "text": [
      "Epoch 10 - Training loss: 4.959 , Training Accuracy: 4.884\n",
      "Epoch 10 - Validation loss: 4.728 , Validation Accuracy: 0.471\n"
     ]
    },
    {
     "name": "stderr",
     "output_type": "stream",
     "text": [
      "\r",
      " 12%|█▏        | 12/100 [00:12<01:31,  1.04s/it]"
     ]
    },
    {
     "name": "stdout",
     "output_type": "stream",
     "text": [
      "Epoch 11 - Training loss: 4.550 , Training Accuracy: 5.355\n"
     ]
    },
    {
     "name": "stderr",
     "output_type": "stream",
     "text": [
      "\r",
      " 13%|█▎        | 13/100 [00:13<01:30,  1.04s/it]"
     ]
    },
    {
     "name": "stdout",
     "output_type": "stream",
     "text": [
      "Epoch 12 - Training loss: 4.134 , Training Accuracy: 5.833\n"
     ]
    },
    {
     "name": "stderr",
     "output_type": "stream",
     "text": [
      "\r",
      " 14%|█▍        | 14/100 [00:14<01:28,  1.03s/it]"
     ]
    },
    {
     "name": "stdout",
     "output_type": "stream",
     "text": [
      "Epoch 13 - Training loss: 4.356 , Training Accuracy: 6.307\n"
     ]
    },
    {
     "name": "stderr",
     "output_type": "stream",
     "text": [
      "\r",
      " 15%|█▌        | 15/100 [00:15<01:27,  1.03s/it]"
     ]
    },
    {
     "name": "stdout",
     "output_type": "stream",
     "text": [
      "Epoch 14 - Training loss: 4.219 , Training Accuracy: 6.787\n"
     ]
    },
    {
     "name": "stderr",
     "output_type": "stream",
     "text": [
      "\r",
      " 16%|█▌        | 16/100 [00:16<01:27,  1.04s/it]"
     ]
    },
    {
     "name": "stdout",
     "output_type": "stream",
     "text": [
      "Epoch 15 - Training loss: 3.915 , Training Accuracy: 7.272\n",
      "Epoch 15 - Validation loss: 2.713 , Validation Accuracy: 0.484\n"
     ]
    },
    {
     "name": "stderr",
     "output_type": "stream",
     "text": [
      "\r",
      " 17%|█▋        | 17/100 [00:17<01:25,  1.03s/it]"
     ]
    },
    {
     "name": "stdout",
     "output_type": "stream",
     "text": [
      "Epoch 16 - Training loss: 3.328 , Training Accuracy: 7.762\n"
     ]
    },
    {
     "name": "stderr",
     "output_type": "stream",
     "text": [
      "\r",
      " 18%|█▊        | 18/100 [00:18<01:24,  1.03s/it]"
     ]
    },
    {
     "name": "stdout",
     "output_type": "stream",
     "text": [
      "Epoch 17 - Training loss: 3.489 , Training Accuracy: 8.248\n"
     ]
    },
    {
     "name": "stderr",
     "output_type": "stream",
     "text": [
      "\r",
      " 19%|█▉        | 19/100 [00:19<01:23,  1.03s/it]"
     ]
    },
    {
     "name": "stdout",
     "output_type": "stream",
     "text": [
      "Epoch 18 - Training loss: 3.617 , Training Accuracy: 8.735\n"
     ]
    },
    {
     "name": "stderr",
     "output_type": "stream",
     "text": [
      "\r",
      " 20%|██        | 20/100 [00:20<01:22,  1.03s/it]"
     ]
    },
    {
     "name": "stdout",
     "output_type": "stream",
     "text": [
      "Epoch 19 - Training loss: 3.152 , Training Accuracy: 9.238\n"
     ]
    },
    {
     "name": "stderr",
     "output_type": "stream",
     "text": [
      "\r",
      " 21%|██        | 21/100 [00:21<01:21,  1.04s/it]"
     ]
    },
    {
     "name": "stdout",
     "output_type": "stream",
     "text": [
      "Epoch 20 - Training loss: 3.350 , Training Accuracy: 9.726\n",
      "Epoch 20 - Validation loss: 2.584 , Validation Accuracy: 0.388\n"
     ]
    },
    {
     "name": "stderr",
     "output_type": "stream",
     "text": [
      "\r",
      " 22%|██▏       | 22/100 [00:22<01:19,  1.02s/it]"
     ]
    },
    {
     "name": "stdout",
     "output_type": "stream",
     "text": [
      "Epoch 21 - Training loss: 3.245 , Training Accuracy: 10.220\n"
     ]
    },
    {
     "name": "stderr",
     "output_type": "stream",
     "text": [
      "\r",
      " 23%|██▎       | 23/100 [00:23<01:19,  1.03s/it]"
     ]
    },
    {
     "name": "stdout",
     "output_type": "stream",
     "text": [
      "Epoch 22 - Training loss: 2.913 , Training Accuracy: 10.714\n"
     ]
    },
    {
     "name": "stderr",
     "output_type": "stream",
     "text": [
      "\r",
      " 24%|██▍       | 24/100 [00:24<01:17,  1.01s/it]"
     ]
    },
    {
     "name": "stdout",
     "output_type": "stream",
     "text": [
      "Epoch 23 - Training loss: 2.861 , Training Accuracy: 11.221\n"
     ]
    },
    {
     "name": "stderr",
     "output_type": "stream",
     "text": [
      "\r",
      " 25%|██▌       | 25/100 [00:25<01:15,  1.01s/it]"
     ]
    },
    {
     "name": "stdout",
     "output_type": "stream",
     "text": [
      "Epoch 24 - Training loss: 2.851 , Training Accuracy: 11.722\n"
     ]
    },
    {
     "name": "stderr",
     "output_type": "stream",
     "text": [
      "\r",
      " 26%|██▌       | 26/100 [00:26<01:15,  1.02s/it]"
     ]
    },
    {
     "name": "stdout",
     "output_type": "stream",
     "text": [
      "Epoch 25 - Training loss: 2.778 , Training Accuracy: 12.226\n",
      "Epoch 25 - Validation loss: 2.338 , Validation Accuracy: 0.523\n"
     ]
    },
    {
     "name": "stderr",
     "output_type": "stream",
     "text": [
      "\r",
      " 27%|██▋       | 27/100 [00:27<01:14,  1.02s/it]"
     ]
    },
    {
     "name": "stdout",
     "output_type": "stream",
     "text": [
      "Epoch 26 - Training loss: 2.633 , Training Accuracy: 12.733\n"
     ]
    },
    {
     "name": "stderr",
     "output_type": "stream",
     "text": [
      "\r",
      " 28%|██▊       | 28/100 [00:28<01:12,  1.01s/it]"
     ]
    },
    {
     "name": "stdout",
     "output_type": "stream",
     "text": [
      "Epoch 27 - Training loss: 2.633 , Training Accuracy: 13.248\n"
     ]
    },
    {
     "name": "stderr",
     "output_type": "stream",
     "text": [
      "\r",
      " 29%|██▉       | 29/100 [00:29<01:11,  1.01s/it]"
     ]
    },
    {
     "name": "stdout",
     "output_type": "stream",
     "text": [
      "Epoch 28 - Training loss: 2.468 , Training Accuracy: 13.761\n"
     ]
    },
    {
     "name": "stderr",
     "output_type": "stream",
     "text": [
      "\r",
      " 30%|███       | 30/100 [00:30<01:11,  1.02s/it]"
     ]
    },
    {
     "name": "stdout",
     "output_type": "stream",
     "text": [
      "Epoch 29 - Training loss: 2.425 , Training Accuracy: 14.277\n"
     ]
    },
    {
     "name": "stderr",
     "output_type": "stream",
     "text": [
      "\r",
      " 31%|███       | 31/100 [00:31<01:11,  1.03s/it]"
     ]
    },
    {
     "name": "stdout",
     "output_type": "stream",
     "text": [
      "Epoch 30 - Training loss: 2.411 , Training Accuracy: 14.801\n",
      "Epoch 30 - Validation loss: 2.660 , Validation Accuracy: 0.543\n"
     ]
    },
    {
     "name": "stderr",
     "output_type": "stream",
     "text": [
      "\r",
      " 32%|███▏      | 32/100 [00:32<01:09,  1.02s/it]"
     ]
    },
    {
     "name": "stdout",
     "output_type": "stream",
     "text": [
      "Epoch 31 - Training loss: 2.354 , Training Accuracy: 15.324\n"
     ]
    },
    {
     "name": "stderr",
     "output_type": "stream",
     "text": [
      "\r",
      " 33%|███▎      | 33/100 [00:33<01:08,  1.02s/it]"
     ]
    },
    {
     "name": "stdout",
     "output_type": "stream",
     "text": [
      "Epoch 32 - Training loss: 2.208 , Training Accuracy: 15.849\n"
     ]
    },
    {
     "name": "stderr",
     "output_type": "stream",
     "text": [
      "\r",
      " 34%|███▍      | 34/100 [00:34<01:07,  1.03s/it]"
     ]
    },
    {
     "name": "stdout",
     "output_type": "stream",
     "text": [
      "Epoch 33 - Training loss: 2.169 , Training Accuracy: 16.378\n"
     ]
    },
    {
     "name": "stderr",
     "output_type": "stream",
     "text": [
      "\r",
      " 35%|███▌      | 35/100 [00:35<01:06,  1.02s/it]"
     ]
    },
    {
     "name": "stdout",
     "output_type": "stream",
     "text": [
      "Epoch 34 - Training loss: 2.196 , Training Accuracy: 16.902\n"
     ]
    },
    {
     "name": "stderr",
     "output_type": "stream",
     "text": [
      "\r",
      " 36%|███▌      | 36/100 [00:37<01:06,  1.03s/it]"
     ]
    },
    {
     "name": "stdout",
     "output_type": "stream",
     "text": [
      "Epoch 35 - Training loss: 2.149 , Training Accuracy: 17.436\n",
      "Epoch 35 - Validation loss: 2.381 , Validation Accuracy: 0.447\n"
     ]
    },
    {
     "name": "stderr",
     "output_type": "stream",
     "text": [
      "\r",
      " 37%|███▋      | 37/100 [00:38<01:04,  1.02s/it]"
     ]
    },
    {
     "name": "stdout",
     "output_type": "stream",
     "text": [
      "Epoch 36 - Training loss: 2.114 , Training Accuracy: 17.968\n"
     ]
    },
    {
     "name": "stderr",
     "output_type": "stream",
     "text": [
      "\r",
      " 38%|███▊      | 38/100 [00:39<01:03,  1.02s/it]"
     ]
    },
    {
     "name": "stdout",
     "output_type": "stream",
     "text": [
      "Epoch 37 - Training loss: 2.067 , Training Accuracy: 18.499\n"
     ]
    },
    {
     "name": "stderr",
     "output_type": "stream",
     "text": [
      "\r",
      " 39%|███▉      | 39/100 [00:40<01:02,  1.03s/it]"
     ]
    },
    {
     "name": "stdout",
     "output_type": "stream",
     "text": [
      "Epoch 38 - Training loss: 1.997 , Training Accuracy: 19.034\n"
     ]
    },
    {
     "name": "stderr",
     "output_type": "stream",
     "text": [
      "\r",
      " 40%|████      | 40/100 [00:41<01:01,  1.02s/it]"
     ]
    },
    {
     "name": "stdout",
     "output_type": "stream",
     "text": [
      "Epoch 39 - Training loss: 1.955 , Training Accuracy: 19.576\n"
     ]
    },
    {
     "name": "stderr",
     "output_type": "stream",
     "text": [
      "\r",
      " 41%|████      | 41/100 [00:42<01:00,  1.03s/it]"
     ]
    },
    {
     "name": "stdout",
     "output_type": "stream",
     "text": [
      "Epoch 40 - Training loss: 1.926 , Training Accuracy: 20.118\n",
      "Epoch 40 - Validation loss: 1.786 , Validation Accuracy: 0.557\n"
     ]
    },
    {
     "name": "stderr",
     "output_type": "stream",
     "text": [
      "\r",
      " 42%|████▏     | 42/100 [00:43<00:59,  1.03s/it]"
     ]
    },
    {
     "name": "stdout",
     "output_type": "stream",
     "text": [
      "Epoch 41 - Training loss: 1.863 , Training Accuracy: 20.663\n"
     ]
    },
    {
     "name": "stderr",
     "output_type": "stream",
     "text": [
      "\r",
      " 43%|████▎     | 43/100 [00:44<00:58,  1.02s/it]"
     ]
    },
    {
     "name": "stdout",
     "output_type": "stream",
     "text": [
      "Epoch 42 - Training loss: 1.853 , Training Accuracy: 21.209\n"
     ]
    },
    {
     "name": "stderr",
     "output_type": "stream",
     "text": [
      "\r",
      " 44%|████▍     | 44/100 [00:45<00:57,  1.02s/it]"
     ]
    },
    {
     "name": "stdout",
     "output_type": "stream",
     "text": [
      "Epoch 43 - Training loss: 1.801 , Training Accuracy: 21.762\n"
     ]
    },
    {
     "name": "stderr",
     "output_type": "stream",
     "text": [
      "\r",
      " 45%|████▌     | 45/100 [00:46<00:56,  1.03s/it]"
     ]
    },
    {
     "name": "stdout",
     "output_type": "stream",
     "text": [
      "Epoch 44 - Training loss: 1.785 , Training Accuracy: 22.315\n"
     ]
    },
    {
     "name": "stderr",
     "output_type": "stream",
     "text": [
      "\r",
      " 46%|████▌     | 46/100 [00:47<00:55,  1.03s/it]"
     ]
    },
    {
     "name": "stdout",
     "output_type": "stream",
     "text": [
      "Epoch 45 - Training loss: 1.790 , Training Accuracy: 22.864\n",
      "Epoch 45 - Validation loss: 1.845 , Validation Accuracy: 0.475\n"
     ]
    },
    {
     "name": "stderr",
     "output_type": "stream",
     "text": [
      "\r",
      " 47%|████▋     | 47/100 [00:48<00:54,  1.03s/it]"
     ]
    },
    {
     "name": "stdout",
     "output_type": "stream",
     "text": [
      "Epoch 46 - Training loss: 1.785 , Training Accuracy: 23.414\n"
     ]
    },
    {
     "name": "stderr",
     "output_type": "stream",
     "text": [
      "\r",
      " 48%|████▊     | 48/100 [00:49<00:53,  1.03s/it]"
     ]
    },
    {
     "name": "stdout",
     "output_type": "stream",
     "text": [
      "Epoch 47 - Training loss: 1.691 , Training Accuracy: 23.972\n"
     ]
    },
    {
     "name": "stderr",
     "output_type": "stream",
     "text": [
      "\r",
      " 49%|████▉     | 49/100 [00:50<00:52,  1.02s/it]"
     ]
    },
    {
     "name": "stdout",
     "output_type": "stream",
     "text": [
      "Epoch 48 - Training loss: 1.708 , Training Accuracy: 24.525\n"
     ]
    },
    {
     "name": "stderr",
     "output_type": "stream",
     "text": [
      "\r",
      " 50%|█████     | 50/100 [00:51<00:50,  1.02s/it]"
     ]
    },
    {
     "name": "stdout",
     "output_type": "stream",
     "text": [
      "Epoch 49 - Training loss: 1.698 , Training Accuracy: 25.076\n"
     ]
    },
    {
     "name": "stderr",
     "output_type": "stream",
     "text": [
      "\r",
      " 51%|█████     | 51/100 [00:52<00:51,  1.05s/it]"
     ]
    },
    {
     "name": "stdout",
     "output_type": "stream",
     "text": [
      "Epoch 50 - Training loss: 1.665 , Training Accuracy: 25.631\n",
      "Epoch 50 - Validation loss: 1.733 , Validation Accuracy: 0.574\n"
     ]
    },
    {
     "name": "stderr",
     "output_type": "stream",
     "text": [
      "\r",
      " 52%|█████▏    | 52/100 [00:53<00:49,  1.03s/it]"
     ]
    },
    {
     "name": "stdout",
     "output_type": "stream",
     "text": [
      "Epoch 51 - Training loss: 1.669 , Training Accuracy: 26.189\n"
     ]
    },
    {
     "name": "stderr",
     "output_type": "stream",
     "text": [
      "\r",
      " 53%|█████▎    | 53/100 [00:54<00:48,  1.02s/it]"
     ]
    },
    {
     "name": "stdout",
     "output_type": "stream",
     "text": [
      "Epoch 52 - Training loss: 1.639 , Training Accuracy: 26.750\n"
     ]
    },
    {
     "name": "stderr",
     "output_type": "stream",
     "text": [
      "\r",
      " 54%|█████▍    | 54/100 [00:55<00:47,  1.03s/it]"
     ]
    },
    {
     "name": "stdout",
     "output_type": "stream",
     "text": [
      "Epoch 53 - Training loss: 1.618 , Training Accuracy: 27.311\n"
     ]
    },
    {
     "name": "stderr",
     "output_type": "stream",
     "text": [
      "\r",
      " 55%|█████▌    | 55/100 [00:56<00:46,  1.03s/it]"
     ]
    },
    {
     "name": "stdout",
     "output_type": "stream",
     "text": [
      "Epoch 54 - Training loss: 1.616 , Training Accuracy: 27.872\n"
     ]
    },
    {
     "name": "stderr",
     "output_type": "stream",
     "text": [
      "\r",
      " 56%|█████▌    | 56/100 [00:57<00:45,  1.04s/it]"
     ]
    },
    {
     "name": "stdout",
     "output_type": "stream",
     "text": [
      "Epoch 55 - Training loss: 1.607 , Training Accuracy: 28.433\n",
      "Epoch 55 - Validation loss: 1.694 , Validation Accuracy: 0.560\n"
     ]
    },
    {
     "name": "stderr",
     "output_type": "stream",
     "text": [
      "\r",
      " 57%|█████▋    | 57/100 [00:58<00:43,  1.02s/it]"
     ]
    },
    {
     "name": "stdout",
     "output_type": "stream",
     "text": [
      "Epoch 56 - Training loss: 1.591 , Training Accuracy: 29.000\n"
     ]
    },
    {
     "name": "stderr",
     "output_type": "stream",
     "text": [
      "\r",
      " 58%|█████▊    | 58/100 [00:59<00:42,  1.01s/it]"
     ]
    },
    {
     "name": "stdout",
     "output_type": "stream",
     "text": [
      "Epoch 57 - Training loss: 1.584 , Training Accuracy: 29.568\n"
     ]
    },
    {
     "name": "stderr",
     "output_type": "stream",
     "text": [
      "\r",
      " 59%|█████▉    | 59/100 [01:00<00:41,  1.02s/it]"
     ]
    },
    {
     "name": "stdout",
     "output_type": "stream",
     "text": [
      "Epoch 58 - Training loss: 1.577 , Training Accuracy: 30.141\n"
     ]
    },
    {
     "name": "stderr",
     "output_type": "stream",
     "text": [
      "\r",
      " 60%|██████    | 60/100 [01:01<00:40,  1.01s/it]"
     ]
    },
    {
     "name": "stdout",
     "output_type": "stream",
     "text": [
      "Epoch 59 - Training loss: 1.577 , Training Accuracy: 30.707\n"
     ]
    },
    {
     "name": "stderr",
     "output_type": "stream",
     "text": [
      "\r",
      " 61%|██████    | 61/100 [01:02<00:39,  1.02s/it]"
     ]
    },
    {
     "name": "stdout",
     "output_type": "stream",
     "text": [
      "Epoch 60 - Training loss: 1.564 , Training Accuracy: 31.280\n",
      "Epoch 60 - Validation loss: 1.707 , Validation Accuracy: 0.560\n"
     ]
    },
    {
     "name": "stderr",
     "output_type": "stream",
     "text": [
      "\r",
      " 62%|██████▏   | 62/100 [01:03<00:38,  1.02s/it]"
     ]
    },
    {
     "name": "stdout",
     "output_type": "stream",
     "text": [
      "Epoch 61 - Training loss: 1.581 , Training Accuracy: 31.847\n"
     ]
    },
    {
     "name": "stderr",
     "output_type": "stream",
     "text": [
      "\r",
      " 63%|██████▎   | 63/100 [01:04<00:37,  1.01s/it]"
     ]
    },
    {
     "name": "stdout",
     "output_type": "stream",
     "text": [
      "Epoch 62 - Training loss: 1.558 , Training Accuracy: 32.422\n"
     ]
    },
    {
     "name": "stderr",
     "output_type": "stream",
     "text": [
      "\r",
      " 64%|██████▍   | 64/100 [01:05<00:36,  1.01s/it]"
     ]
    },
    {
     "name": "stdout",
     "output_type": "stream",
     "text": [
      "Epoch 63 - Training loss: 1.562 , Training Accuracy: 32.989\n"
     ]
    },
    {
     "name": "stderr",
     "output_type": "stream",
     "text": [
      "\r",
      " 65%|██████▌   | 65/100 [01:06<00:35,  1.01s/it]"
     ]
    },
    {
     "name": "stdout",
     "output_type": "stream",
     "text": [
      "Epoch 64 - Training loss: 1.551 , Training Accuracy: 33.565\n"
     ]
    },
    {
     "name": "stderr",
     "output_type": "stream",
     "text": [
      "\r",
      " 66%|██████▌   | 66/100 [01:07<00:35,  1.03s/it]"
     ]
    },
    {
     "name": "stdout",
     "output_type": "stream",
     "text": [
      "Epoch 65 - Training loss: 1.544 , Training Accuracy: 34.136\n",
      "Epoch 65 - Validation loss: 1.654 , Validation Accuracy: 0.565\n"
     ]
    },
    {
     "name": "stderr",
     "output_type": "stream",
     "text": [
      "\r",
      " 67%|██████▋   | 67/100 [01:08<00:33,  1.02s/it]"
     ]
    },
    {
     "name": "stdout",
     "output_type": "stream",
     "text": [
      "Epoch 66 - Training loss: 1.543 , Training Accuracy: 34.710\n"
     ]
    },
    {
     "name": "stderr",
     "output_type": "stream",
     "text": [
      "\r",
      " 68%|██████▊   | 68/100 [01:09<00:32,  1.02s/it]"
     ]
    },
    {
     "name": "stdout",
     "output_type": "stream",
     "text": [
      "Epoch 67 - Training loss: 1.546 , Training Accuracy: 35.284\n"
     ]
    },
    {
     "name": "stderr",
     "output_type": "stream",
     "text": [
      "\r",
      " 69%|██████▉   | 69/100 [01:10<00:31,  1.02s/it]"
     ]
    },
    {
     "name": "stdout",
     "output_type": "stream",
     "text": [
      "Epoch 68 - Training loss: 1.536 , Training Accuracy: 35.869\n"
     ]
    },
    {
     "name": "stderr",
     "output_type": "stream",
     "text": [
      "\r",
      " 70%|███████   | 70/100 [01:11<00:30,  1.02s/it]"
     ]
    },
    {
     "name": "stdout",
     "output_type": "stream",
     "text": [
      "Epoch 69 - Training loss: 1.531 , Training Accuracy: 36.447\n"
     ]
    },
    {
     "name": "stderr",
     "output_type": "stream",
     "text": [
      "\r",
      " 71%|███████   | 71/100 [01:12<00:30,  1.04s/it]"
     ]
    },
    {
     "name": "stdout",
     "output_type": "stream",
     "text": [
      "Epoch 70 - Training loss: 1.530 , Training Accuracy: 37.029\n",
      "Epoch 70 - Validation loss: 1.691 , Validation Accuracy: 0.551\n"
     ]
    },
    {
     "name": "stderr",
     "output_type": "stream",
     "text": [
      "\r",
      " 72%|███████▏  | 72/100 [01:13<00:28,  1.04s/it]"
     ]
    },
    {
     "name": "stdout",
     "output_type": "stream",
     "text": [
      "Epoch 71 - Training loss: 1.544 , Training Accuracy: 37.606\n"
     ]
    },
    {
     "name": "stderr",
     "output_type": "stream",
     "text": [
      "\r",
      " 73%|███████▎  | 73/100 [01:14<00:27,  1.03s/it]"
     ]
    },
    {
     "name": "stdout",
     "output_type": "stream",
     "text": [
      "Epoch 72 - Training loss: 1.535 , Training Accuracy: 38.183\n"
     ]
    },
    {
     "name": "stderr",
     "output_type": "stream",
     "text": [
      "\r",
      " 74%|███████▍  | 74/100 [01:16<00:29,  1.12s/it]"
     ]
    },
    {
     "name": "stdout",
     "output_type": "stream",
     "text": [
      "Epoch 73 - Training loss: 1.532 , Training Accuracy: 38.763\n"
     ]
    },
    {
     "name": "stderr",
     "output_type": "stream",
     "text": [
      "\r",
      " 75%|███████▌  | 75/100 [01:17<00:27,  1.09s/it]"
     ]
    },
    {
     "name": "stdout",
     "output_type": "stream",
     "text": [
      "Epoch 74 - Training loss: 1.519 , Training Accuracy: 39.347\n"
     ]
    },
    {
     "name": "stderr",
     "output_type": "stream",
     "text": [
      "\r",
      " 76%|███████▌  | 76/100 [01:18<00:26,  1.08s/it]"
     ]
    },
    {
     "name": "stdout",
     "output_type": "stream",
     "text": [
      "Epoch 75 - Training loss: 1.517 , Training Accuracy: 39.932\n",
      "Epoch 75 - Validation loss: 1.662 , Validation Accuracy: 0.559\n"
     ]
    },
    {
     "name": "stderr",
     "output_type": "stream",
     "text": [
      "\r",
      " 77%|███████▋  | 77/100 [01:19<00:24,  1.06s/it]"
     ]
    },
    {
     "name": "stdout",
     "output_type": "stream",
     "text": [
      "Epoch 76 - Training loss: 1.523 , Training Accuracy: 40.513\n"
     ]
    },
    {
     "name": "stderr",
     "output_type": "stream",
     "text": [
      "\r",
      " 78%|███████▊  | 78/100 [01:20<00:22,  1.04s/it]"
     ]
    },
    {
     "name": "stdout",
     "output_type": "stream",
     "text": [
      "Epoch 77 - Training loss: 1.516 , Training Accuracy: 41.095\n"
     ]
    },
    {
     "name": "stderr",
     "output_type": "stream",
     "text": [
      "\r",
      " 79%|███████▉  | 79/100 [01:21<00:21,  1.03s/it]"
     ]
    },
    {
     "name": "stdout",
     "output_type": "stream",
     "text": [
      "Epoch 78 - Training loss: 1.521 , Training Accuracy: 41.675\n"
     ]
    },
    {
     "name": "stderr",
     "output_type": "stream",
     "text": [
      "\r",
      " 80%|████████  | 80/100 [01:22<00:20,  1.02s/it]"
     ]
    },
    {
     "name": "stdout",
     "output_type": "stream",
     "text": [
      "Epoch 79 - Training loss: 1.531 , Training Accuracy: 42.254\n"
     ]
    },
    {
     "name": "stderr",
     "output_type": "stream",
     "text": [
      "\r",
      " 81%|████████  | 81/100 [01:23<00:19,  1.04s/it]"
     ]
    },
    {
     "name": "stdout",
     "output_type": "stream",
     "text": [
      "Epoch 80 - Training loss: 1.519 , Training Accuracy: 42.837\n",
      "Epoch 80 - Validation loss: 1.663 , Validation Accuracy: 0.572\n"
     ]
    },
    {
     "name": "stderr",
     "output_type": "stream",
     "text": [
      "\r",
      " 82%|████████▏ | 82/100 [01:24<00:18,  1.03s/it]"
     ]
    },
    {
     "name": "stdout",
     "output_type": "stream",
     "text": [
      "Epoch 81 - Training loss: 1.514 , Training Accuracy: 43.422\n"
     ]
    },
    {
     "name": "stderr",
     "output_type": "stream",
     "text": [
      "\r",
      " 83%|████████▎ | 83/100 [01:25<00:17,  1.03s/it]"
     ]
    },
    {
     "name": "stdout",
     "output_type": "stream",
     "text": [
      "Epoch 82 - Training loss: 1.515 , Training Accuracy: 44.007\n"
     ]
    },
    {
     "name": "stderr",
     "output_type": "stream",
     "text": [
      "\r",
      " 84%|████████▍ | 84/100 [01:26<00:16,  1.02s/it]"
     ]
    },
    {
     "name": "stdout",
     "output_type": "stream",
     "text": [
      "Epoch 83 - Training loss: 1.520 , Training Accuracy: 44.594\n"
     ]
    },
    {
     "name": "stderr",
     "output_type": "stream",
     "text": [
      "\r",
      " 85%|████████▌ | 85/100 [01:27<00:15,  1.01s/it]"
     ]
    },
    {
     "name": "stdout",
     "output_type": "stream",
     "text": [
      "Epoch 84 - Training loss: 1.509 , Training Accuracy: 45.180\n"
     ]
    },
    {
     "name": "stderr",
     "output_type": "stream",
     "text": [
      "\r",
      " 86%|████████▌ | 86/100 [01:28<00:14,  1.04s/it]"
     ]
    },
    {
     "name": "stdout",
     "output_type": "stream",
     "text": [
      "Epoch 85 - Training loss: 1.516 , Training Accuracy: 45.762\n",
      "Epoch 85 - Validation loss: 1.613 , Validation Accuracy: 0.577\n"
     ]
    },
    {
     "name": "stderr",
     "output_type": "stream",
     "text": [
      "\r",
      " 87%|████████▋ | 87/100 [01:29<00:13,  1.03s/it]"
     ]
    },
    {
     "name": "stdout",
     "output_type": "stream",
     "text": [
      "Epoch 86 - Training loss: 1.509 , Training Accuracy: 46.347\n"
     ]
    },
    {
     "name": "stderr",
     "output_type": "stream",
     "text": [
      "\r",
      " 88%|████████▊ | 88/100 [01:30<00:12,  1.03s/it]"
     ]
    },
    {
     "name": "stdout",
     "output_type": "stream",
     "text": [
      "Epoch 87 - Training loss: 1.512 , Training Accuracy: 46.933\n"
     ]
    },
    {
     "name": "stderr",
     "output_type": "stream",
     "text": [
      "\r",
      " 89%|████████▉ | 89/100 [01:31<00:11,  1.03s/it]"
     ]
    },
    {
     "name": "stdout",
     "output_type": "stream",
     "text": [
      "Epoch 88 - Training loss: 1.518 , Training Accuracy: 47.519\n"
     ]
    },
    {
     "name": "stderr",
     "output_type": "stream",
     "text": [
      "\r",
      " 90%|█████████ | 90/100 [01:32<00:10,  1.02s/it]"
     ]
    },
    {
     "name": "stdout",
     "output_type": "stream",
     "text": [
      "Epoch 89 - Training loss: 1.511 , Training Accuracy: 48.104\n"
     ]
    },
    {
     "name": "stderr",
     "output_type": "stream",
     "text": [
      "\r",
      " 91%|█████████ | 91/100 [01:33<00:09,  1.03s/it]"
     ]
    },
    {
     "name": "stdout",
     "output_type": "stream",
     "text": [
      "Epoch 90 - Training loss: 1.511 , Training Accuracy: 48.689\n",
      "Epoch 90 - Validation loss: 1.635 , Validation Accuracy: 0.584\n"
     ]
    },
    {
     "name": "stderr",
     "output_type": "stream",
     "text": [
      "\r",
      " 92%|█████████▏| 92/100 [01:34<00:08,  1.02s/it]"
     ]
    },
    {
     "name": "stdout",
     "output_type": "stream",
     "text": [
      "Epoch 91 - Training loss: 1.505 , Training Accuracy: 49.278\n"
     ]
    },
    {
     "name": "stderr",
     "output_type": "stream",
     "text": [
      "\r",
      " 93%|█████████▎| 93/100 [01:35<00:07,  1.01s/it]"
     ]
    },
    {
     "name": "stdout",
     "output_type": "stream",
     "text": [
      "Epoch 92 - Training loss: 1.512 , Training Accuracy: 49.862\n"
     ]
    },
    {
     "name": "stderr",
     "output_type": "stream",
     "text": [
      "\r",
      " 94%|█████████▍| 94/100 [01:36<00:06,  1.01s/it]"
     ]
    },
    {
     "name": "stdout",
     "output_type": "stream",
     "text": [
      "Epoch 93 - Training loss: 1.509 , Training Accuracy: 50.447\n"
     ]
    },
    {
     "name": "stderr",
     "output_type": "stream",
     "text": [
      "\r",
      " 95%|█████████▌| 95/100 [01:37<00:05,  1.01s/it]"
     ]
    },
    {
     "name": "stdout",
     "output_type": "stream",
     "text": [
      "Epoch 94 - Training loss: 1.504 , Training Accuracy: 51.036\n"
     ]
    },
    {
     "name": "stderr",
     "output_type": "stream",
     "text": [
      "\r",
      " 96%|█████████▌| 96/100 [01:38<00:04,  1.04s/it]"
     ]
    },
    {
     "name": "stdout",
     "output_type": "stream",
     "text": [
      "Epoch 95 - Training loss: 1.502 , Training Accuracy: 51.627\n",
      "Epoch 95 - Validation loss: 1.620 , Validation Accuracy: 0.570\n"
     ]
    },
    {
     "name": "stderr",
     "output_type": "stream",
     "text": [
      "\r",
      " 97%|█████████▋| 97/100 [01:39<00:03,  1.03s/it]"
     ]
    },
    {
     "name": "stdout",
     "output_type": "stream",
     "text": [
      "Epoch 96 - Training loss: 1.502 , Training Accuracy: 52.216\n"
     ]
    },
    {
     "name": "stderr",
     "output_type": "stream",
     "text": [
      "\r",
      " 98%|█████████▊| 98/100 [01:40<00:02,  1.02s/it]"
     ]
    },
    {
     "name": "stdout",
     "output_type": "stream",
     "text": [
      "Epoch 97 - Training loss: 1.503 , Training Accuracy: 52.805\n"
     ]
    },
    {
     "name": "stderr",
     "output_type": "stream",
     "text": [
      "\r",
      " 99%|█████████▉| 99/100 [01:41<00:01,  1.01s/it]"
     ]
    },
    {
     "name": "stdout",
     "output_type": "stream",
     "text": [
      "Epoch 98 - Training loss: 1.509 , Training Accuracy: 53.395\n"
     ]
    },
    {
     "name": "stderr",
     "output_type": "stream",
     "text": [
      "100%|██████████| 100/100 [01:42<00:00,  1.03s/it]"
     ]
    },
    {
     "name": "stdout",
     "output_type": "stream",
     "text": [
      "Epoch 99 - Training loss: 1.512 , Training Accuracy: 53.977\n"
     ]
    },
    {
     "name": "stderr",
     "output_type": "stream",
     "text": [
      "\n"
     ]
    }
   ],
   "source": [
    "# Set up the model\n",
    "lr = 1e-3\n",
    "weight_decay = 1e-5\n",
    "model = EmotionTransformerPrototype(num_features, num_unique).cuda()\n",
    "criterion = nn.NLLLoss()\n",
    "optim = torch.optim.AdamW(model.parameters(), lr=lr, weight_decay=weight_decay)\n",
    "\n",
    "# start training\n",
    "losses = []\n",
    "val_loss = []\n",
    "accuracies = []\n",
    "val_accuracy = []\n",
    "correct_count = 0\n",
    "\n",
    "epochs = 100\n",
    "for epoch in tqdm(range(epochs)):\n",
    "    model.train()\n",
    "    running_loss = 0\n",
    "    for x,y in train_loader:\n",
    "        optim.zero_grad()\n",
    "        \n",
    "        x_cuda = x.cuda()\n",
    "        y_cuda = torch.squeeze(y).cuda()\n",
    "        \n",
    "        # Output from mode\n",
    "        output = model(x_cuda)\n",
    "        output = output.cuda()\n",
    "        \n",
    "        # Calculate loss\n",
    "        loss = criterion(output, y_cuda)\n",
    "        \n",
    "        # Calculate predictions\n",
    "        # Need to take max over the log probs (batch_size, num_classes)\n",
    "        _, pred = torch.max(output, 1)\n",
    "        pred = pred.type(torch.FloatTensor).cuda()\n",
    "        \n",
    "        num_correct = np.sum(y_cuda.cpu().detach().numpy() == pred.cpu().detach().numpy())\n",
    "        correct_count += num_correct\n",
    "        \n",
    "        # Backprop\n",
    "        loss.backward()\n",
    "        \n",
    "        # Update weights\n",
    "        optim.step()\n",
    "        \n",
    "        # Keep track of losses\n",
    "        running_loss += loss.item()\n",
    "    # Calculate average loss\n",
    "    epoch_loss = running_loss / len(train_loader)\n",
    "    \n",
    "    # Accuracy\n",
    "    accuracy = correct_count / (len(train_loader) * batch_size)\n",
    "    \n",
    "    losses.append(epoch_loss)\n",
    "    accuracies.append(accuracy)\n",
    "    print(\"Epoch %d - Training loss: %.3f , Training Accuracy: %.3f\" %\n",
    "          (epoch, epoch_loss, accuracy))\n",
    "    \n",
    "    # Validation every 10 epochs\n",
    "    if epoch % 5 == 0:\n",
    "        model.eval()\n",
    "        correct_eval = 0\n",
    "        eval_loss = 0\n",
    "        for x,y in val_loader:\n",
    "            x_cuda = x.cuda()\n",
    "            y_cuda = torch.squeeze(y).cuda()\n",
    "            \n",
    "            # Output from mode\n",
    "            output = model(x_cuda)\n",
    "            output = output.cuda()\n",
    "            # Loss\n",
    "            loss = criterion(output, y_cuda)\n",
    "            \n",
    "            # Need to take max over the log probs (batch_size, num_classes)\n",
    "            _, pred = torch.max(output, 1)\n",
    "            pred = pred.type(torch.FloatTensor).cuda()\n",
    "        \n",
    "            num_correct = np.sum(y_cuda.cpu().detach().numpy() == pred.cpu().detach().numpy())\n",
    "            correct_eval += num_correct\n",
    "            eval_loss += loss.item()\n",
    "        # Calculate average loss\n",
    "        epoch_loss = eval_loss / len(val_loader)\n",
    "        val_loss.append(epoch_loss)\n",
    "    \n",
    "        # Accuracy\n",
    "        accuracy = correct_eval / (len(val_loader) * batch_size)\n",
    "        val_accuracy.append(accuracy)\n",
    "        print(\"Epoch %d - Validation loss: %.3f , Validation Accuracy: %.3f\" %\n",
    "          (epoch, epoch_loss, accuracy))\n"
   ]
  },
  {
   "cell_type": "code",
   "execution_count": 8,
   "metadata": {},
   "outputs": [
    {
     "name": "stdout",
     "output_type": "stream",
     "text": [
      "Model: EmotionTransformerPrototype\n",
      "Epochs:  100\n",
      "Learning rate:  0.001\n",
      "Weight decay:  1e-05\n",
      "Num features: 6 \n"
     ]
    },
    {
     "data": {
      "image/png": "[encoded data removed]",
      "text/plain": [
       "<Figure size 864x288 with 2 Axes>"
      ]
     },
     "metadata": {
      "needs_background": "light"
     },
     "output_type": "display_data"
    },
    {
     "data": {
      "image/png": "[encoded data removed]",
      "text/plain": [
       "<Figure size 864x288 with 2 Axes>"
      ]
     },
     "metadata": {
      "needs_background": "light"
     },
     "output_type": "display_data"
    }
   ],
   "source": [
    "# Run info:\n",
    "model_name = 'EmotionTransformerPrototype'\n",
    "print(f'Model: EmotionTransformerPrototype')\n",
    "print(f'Epochs: ', epochs)\n",
    "print(f'Learning rate: ', lr)\n",
    "print(f'Weight decay: ', weight_decay)\n",
    "print(f'Num features: {num_features} ')\n",
    "path = './EmotionTransformerPrototype_results2'\n",
    "if not os.path.isdir(path):\n",
    "    os.mkdir(path)\n",
    "    \n",
    "with open(path+'/hyperparameters.txt', 'w') as file:\n",
    "    file.write('Model: EmotionTransformerPrototype \\n')\n",
    "    file.write(f'Epochs: {epochs} \\n')\n",
    "    file.write(f'learning rate: {lr} \\n')\n",
    "    file.write(f'weight decay: {weight_decay} \\n')\n",
    "    file.write(f'Num features: {num_features} \\n ')\n",
    "\n",
    "# Train plots\n",
    "fig, (ax1, ax2) = plt.subplots(1, 2, figsize=(12, 4))\n",
    "ax1.plot(losses)\n",
    "ax2.plot(accuracies)\n",
    "ax1.set_xlabel('Epoch')\n",
    "ax1.set_ylabel('Loss')\n",
    "ax2.set_xlabel('Epoch')\n",
    "ax2.set_ylabel('Accuracy')\n",
    "ax1.set_title('Train loss')\n",
    "ax2.set_title('Train accuracy')\n",
    "plt.savefig(path+'/train_plots.png')\n",
    "plt.show()\n",
    "\n",
    "# Val plots\n",
    "fig, (ax1, ax2) = plt.subplots(1, 2, figsize=(12, 4))\n",
    "ax1.plot(val_loss)\n",
    "ax2.plot(val_accuracy)\n",
    "ax1.set_xlabel('Epoch')\n",
    "ax1.set_ylabel('Loss')\n",
    "ax2.set_xlabel('Epoch')\n",
    "ax2.set_ylabel('Accuracy')\n",
    "ax1.set_title('Val loss')\n",
    "ax2.set_title('Val accuracy')\n",
    "plt.savefig(path+'/val_plots.png')\n",
    "plt.show()\n",
    "\n",
    "# Save the trained model\n",
    "torch.save(model.state_dict(), path+'/'+model_name+'_state_dict.pt')"
   ]
  },
  {
   "cell_type": "code",
   "execution_count": 9,
   "metadata": {},
   "outputs": [
    {
     "name": "stdout",
     "output_type": "stream",
     "text": [
      "Test loss: 1.711 , Test Accuracy: 0.596, Avg F1 macro: 0.2287, Avg F1 micro: 0.600\n"
     ]
    }
   ],
   "source": [
    "# Run testing on the results\n",
    "model.eval()\n",
    "correct_test = 0\n",
    "test_loss = 0\n",
    "total_macro = 0\n",
    "total_micro = 0\n",
    "for x,y in test_loader:\n",
    "    x_cuda = x.cuda()\n",
    "    y_cuda = torch.squeeze(y).cuda()\n",
    "\n",
    "    # Output from mode\n",
    "    output = model(x_cuda)\n",
    "    output = output.cuda()\n",
    "    \n",
    "    # Loss\n",
    "    loss = criterion(output, y_cuda)\n",
    "\n",
    "    # Need to take max over the log probs (batch_size, num_classes)\n",
    "    _, pred = torch.max(output, 1)\n",
    "    pred = pred.type(torch.FloatTensor).cuda()\n",
    "\n",
    "    num_correct = np.sum(y_cuda.cpu().detach().numpy() == pred.cpu().detach().numpy())\n",
    "    \n",
    "    f1 = f1_score(y_cuda.cpu().detach().numpy(), pred.cpu().detach().numpy(), average='macro')\n",
    "    total_macro += f1\n",
    "    f1 = f1_score(y_cuda.cpu().detach().numpy(), pred.cpu().detach().numpy(), average='micro')\n",
    "    total_micro += f1\n",
    "    \n",
    "    correct_test += num_correct\n",
    "    test_loss += loss\n",
    "# Calculate average loss\n",
    "epoch_loss = test_loss / len(test_loader)\n",
    "\n",
    "# Accuracy\n",
    "accuracy = correct_test / (len(test_loader) * batch_size)\n",
    "avg_macro = total_macro / len(test_loader)\n",
    "avg_micro = total_micro / len(test_loader)\n",
    "print(\"Test loss: %.3f , Test Accuracy: %.3f, Avg F1 macro: %.4f, Avg F1 micro: %.3f\" % \n",
    "      (epoch_loss, accuracy, avg_macro, avg_micro))"
   ]
  },
  {
   "cell_type": "code",
   "execution_count": 10,
   "metadata": {},
   "outputs": [],
   "source": [
    "# Save test result\n",
    "with open(path+'/test_results.txt', 'w') as f:\n",
    "    f.write(\"Test loss: %.3f , Test Accuracy: %.3f, Avg F1 macro: %.4f, Avg F1 micro: %.3f\" % \n",
    "      (epoch_loss, accuracy, avg_macro, avg_micro))"
   ]
  },
  {
   "cell_type": "code",
   "execution_count": 9,
   "metadata": {
    "id": "JLduPvIOC7cb"
   },
   "outputs": [],
   "source": [
    "# Get data and labels for training\n",
    "# train_split = int(0.8 * num_files)\n",
    "# print('train_split: ', train_split)\n",
    "# print(f'train size: {X[:train_split].shape}, val size: {X[train_split:].shape}')\n",
    "\n",
    "# model = LogisticRegression().fit(X[:train_split], Y[:train_split])\n",
    "\n",
    "# # Predict on validation/test (80-20 split)\n",
    "# predictions = model.predict(X[train_split:])\n",
    "\n",
    "# # Output score (mean accuracy)\n",
    "# score = model.score(X[train_split:],Y[train_split:])\n",
    "# print(f'Test accuracy score: {score}')\n",
    "\n",
    "# f1 = f1_score(Y[train_split:], predictions, average='macro')\n",
    "# print(f'macro f1 score: {f1}')\n",
    "# f1 = f1_score(Y[train_split:], predictions, average='micro')\n",
    "# print(f'micro f1 score: {f1}')"
   ]
  },
  {
   "cell_type": "code",
   "execution_count": 10,
   "metadata": {},
   "outputs": [],
   "source": [
    "# Some basic stats for the dataset\n",
    "# avg = np.mean(X, axis=0)\n",
    "# print(f'avg shape: {avg.shape}')\n",
    "# stats = ['f0_min', 'f0_max', 'f0_mean', 'f0_range', 'duration', 'rms_min', 'rms_max', 'rms_mean', 'pitch_max', 'pitch_min', \n",
    "#                   'pitch_range', 'pitch_mean']\n",
    "# stats = ['f0_min', 'f0_max', 'f0_mean', 'f0_range', 'duration', 'rms_min', 'rms_max', 'rms_mean']\n",
    "# for j,stat in enumerate(stats):\n",
    "#     print(f'{stat} average: {avg[j]}')"
   ]
  },
  {
   "cell_type": "code",
   "execution_count": null,
   "metadata": {},
   "outputs": [],
   "source": []
  }
 ],
 "metadata": {
  "colab": {
   "collapsed_sections": [],
   "name": "Baseline.ipynb",
   "provenance": []
  },
  "kernelspec": {
   "display_name": "Python 3",
   "language": "python",
   "name": "python3"
  },
  "language_info": {
   "codemirror_mode": {
    "name": "ipython",
    "version": 3
   },
   "file_extension": ".py",
   "mimetype": "text/x-python",
   "name": "python",
   "nbconvert_exporter": "python",
   "pygments_lexer": "ipython3",
   "version": "3.7.9"
  }
 },
 "nbformat": 4,
 "nbformat_minor": 1
}
