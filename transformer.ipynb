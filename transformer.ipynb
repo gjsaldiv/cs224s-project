{
 "cells": [
  {
   "cell_type": "code",
   "execution_count": 1,
   "metadata": {
    "colab": {
     "base_uri": "https://localhost:8080/"
    },
    "id": "S6iAqK_e-z75",
    "outputId": "fa061668-4c0d-4a74-f513-71cffcf91526"
   },
   "outputs": [],
   "source": [
    "# Imports \n",
    "import librosa\n",
    "import librosa.display\n",
    "import librosa.effects\n",
    "import librosa.util\n",
    "\n",
    "import numpy as np\n",
    "import sys, os\n",
    "import pandas as pd\n",
    "import matplotlib.pyplot as plt\n",
    "\n",
    "import sklearn\n",
    "from sklearn.linear_model import LogisticRegression\n",
    "from sklearn.metrics import f1_score\n",
    "from sklearn import preprocessing\n",
    "from sklearn.metrics import plot_confusion_matrix\n",
    "from tqdm import tqdm\n",
    "\n",
    "import torch\n",
    "import torch.nn as nn\n",
    "from torch.utils.data import Dataset\n",
    "from torch.utils.data import DataLoader\n",
    "import torch.nn.functional as F\n",
    "from transformer_models import *\n",
    "from transformer_data import *"
   ]
  },
  {
   "cell_type": "code",
   "execution_count": 2,
   "metadata": {},
   "outputs": [],
   "source": [
    "# Helper function from homework\n",
    "def pad_wav(wav, wav_max_length, pad=0):\n",
    "    \"\"\"Pads audio wave sequence to be `wav_max_length` long.\"\"\"\n",
    "    dim = wav.shape[1]\n",
    "    padded = np.zeros((wav_max_length, dim)) + pad\n",
    "    if len(wav) > wav_max_length:\n",
    "        wav = wav[:wav_max_length]\n",
    "    length = len(wav)\n",
    "    padded[:length, :] = wav\n",
    "    return padded, length"
   ]
  },
  {
   "cell_type": "code",
   "execution_count": 3,
   "metadata": {
    "id": "5IEPrjp5AtlU"
   },
   "outputs": [
    {
     "name": "stderr",
     "output_type": "stream",
     "text": [
      " 39%|███▉      | 2914/7442 [04:39<07:56,  9.51it/s]"
     ]
    },
    {
     "name": "stdout",
     "output_type": "stream",
     "text": [
      "info: Empty DataFrame\n",
      "Columns: [Unnamed: 0, FileName, VoiceVote, VoiceLevel, FaceVote, FaceLevel, MultiModalVote, MultiModalLevel]\n",
      "Index: []\n",
      "index count: 2912\n",
      "unable to find file: 1040_ITH_SAD_X.wav\n"
     ]
    },
    {
     "name": "stderr",
     "output_type": "stream",
     "text": [
      "100%|██████████| 7442/7442 [15:54<00:00,  7.80it/s]"
     ]
    },
    {
     "name": "stdout",
     "output_type": "stream",
     "text": [
      "shape of train data: (7442, 6)\n",
      "shape of labels: (7442,)\n"
     ]
    },
    {
     "name": "stderr",
     "output_type": "stream",
     "text": [
      "\n"
     ]
    }
   ],
   "source": [
    "#Features we want right now: min f0, max f0, and mean f0 and maybe rms (not sure exactly what that is but was used in the paper)\n",
    "path = '/home/CREMA-D/AudioWAV/'\n",
    "files = os.listdir(path)\n",
    "\n",
    "summary = pd.read_csv('/home/CREMA-D/processedResults/summaryTable.csv')\n",
    "\n",
    "num_files = len(os.listdir(path)) #not sure how you want to count files\n",
    "count = 0\n",
    "\n",
    "# Aim to get to 12 features\n",
    "num_features = 6\n",
    "\n",
    "mels = False\n",
    "\n",
    "# Keep track of min and max duration of all data\n",
    "min_dur = np.inf\n",
    "max_dur = 0\n",
    "max_length = 0\n",
    "\n",
    "# mel spectrogram is padded to 250, and n_mels is default 128\n",
    "if mels:\n",
    "    X = np.zeros((num_files, num_features + 250 * 128))\n",
    "else:\n",
    "    X = np.zeros((num_files, num_features))\n",
    "Y = np.zeros(num_files).astype(str)\n",
    "for sample in tqdm(files): #depends on how you access\n",
    "    file = os.path.join(path,sample)\n",
    "    current_wav, current_sr = librosa.load(file) #fix for set up \n",
    "    \n",
    "    # Mel spectrogram\n",
    "    if mels:\n",
    "        mel_spec = librosa.feature.melspectrogram(y=current_wav, sr=current_sr)\n",
    "        m_log = librosa.power_to_db(mel_spec)\n",
    "        m_log_norm = librosa.util.normalize(m_log)\n",
    "        padded_wav, input_length = pad_wav(m_log_norm.T, 250)\n",
    "        flat_mel = padded_wav.flatten()\n",
    "    \n",
    "    # Prosodic features\n",
    "    f0_series = librosa.yin(current_wav, librosa.note_to_hz('C2'), librosa.note_to_hz('C7'))\n",
    "    rms_series = librosa.feature.rms(y=current_wav)\n",
    "    f0_max = np.amax(f0_series)\n",
    "    f0_min = np.amin(f0_series)\n",
    "    # Get f0 range\n",
    "    f0_range = f0_max - f0_min\n",
    "    # duration\n",
    "    duration = librosa.get_duration(y=current_wav, sr=current_sr)\n",
    "    \n",
    "    # Outer duration\n",
    "    if duration > max_dur:\n",
    "        max_dur = duration\n",
    "    if duration < min_dur:\n",
    "        min_dur = duration\n",
    "        \n",
    "    # Get the pitches\n",
    "#     pitches, magnitudes = librosa.piptrack(y=current_wav, sr=current_sr)\n",
    "#     pitch_max = np.amax(pitches)\n",
    "#     pitch_min = np.amin(pitches)\n",
    "#     # Get f0 range\n",
    "#     pitch_range = pitch_max - pitch_min\n",
    "#     pitch_mean = np.mean(pitches)\n",
    "    \n",
    "    f0_mean = np.mean(f0_series)\n",
    "    rms_max = np.amax(rms_series)\n",
    "    rms_min = np.amin(rms_series)\n",
    "    rms_mean = np.mean(rms_series)\n",
    "#     x = np.array([f0_min, f0_max, f0_mean, f0_range, duration, rms_min, rms_max, rms_mean, pitch_max, pitch_min, \n",
    "#                   pitch_range, pitch_mean])\n",
    "    if num_features == 8:\n",
    "        x = np.array([f0_min, f0_max, f0_mean, f0_range, duration, rms_min, rms_max, rms_mean])\n",
    "    else:\n",
    "        x = np.array([f0_min, f0_max, f0_mean, rms_min, rms_max, rms_mean])\n",
    "    if mels:\n",
    "        x = np.append(x, flat_mel)\n",
    "    X[count,:] = x\n",
    "    # Get the label for VoiceVote\n",
    "    info = summary.loc[summary['FileName'] == sample.split('.')[0]]\n",
    "    try:\n",
    "        Y[count] = info['VoiceVote'].values[0]\n",
    "    except Exception as ex:\n",
    "        print(f'info: {info}')\n",
    "        print(f'index count: {count}')\n",
    "        index = count\n",
    "        print(f'unable to find file: {sample}')\n",
    "        count -= 1\n",
    "    count += 1\n",
    "print(f'shape of train data: {X.shape}')\n",
    "print(f'shape of labels: {Y.shape}')"
   ]
  },
  {
   "cell_type": "code",
   "execution_count": 4,
   "metadata": {
    "id": "n60PZXht_tv-"
   },
   "outputs": [
    {
     "name": "stdout",
     "output_type": "stream",
     "text": [
      "shape of train data: (7442, 6)\n",
      "shape of labels: (7442,)\n",
      "['N' '0.0']\n",
      "New X shape: (7441, 6)\n",
      "New Y shape: (7441,)\n",
      "Example feature: [7.25388728e+01 2.79622457e+02 1.54880632e+02 4.40623751e-03\n",
      " 5.49128167e-02 1.39149548e-02]\n",
      "Last Y to check: N\n",
      "min duration: 1.2679818594104308\n",
      "max duration: 5.005034013605442\n",
      "num classes: 39\n",
      "classes: ['A' 'A:D' 'A:D:F:N' 'A:D:F:N:S' 'A:D:H:N' 'A:D:N' 'A:D:N:S' 'A:F' 'A:F:N'\n",
      " 'A:H' 'A:H:N' 'A:N' 'A:N:S' 'A:S' 'D' 'D:F' 'D:F:H:N' 'D:F:N' 'D:F:N:S'\n",
      " 'D:F:S' 'D:H' 'D:H:N' 'D:N' 'D:N:S' 'D:S' 'F' 'F:H' 'F:H:N' 'F:H:N:S'\n",
      " 'F:N' 'F:N:S' 'F:S' 'H' 'H:N' 'H:N:S' 'H:S' 'N' 'N:S' 'S']\n",
      "shape of transformed labels: (7441,)\n"
     ]
    }
   ],
   "source": [
    "#For Logistic Regression, can use sklearn.linear_model.LogisticRegression\n",
    "# !pip install -U scikit-learn\n",
    "# import sklearn\n",
    "# from sklearn.linear_model import LogisticRegression\n",
    "# Remove the file that wasn't in results\n",
    "print(f'shape of train data: {X.shape}')\n",
    "print(f'shape of labels: {Y.shape}')\n",
    "print(Y[7440:])\n",
    "\n",
    "# Remove that one example without a label\n",
    "X = np.delete(X,-1,axis=0)\n",
    "Y = Y[:-1]\n",
    "print(f'New X shape: {X.shape}')\n",
    "print(f'New Y shape: {Y.shape}')\n",
    "print(f'Example feature: {X[4,:]}')\n",
    "print(f'Last Y to check: {Y[-1]}')\n",
    "print(f'min duration: {min_dur}')\n",
    "print(f'max duration: {max_dur}')\n",
    "\n",
    "# Find number of unique labels\n",
    "num_unique = np.unique(Y).shape[0]\n",
    "print(f'num classes: {num_unique}')\n",
    "\n",
    "# Use label encoder for string labels\n",
    "le = preprocessing.LabelEncoder()\n",
    "le.fit(Y)\n",
    "print(f'classes: {le.classes_}')\n",
    "transformed_labels = le.transform(Y)\n",
    "print(f'shape of transformed labels: {transformed_labels.shape}')"
   ]
  },
  {
   "cell_type": "code",
   "execution_count": 5,
   "metadata": {},
   "outputs": [
    {
     "name": "stdout",
     "output_type": "stream",
     "text": [
      "train idx: 5952\n",
      "val idx: 6696\n",
      "train idx: 5952\n",
      "val idx: 6696\n",
      "train idx: 5952\n",
      "val idx: 6696\n",
      "5952\n",
      "744\n",
      "745\n",
      "(tensor([6.8573e+01, 2.7087e+02, 1.8743e+02, 3.4345e-03, 1.8924e-02, 8.0639e-03]), tensor([36]))\n",
      "(tensor([6.8139e+01, 7.0053e+02, 2.0496e+02, 3.7657e-03, 8.5794e-02, 2.4723e-02]), tensor([36]))\n"
     ]
    }
   ],
   "source": [
    "# Set up the dataloaders\n",
    "train_dataset = CREMADataset(X, transformed_labels, X.shape[0], split='train')\n",
    "val_dataset = CREMADataset(X, transformed_labels, X.shape[0], split='val')\n",
    "test_dataset = CREMADataset(X, transformed_labels, X.shape[0], split='test')\n",
    "\n",
    "# Check dataset length\n",
    "print(len(train_dataset))\n",
    "print(len(val_dataset))\n",
    "print(len(test_dataset))\n",
    "\n",
    "# Check data\n",
    "print(train_dataset[0])\n",
    "print(test_dataset[0])\n",
    "\n",
    "# Set dataloaders\n",
    "batch_size = 16\n",
    "train_loader = DataLoader(train_dataset, batch_size=batch_size, shuffle=True)\n",
    "val_loader = DataLoader(val_dataset, batch_size=batch_size, shuffle=False)\n",
    "test_loader = DataLoader(test_dataset, batch_size=batch_size, shuffle=False)"
   ]
  },
  {
   "cell_type": "code",
   "execution_count": 6,
   "metadata": {},
   "outputs": [],
   "source": [
    "class EmotionLSTMTransformer(nn.Module):\n",
    "    \"\"\"\n",
    "  Encoder-Decoder model to classify emotions for utterances.\n",
    "\n",
    "  Args:\n",
    "    input_dim: integer\n",
    "                number of input features\n",
    "    num_class: integer\n",
    "                number of class labels\n",
    "    num_layers: integer (default: 2)\n",
    "                number of layers in encoder LSTM\n",
    "    hidden_dim: integer (default: 128)\n",
    "                number of hidden dimensions for encoder LSTM\n",
    "    bidirectional: boolean (default: True)\n",
    "                    is the encoder LSTM bidirectional?\n",
    "  \"\"\"\n",
    "    def __init__(\n",
    "          self, input_dim, num_class, num_layers=2, hidden_dim=128,\n",
    "          bidirectional=True, dropout=0.2):\n",
    "        super().__init__()\n",
    "        # Note: `batch_first=True` argument implies the inputs to the LSTM should\n",
    "        # be of shape (batch_size x T x D) instead of (T x batch_size x D).\n",
    "        self.encoder = nn.LSTM(input_dim, hidden_dim, num_layers=num_layers, \n",
    "                                bidirectional=bidirectional, batch_first=True)\n",
    "        self.decoder = nn.Linear(hidden_dim * 2, num_class)\n",
    "        self.input_dim = input_dim\n",
    "        self.num_class = num_class\n",
    "        self.num_layers = num_layers\n",
    "        self.hidden_dim = hidden_dim\n",
    "        self.dropout = dropout\n",
    "        self.embedding_dim = hidden_dim * num_layers * 2 * \\\n",
    "                              (2 if bidirectional else 1)\n",
    "\n",
    "    def combine_h_and_c(self, h, c):\n",
    "        \"\"\"Combine the signals from RNN hidden and cell states.\"\"\"\n",
    "        batch_size = h.size(1)\n",
    "        h = h.permute(1, 0, 2).contiguous()\n",
    "        c = c.permute(1, 0, 2).contiguous()\n",
    "        h = h.view(batch_size, -1)\n",
    "        c = c.view(batch_size, -1)\n",
    "        return torch.cat([h, c], dim=1)  # just concatenate\n",
    "\n",
    "    def forward(self, inputs):\n",
    "        batch_size, max_length = inputs.size()\n",
    "        # `torch.nn.utils.rnn.pack_padded_sequence` collapses padded sequences\n",
    "        # to a contiguous chunk\n",
    "        input_lengths = [max_length for x in range(batch_size)]\n",
    "        input_lengths = torch.LongTensor(input_lengths).cpu()\n",
    "        # Needs to be 3D, to include seq_len (number of time steps), so add that as dim=1\n",
    "        inputs = torch.unsqueeze(inputs, 0)\n",
    "        #inputs = torch.nn.utils.rnn.pack_padded_sequence(\n",
    "        #   inputs, input_lengths, batch_first=True, enforce_sorted=False)\n",
    "        log_probs = None\n",
    "        h, c = None, None\n",
    "        # - Refer to https://pytorch.org/docs/stable/nn.html\n",
    "        # - Use `self.encoder` to get the encodings output which is of shape\n",
    "        #   (batch_size, max_length, num_directions*hidden_dim) and the\n",
    "        #   hidden states and cell states which are both of shape\n",
    "        #   (batch_size, num_layers*num_directions, hidden_dim)\n",
    "        # - Pad outputs with `0.` using `torch.nn.utils.rnn.pad_packed_sequence`\n",
    "        #   (turn on batch_first and set total_length as max_length).\n",
    "        # - Apply 50% dropout.\n",
    "        # - Use `self.decoder` to take the embeddings sequence and return\n",
    "        #   probabilities for each character.\n",
    "        # - Make sure to then convert to log probabilities.\n",
    "\n",
    "        # Get encodings\n",
    "        #print(inputs.data.size())\n",
    "        encodings, (h, c) = self.encoder(inputs)\n",
    "\n",
    "        # Pad outputs with '0'\n",
    "        # padded, lengths = torch.nn.utils.rnn.pad_packed_sequence(encodings, batch_first=True, total_length=self.input_dim)\n",
    "\n",
    "        # Apply dropout\n",
    "        dropout = nn.Dropout(p=self.dropout)\n",
    "        dropped_padded = dropout(encodings)\n",
    "\n",
    "        # Decode to get probabilies dimensions (batch_size, time steps, num chars <vocab>)\n",
    "        probabilities = self.decoder(dropped_padded)\n",
    "\n",
    "        # Log probabilities\n",
    "        # dim=2 because softmax over the vocabulary dimension. dim=1 is over time steps\n",
    "        log_probs = F.log_softmax(probabilities, dim=-1)\n",
    "        log_probs = torch.squeeze(log_probs)\n",
    "        #print(log_probs.size())\n",
    "\n",
    "        # The extracted embedding is not used for the ASR task but will be\n",
    "        # needed for other auxiliary tasks.\n",
    "        #embedding = self.combine_h_and_c(h, c)\n",
    "        return log_probs\n",
    "\n",
    "    def get_loss(self, log_probs, targets):\n",
    "            # cross-entropy for softmax/negative log likelihood loss for log softmax\n",
    "        return F.nll_loss(probs, targets)\n",
    "\n",
    "    def decode(self, log_probs):\n",
    "        # Use greedy decoding.\n",
    "        decoded, pred = torch.argmax(log_probs, dim=-1)\n",
    "        batch_size = decoded.size(0)\n",
    "        \n",
    "        return pred"
   ]
  },
  {
   "cell_type": "code",
   "execution_count": 7,
   "metadata": {
    "scrolled": true
   },
   "outputs": [
    {
     "name": "stderr",
     "output_type": "stream",
     "text": [
      "  1%|          | 1/100 [00:05<09:36,  5.83s/it]"
     ]
    },
    {
     "name": "stdout",
     "output_type": "stream",
     "text": [
      "Epoch 0 - Training loss: 1.806 , Training Accuracy: 0.518\n",
      "Epoch 0 - Validation loss: 1.734 , Validation Accuracy: 0.499\n"
     ]
    },
    {
     "name": "stderr",
     "output_type": "stream",
     "text": [
      "\r",
      "  2%|▏         | 2/100 [00:11<08:56,  5.47s/it]"
     ]
    },
    {
     "name": "stdout",
     "output_type": "stream",
     "text": [
      "Epoch 1 - Training loss: 1.688 , Training Accuracy: 0.526\n"
     ]
    },
    {
     "name": "stderr",
     "output_type": "stream",
     "text": [
      "\r",
      "  3%|▎         | 3/100 [00:16<08:34,  5.30s/it]"
     ]
    },
    {
     "name": "stdout",
     "output_type": "stream",
     "text": [
      "Epoch 2 - Training loss: 1.656 , Training Accuracy: 0.532\n"
     ]
    },
    {
     "name": "stderr",
     "output_type": "stream",
     "text": [
      "\r",
      "  4%|▍         | 4/100 [00:21<08:20,  5.22s/it]"
     ]
    },
    {
     "name": "stdout",
     "output_type": "stream",
     "text": [
      "Epoch 3 - Training loss: 1.642 , Training Accuracy: 0.535\n"
     ]
    },
    {
     "name": "stderr",
     "output_type": "stream",
     "text": [
      "\r",
      "  5%|▌         | 5/100 [00:26<08:09,  5.16s/it]"
     ]
    },
    {
     "name": "stdout",
     "output_type": "stream",
     "text": [
      "Epoch 4 - Training loss: 1.635 , Training Accuracy: 0.541\n"
     ]
    },
    {
     "name": "stderr",
     "output_type": "stream",
     "text": [
      "\r",
      "  6%|▌         | 6/100 [00:31<08:09,  5.21s/it]"
     ]
    },
    {
     "name": "stdout",
     "output_type": "stream",
     "text": [
      "Epoch 5 - Training loss: 1.628 , Training Accuracy: 0.534\n",
      "Epoch 5 - Validation loss: 1.635 , Validation Accuracy: 0.533\n"
     ]
    },
    {
     "name": "stderr",
     "output_type": "stream",
     "text": [
      "\r",
      "  7%|▋         | 7/100 [00:36<08:00,  5.17s/it]"
     ]
    },
    {
     "name": "stdout",
     "output_type": "stream",
     "text": [
      "Epoch 6 - Training loss: 1.635 , Training Accuracy: 0.538\n"
     ]
    },
    {
     "name": "stderr",
     "output_type": "stream",
     "text": [
      "\r",
      "  8%|▊         | 8/100 [00:41<07:51,  5.13s/it]"
     ]
    },
    {
     "name": "stdout",
     "output_type": "stream",
     "text": [
      "Epoch 7 - Training loss: 1.634 , Training Accuracy: 0.537\n"
     ]
    },
    {
     "name": "stderr",
     "output_type": "stream",
     "text": [
      "\r",
      "  9%|▉         | 9/100 [00:46<07:46,  5.13s/it]"
     ]
    },
    {
     "name": "stdout",
     "output_type": "stream",
     "text": [
      "Epoch 8 - Training loss: 1.616 , Training Accuracy: 0.544\n"
     ]
    },
    {
     "name": "stderr",
     "output_type": "stream",
     "text": [
      "\r",
      " 10%|█         | 10/100 [00:51<07:40,  5.11s/it]"
     ]
    },
    {
     "name": "stdout",
     "output_type": "stream",
     "text": [
      "Epoch 9 - Training loss: 1.618 , Training Accuracy: 0.546\n"
     ]
    },
    {
     "name": "stderr",
     "output_type": "stream",
     "text": [
      "\r",
      " 11%|█         | 11/100 [00:57<07:38,  5.15s/it]"
     ]
    },
    {
     "name": "stdout",
     "output_type": "stream",
     "text": [
      "Epoch 10 - Training loss: 1.610 , Training Accuracy: 0.545\n",
      "Epoch 10 - Validation loss: 1.680 , Validation Accuracy: 0.501\n"
     ]
    },
    {
     "name": "stderr",
     "output_type": "stream",
     "text": [
      "\r",
      " 12%|█▏        | 12/100 [01:02<07:31,  5.13s/it]"
     ]
    },
    {
     "name": "stdout",
     "output_type": "stream",
     "text": [
      "Epoch 11 - Training loss: 1.610 , Training Accuracy: 0.547\n"
     ]
    },
    {
     "name": "stderr",
     "output_type": "stream",
     "text": [
      "\r",
      " 13%|█▎        | 13/100 [01:07<07:26,  5.13s/it]"
     ]
    },
    {
     "name": "stdout",
     "output_type": "stream",
     "text": [
      "Epoch 12 - Training loss: 1.615 , Training Accuracy: 0.543\n"
     ]
    },
    {
     "name": "stderr",
     "output_type": "stream",
     "text": [
      "\r",
      " 14%|█▍        | 14/100 [01:12<07:19,  5.11s/it]"
     ]
    },
    {
     "name": "stdout",
     "output_type": "stream",
     "text": [
      "Epoch 13 - Training loss: 1.616 , Training Accuracy: 0.545\n"
     ]
    },
    {
     "name": "stderr",
     "output_type": "stream",
     "text": [
      "\r",
      " 15%|█▌        | 15/100 [01:17<07:12,  5.09s/it]"
     ]
    },
    {
     "name": "stdout",
     "output_type": "stream",
     "text": [
      "Epoch 14 - Training loss: 1.612 , Training Accuracy: 0.549\n"
     ]
    },
    {
     "name": "stderr",
     "output_type": "stream",
     "text": [
      "\r",
      " 16%|█▌        | 16/100 [01:22<07:17,  5.21s/it]"
     ]
    },
    {
     "name": "stdout",
     "output_type": "stream",
     "text": [
      "Epoch 15 - Training loss: 1.613 , Training Accuracy: 0.547\n",
      "Epoch 15 - Validation loss: 1.628 , Validation Accuracy: 0.539\n"
     ]
    },
    {
     "name": "stderr",
     "output_type": "stream",
     "text": [
      "\r",
      " 17%|█▋        | 17/100 [01:28<07:08,  5.16s/it]"
     ]
    },
    {
     "name": "stdout",
     "output_type": "stream",
     "text": [
      "Epoch 16 - Training loss: 1.607 , Training Accuracy: 0.546\n"
     ]
    },
    {
     "name": "stderr",
     "output_type": "stream",
     "text": [
      "\r",
      " 18%|█▊        | 18/100 [01:33<07:00,  5.13s/it]"
     ]
    },
    {
     "name": "stdout",
     "output_type": "stream",
     "text": [
      "Epoch 17 - Training loss: 1.609 , Training Accuracy: 0.546\n"
     ]
    },
    {
     "name": "stderr",
     "output_type": "stream",
     "text": [
      "\r",
      " 19%|█▉        | 19/100 [01:38<07:04,  5.23s/it]"
     ]
    },
    {
     "name": "stdout",
     "output_type": "stream",
     "text": [
      "Epoch 18 - Training loss: 1.606 , Training Accuracy: 0.547\n"
     ]
    },
    {
     "name": "stderr",
     "output_type": "stream",
     "text": [
      "\r",
      " 20%|██        | 20/100 [01:43<06:54,  5.18s/it]"
     ]
    },
    {
     "name": "stdout",
     "output_type": "stream",
     "text": [
      "Epoch 19 - Training loss: 1.605 , Training Accuracy: 0.543\n"
     ]
    },
    {
     "name": "stderr",
     "output_type": "stream",
     "text": [
      "\r",
      " 21%|██        | 21/100 [01:48<06:48,  5.17s/it]"
     ]
    },
    {
     "name": "stdout",
     "output_type": "stream",
     "text": [
      "Epoch 20 - Training loss: 1.608 , Training Accuracy: 0.549\n",
      "Epoch 20 - Validation loss: 1.653 , Validation Accuracy: 0.517\n"
     ]
    },
    {
     "name": "stderr",
     "output_type": "stream",
     "text": [
      "\r",
      " 22%|██▏       | 22/100 [01:53<06:41,  5.15s/it]"
     ]
    },
    {
     "name": "stdout",
     "output_type": "stream",
     "text": [
      "Epoch 21 - Training loss: 1.604 , Training Accuracy: 0.546\n"
     ]
    },
    {
     "name": "stderr",
     "output_type": "stream",
     "text": [
      "\r",
      " 23%|██▎       | 23/100 [01:58<06:33,  5.11s/it]"
     ]
    },
    {
     "name": "stdout",
     "output_type": "stream",
     "text": [
      "Epoch 22 - Training loss: 1.608 , Training Accuracy: 0.548\n"
     ]
    },
    {
     "name": "stderr",
     "output_type": "stream",
     "text": [
      "\r",
      " 24%|██▍       | 24/100 [02:04<06:28,  5.12s/it]"
     ]
    },
    {
     "name": "stdout",
     "output_type": "stream",
     "text": [
      "Epoch 23 - Training loss: 1.600 , Training Accuracy: 0.549\n"
     ]
    },
    {
     "name": "stderr",
     "output_type": "stream",
     "text": [
      "\r",
      " 25%|██▌       | 25/100 [02:09<06:22,  5.09s/it]"
     ]
    },
    {
     "name": "stdout",
     "output_type": "stream",
     "text": [
      "Epoch 24 - Training loss: 1.606 , Training Accuracy: 0.548\n"
     ]
    },
    {
     "name": "stderr",
     "output_type": "stream",
     "text": [
      "\r",
      " 26%|██▌       | 26/100 [02:14<06:17,  5.11s/it]"
     ]
    },
    {
     "name": "stdout",
     "output_type": "stream",
     "text": [
      "Epoch 25 - Training loss: 1.602 , Training Accuracy: 0.549\n",
      "Epoch 25 - Validation loss: 1.632 , Validation Accuracy: 0.517\n"
     ]
    },
    {
     "name": "stderr",
     "output_type": "stream",
     "text": [
      "\r",
      " 27%|██▋       | 27/100 [02:19<06:08,  5.05s/it]"
     ]
    },
    {
     "name": "stdout",
     "output_type": "stream",
     "text": [
      "Epoch 26 - Training loss: 1.593 , Training Accuracy: 0.552\n"
     ]
    },
    {
     "name": "stderr",
     "output_type": "stream",
     "text": [
      "\r",
      " 28%|██▊       | 28/100 [02:24<06:02,  5.03s/it]"
     ]
    },
    {
     "name": "stdout",
     "output_type": "stream",
     "text": [
      "Epoch 27 - Training loss: 1.599 , Training Accuracy: 0.552\n"
     ]
    },
    {
     "name": "stderr",
     "output_type": "stream",
     "text": [
      "\r",
      " 29%|██▉       | 29/100 [02:29<05:56,  5.02s/it]"
     ]
    },
    {
     "name": "stdout",
     "output_type": "stream",
     "text": [
      "Epoch 28 - Training loss: 1.597 , Training Accuracy: 0.545\n"
     ]
    },
    {
     "name": "stderr",
     "output_type": "stream",
     "text": [
      "\r",
      " 30%|███       | 30/100 [02:34<05:52,  5.03s/it]"
     ]
    },
    {
     "name": "stdout",
     "output_type": "stream",
     "text": [
      "Epoch 29 - Training loss: 1.604 , Training Accuracy: 0.552\n"
     ]
    },
    {
     "name": "stderr",
     "output_type": "stream",
     "text": [
      "\r",
      " 31%|███       | 31/100 [02:39<05:51,  5.09s/it]"
     ]
    },
    {
     "name": "stdout",
     "output_type": "stream",
     "text": [
      "Epoch 30 - Training loss: 1.595 , Training Accuracy: 0.548\n",
      "Epoch 30 - Validation loss: 1.645 , Validation Accuracy: 0.513\n"
     ]
    },
    {
     "name": "stderr",
     "output_type": "stream",
     "text": [
      "\r",
      " 32%|███▏      | 32/100 [02:44<05:44,  5.07s/it]"
     ]
    },
    {
     "name": "stdout",
     "output_type": "stream",
     "text": [
      "Epoch 31 - Training loss: 1.601 , Training Accuracy: 0.550\n"
     ]
    },
    {
     "name": "stderr",
     "output_type": "stream",
     "text": [
      "\r",
      " 33%|███▎      | 33/100 [02:49<05:38,  5.06s/it]"
     ]
    },
    {
     "name": "stdout",
     "output_type": "stream",
     "text": [
      "Epoch 32 - Training loss: 1.598 , Training Accuracy: 0.550\n"
     ]
    },
    {
     "name": "stderr",
     "output_type": "stream",
     "text": [
      "\r",
      " 34%|███▍      | 34/100 [02:54<05:34,  5.08s/it]"
     ]
    },
    {
     "name": "stdout",
     "output_type": "stream",
     "text": [
      "Epoch 33 - Training loss: 1.593 , Training Accuracy: 0.550\n"
     ]
    },
    {
     "name": "stderr",
     "output_type": "stream",
     "text": [
      "\r",
      " 35%|███▌      | 35/100 [02:59<05:28,  5.06s/it]"
     ]
    },
    {
     "name": "stdout",
     "output_type": "stream",
     "text": [
      "Epoch 34 - Training loss: 1.589 , Training Accuracy: 0.555\n",
      "Epoch 35 - Training loss: 1.596 , Training Accuracy: 0.544\n"
     ]
    },
    {
     "name": "stderr",
     "output_type": "stream",
     "text": [
      "\r",
      " 36%|███▌      | 36/100 [03:05<05:32,  5.19s/it]"
     ]
    },
    {
     "name": "stdout",
     "output_type": "stream",
     "text": [
      "Epoch 35 - Validation loss: 1.617 , Validation Accuracy: 0.529\n"
     ]
    },
    {
     "name": "stderr",
     "output_type": "stream",
     "text": [
      "\r",
      " 37%|███▋      | 37/100 [03:10<05:28,  5.21s/it]"
     ]
    },
    {
     "name": "stdout",
     "output_type": "stream",
     "text": [
      "Epoch 36 - Training loss: 1.590 , Training Accuracy: 0.549\n"
     ]
    },
    {
     "name": "stderr",
     "output_type": "stream",
     "text": [
      "\r",
      " 38%|███▊      | 38/100 [03:15<05:21,  5.18s/it]"
     ]
    },
    {
     "name": "stdout",
     "output_type": "stream",
     "text": [
      "Epoch 37 - Training loss: 1.592 , Training Accuracy: 0.550\n"
     ]
    },
    {
     "name": "stderr",
     "output_type": "stream",
     "text": [
      "\r",
      " 39%|███▉      | 39/100 [03:20<05:13,  5.14s/it]"
     ]
    },
    {
     "name": "stdout",
     "output_type": "stream",
     "text": [
      "Epoch 38 - Training loss: 1.598 , Training Accuracy: 0.553\n"
     ]
    },
    {
     "name": "stderr",
     "output_type": "stream",
     "text": [
      "\r",
      " 40%|████      | 40/100 [03:25<05:06,  5.10s/it]"
     ]
    },
    {
     "name": "stdout",
     "output_type": "stream",
     "text": [
      "Epoch 39 - Training loss: 1.586 , Training Accuracy: 0.558\n"
     ]
    },
    {
     "name": "stderr",
     "output_type": "stream",
     "text": [
      "\r",
      " 41%|████      | 41/100 [03:30<05:02,  5.12s/it]"
     ]
    },
    {
     "name": "stdout",
     "output_type": "stream",
     "text": [
      "Epoch 40 - Training loss: 1.594 , Training Accuracy: 0.548\n",
      "Epoch 40 - Validation loss: 1.618 , Validation Accuracy: 0.529\n"
     ]
    },
    {
     "name": "stderr",
     "output_type": "stream",
     "text": [
      "\r",
      " 42%|████▏     | 42/100 [03:35<04:56,  5.11s/it]"
     ]
    },
    {
     "name": "stdout",
     "output_type": "stream",
     "text": [
      "Epoch 41 - Training loss: 1.586 , Training Accuracy: 0.550\n"
     ]
    },
    {
     "name": "stderr",
     "output_type": "stream",
     "text": [
      "\r",
      " 43%|████▎     | 43/100 [03:40<04:49,  5.08s/it]"
     ]
    },
    {
     "name": "stdout",
     "output_type": "stream",
     "text": [
      "Epoch 42 - Training loss: 1.587 , Training Accuracy: 0.550\n"
     ]
    },
    {
     "name": "stderr",
     "output_type": "stream",
     "text": [
      "\r",
      " 44%|████▍     | 44/100 [03:45<04:43,  5.06s/it]"
     ]
    },
    {
     "name": "stdout",
     "output_type": "stream",
     "text": [
      "Epoch 43 - Training loss: 1.594 , Training Accuracy: 0.549\n"
     ]
    },
    {
     "name": "stderr",
     "output_type": "stream",
     "text": [
      "\r",
      " 45%|████▌     | 45/100 [03:50<04:37,  5.04s/it]"
     ]
    },
    {
     "name": "stdout",
     "output_type": "stream",
     "text": [
      "Epoch 44 - Training loss: 1.582 , Training Accuracy: 0.554\n"
     ]
    },
    {
     "name": "stderr",
     "output_type": "stream",
     "text": [
      "\r",
      " 46%|████▌     | 46/100 [03:55<04:33,  5.06s/it]"
     ]
    },
    {
     "name": "stdout",
     "output_type": "stream",
     "text": [
      "Epoch 45 - Training loss: 1.594 , Training Accuracy: 0.551\n",
      "Epoch 45 - Validation loss: 1.642 , Validation Accuracy: 0.524\n"
     ]
    },
    {
     "name": "stderr",
     "output_type": "stream",
     "text": [
      "\r",
      " 47%|████▋     | 47/100 [04:00<04:28,  5.07s/it]"
     ]
    },
    {
     "name": "stdout",
     "output_type": "stream",
     "text": [
      "Epoch 46 - Training loss: 1.589 , Training Accuracy: 0.558\n"
     ]
    },
    {
     "name": "stderr",
     "output_type": "stream",
     "text": [
      "\r",
      " 48%|████▊     | 48/100 [04:06<04:23,  5.06s/it]"
     ]
    },
    {
     "name": "stdout",
     "output_type": "stream",
     "text": [
      "Epoch 47 - Training loss: 1.584 , Training Accuracy: 0.554\n"
     ]
    },
    {
     "name": "stderr",
     "output_type": "stream",
     "text": [
      "\r",
      " 49%|████▉     | 49/100 [04:11<04:18,  5.06s/it]"
     ]
    },
    {
     "name": "stdout",
     "output_type": "stream",
     "text": [
      "Epoch 48 - Training loss: 1.584 , Training Accuracy: 0.555\n"
     ]
    },
    {
     "name": "stderr",
     "output_type": "stream",
     "text": [
      "\r",
      " 50%|█████     | 50/100 [04:16<04:11,  5.04s/it]"
     ]
    },
    {
     "name": "stdout",
     "output_type": "stream",
     "text": [
      "Epoch 49 - Training loss: 1.584 , Training Accuracy: 0.556\n"
     ]
    },
    {
     "name": "stderr",
     "output_type": "stream",
     "text": [
      "\r",
      " 51%|█████     | 51/100 [04:21<04:09,  5.08s/it]"
     ]
    },
    {
     "name": "stdout",
     "output_type": "stream",
     "text": [
      "Epoch 50 - Training loss: 1.581 , Training Accuracy: 0.555\n",
      "Epoch 50 - Validation loss: 1.606 , Validation Accuracy: 0.543\n"
     ]
    },
    {
     "name": "stderr",
     "output_type": "stream",
     "text": [
      "\r",
      " 52%|█████▏    | 52/100 [04:26<04:03,  5.08s/it]"
     ]
    },
    {
     "name": "stdout",
     "output_type": "stream",
     "text": [
      "Epoch 51 - Training loss: 1.576 , Training Accuracy: 0.556\n"
     ]
    },
    {
     "name": "stderr",
     "output_type": "stream",
     "text": [
      "\r",
      " 53%|█████▎    | 53/100 [04:31<03:59,  5.09s/it]"
     ]
    },
    {
     "name": "stdout",
     "output_type": "stream",
     "text": [
      "Epoch 52 - Training loss: 1.579 , Training Accuracy: 0.555\n"
     ]
    },
    {
     "name": "stderr",
     "output_type": "stream",
     "text": [
      "\r",
      " 54%|█████▍    | 54/100 [04:36<04:00,  5.22s/it]"
     ]
    },
    {
     "name": "stdout",
     "output_type": "stream",
     "text": [
      "Epoch 53 - Training loss: 1.577 , Training Accuracy: 0.558\n"
     ]
    },
    {
     "name": "stderr",
     "output_type": "stream",
     "text": [
      "\r",
      " 55%|█████▌    | 55/100 [04:41<03:51,  5.15s/it]"
     ]
    },
    {
     "name": "stdout",
     "output_type": "stream",
     "text": [
      "Epoch 54 - Training loss: 1.575 , Training Accuracy: 0.554\n"
     ]
    },
    {
     "name": "stderr",
     "output_type": "stream",
     "text": [
      "\r",
      " 56%|█████▌    | 56/100 [04:47<03:48,  5.19s/it]"
     ]
    },
    {
     "name": "stdout",
     "output_type": "stream",
     "text": [
      "Epoch 55 - Training loss: 1.574 , Training Accuracy: 0.555\n",
      "Epoch 55 - Validation loss: 1.591 , Validation Accuracy: 0.547\n"
     ]
    },
    {
     "name": "stderr",
     "output_type": "stream",
     "text": [
      "\r",
      " 57%|█████▋    | 57/100 [04:52<03:40,  5.12s/it]"
     ]
    },
    {
     "name": "stdout",
     "output_type": "stream",
     "text": [
      "Epoch 56 - Training loss: 1.582 , Training Accuracy: 0.556\n"
     ]
    },
    {
     "name": "stderr",
     "output_type": "stream",
     "text": [
      "\r",
      " 58%|█████▊    | 58/100 [04:57<03:33,  5.07s/it]"
     ]
    },
    {
     "name": "stdout",
     "output_type": "stream",
     "text": [
      "Epoch 57 - Training loss: 1.577 , Training Accuracy: 0.557\n"
     ]
    },
    {
     "name": "stderr",
     "output_type": "stream",
     "text": [
      "\r",
      " 59%|█████▉    | 59/100 [05:02<03:27,  5.07s/it]"
     ]
    },
    {
     "name": "stdout",
     "output_type": "stream",
     "text": [
      "Epoch 58 - Training loss: 1.582 , Training Accuracy: 0.551\n"
     ]
    },
    {
     "name": "stderr",
     "output_type": "stream",
     "text": [
      "\r",
      " 60%|██████    | 60/100 [05:07<03:21,  5.05s/it]"
     ]
    },
    {
     "name": "stdout",
     "output_type": "stream",
     "text": [
      "Epoch 59 - Training loss: 1.575 , Training Accuracy: 0.561\n"
     ]
    },
    {
     "name": "stderr",
     "output_type": "stream",
     "text": [
      "\r",
      " 61%|██████    | 61/100 [05:12<03:19,  5.11s/it]"
     ]
    },
    {
     "name": "stdout",
     "output_type": "stream",
     "text": [
      "Epoch 60 - Training loss: 1.578 , Training Accuracy: 0.557\n",
      "Epoch 60 - Validation loss: 1.600 , Validation Accuracy: 0.540\n"
     ]
    },
    {
     "name": "stderr",
     "output_type": "stream",
     "text": [
      "\r",
      " 62%|██████▏   | 62/100 [05:17<03:13,  5.08s/it]"
     ]
    },
    {
     "name": "stdout",
     "output_type": "stream",
     "text": [
      "Epoch 61 - Training loss: 1.572 , Training Accuracy: 0.559\n"
     ]
    },
    {
     "name": "stderr",
     "output_type": "stream",
     "text": [
      "\r",
      " 63%|██████▎   | 63/100 [05:22<03:07,  5.06s/it]"
     ]
    },
    {
     "name": "stdout",
     "output_type": "stream",
     "text": [
      "Epoch 62 - Training loss: 1.577 , Training Accuracy: 0.558\n"
     ]
    },
    {
     "name": "stderr",
     "output_type": "stream",
     "text": [
      "\r",
      " 64%|██████▍   | 64/100 [05:27<03:00,  5.02s/it]"
     ]
    },
    {
     "name": "stdout",
     "output_type": "stream",
     "text": [
      "Epoch 63 - Training loss: 1.581 , Training Accuracy: 0.557\n"
     ]
    },
    {
     "name": "stderr",
     "output_type": "stream",
     "text": [
      "\r",
      " 65%|██████▌   | 65/100 [05:32<02:56,  5.03s/it]"
     ]
    },
    {
     "name": "stdout",
     "output_type": "stream",
     "text": [
      "Epoch 64 - Training loss: 1.573 , Training Accuracy: 0.557\n"
     ]
    },
    {
     "name": "stderr",
     "output_type": "stream",
     "text": [
      "\r",
      " 66%|██████▌   | 66/100 [05:37<02:52,  5.07s/it]"
     ]
    },
    {
     "name": "stdout",
     "output_type": "stream",
     "text": [
      "Epoch 65 - Training loss: 1.572 , Training Accuracy: 0.556\n",
      "Epoch 65 - Validation loss: 1.609 , Validation Accuracy: 0.541\n"
     ]
    },
    {
     "name": "stderr",
     "output_type": "stream",
     "text": [
      "\r",
      " 67%|██████▋   | 67/100 [05:42<02:46,  5.03s/it]"
     ]
    },
    {
     "name": "stdout",
     "output_type": "stream",
     "text": [
      "Epoch 66 - Training loss: 1.570 , Training Accuracy: 0.560\n"
     ]
    },
    {
     "name": "stderr",
     "output_type": "stream",
     "text": [
      "\r",
      " 68%|██████▊   | 68/100 [05:47<02:40,  5.01s/it]"
     ]
    },
    {
     "name": "stdout",
     "output_type": "stream",
     "text": [
      "Epoch 67 - Training loss: 1.570 , Training Accuracy: 0.558\n"
     ]
    },
    {
     "name": "stderr",
     "output_type": "stream",
     "text": [
      "\r",
      " 69%|██████▉   | 69/100 [05:52<02:35,  5.03s/it]"
     ]
    },
    {
     "name": "stdout",
     "output_type": "stream",
     "text": [
      "Epoch 68 - Training loss: 1.570 , Training Accuracy: 0.559\n"
     ]
    },
    {
     "name": "stderr",
     "output_type": "stream",
     "text": [
      "\r",
      " 70%|███████   | 70/100 [05:57<02:29,  4.98s/it]"
     ]
    },
    {
     "name": "stdout",
     "output_type": "stream",
     "text": [
      "Epoch 69 - Training loss: 1.569 , Training Accuracy: 0.557\n"
     ]
    },
    {
     "name": "stderr",
     "output_type": "stream",
     "text": [
      "\r",
      " 71%|███████   | 71/100 [06:02<02:26,  5.05s/it]"
     ]
    },
    {
     "name": "stdout",
     "output_type": "stream",
     "text": [
      "Epoch 70 - Training loss: 1.569 , Training Accuracy: 0.559\n",
      "Epoch 70 - Validation loss: 1.623 , Validation Accuracy: 0.529\n"
     ]
    },
    {
     "name": "stderr",
     "output_type": "stream",
     "text": [
      "\r",
      " 72%|███████▏  | 72/100 [06:08<02:24,  5.16s/it]"
     ]
    },
    {
     "name": "stdout",
     "output_type": "stream",
     "text": [
      "Epoch 71 - Training loss: 1.573 , Training Accuracy: 0.559\n"
     ]
    },
    {
     "name": "stderr",
     "output_type": "stream",
     "text": [
      "\r",
      " 73%|███████▎  | 73/100 [06:13<02:18,  5.11s/it]"
     ]
    },
    {
     "name": "stdout",
     "output_type": "stream",
     "text": [
      "Epoch 72 - Training loss: 1.569 , Training Accuracy: 0.563\n"
     ]
    },
    {
     "name": "stderr",
     "output_type": "stream",
     "text": [
      "\r",
      " 74%|███████▍  | 74/100 [06:18<02:12,  5.11s/it]"
     ]
    },
    {
     "name": "stdout",
     "output_type": "stream",
     "text": [
      "Epoch 73 - Training loss: 1.567 , Training Accuracy: 0.565\n"
     ]
    },
    {
     "name": "stderr",
     "output_type": "stream",
     "text": [
      "\r",
      " 75%|███████▌  | 75/100 [06:23<02:07,  5.09s/it]"
     ]
    },
    {
     "name": "stdout",
     "output_type": "stream",
     "text": [
      "Epoch 74 - Training loss: 1.569 , Training Accuracy: 0.562\n"
     ]
    },
    {
     "name": "stderr",
     "output_type": "stream",
     "text": [
      "\r",
      " 76%|███████▌  | 76/100 [06:28<02:03,  5.13s/it]"
     ]
    },
    {
     "name": "stdout",
     "output_type": "stream",
     "text": [
      "Epoch 75 - Training loss: 1.572 , Training Accuracy: 0.561\n",
      "Epoch 75 - Validation loss: 1.577 , Validation Accuracy: 0.548\n"
     ]
    },
    {
     "name": "stderr",
     "output_type": "stream",
     "text": [
      "\r",
      " 77%|███████▋  | 77/100 [06:33<01:57,  5.10s/it]"
     ]
    },
    {
     "name": "stdout",
     "output_type": "stream",
     "text": [
      "Epoch 76 - Training loss: 1.566 , Training Accuracy: 0.557\n"
     ]
    },
    {
     "name": "stderr",
     "output_type": "stream",
     "text": [
      "\r",
      " 78%|███████▊  | 78/100 [06:38<01:51,  5.08s/it]"
     ]
    },
    {
     "name": "stdout",
     "output_type": "stream",
     "text": [
      "Epoch 77 - Training loss: 1.563 , Training Accuracy: 0.560\n"
     ]
    },
    {
     "name": "stderr",
     "output_type": "stream",
     "text": [
      "\r",
      " 79%|███████▉  | 79/100 [06:43<01:46,  5.05s/it]"
     ]
    },
    {
     "name": "stdout",
     "output_type": "stream",
     "text": [
      "Epoch 78 - Training loss: 1.558 , Training Accuracy: 0.566\n"
     ]
    },
    {
     "name": "stderr",
     "output_type": "stream",
     "text": [
      "\r",
      " 80%|████████  | 80/100 [06:48<01:40,  5.02s/it]"
     ]
    },
    {
     "name": "stdout",
     "output_type": "stream",
     "text": [
      "Epoch 79 - Training loss: 1.564 , Training Accuracy: 0.561\n"
     ]
    },
    {
     "name": "stderr",
     "output_type": "stream",
     "text": [
      "\r",
      " 81%|████████  | 81/100 [06:53<01:36,  5.06s/it]"
     ]
    },
    {
     "name": "stdout",
     "output_type": "stream",
     "text": [
      "Epoch 80 - Training loss: 1.563 , Training Accuracy: 0.564\n",
      "Epoch 80 - Validation loss: 1.602 , Validation Accuracy: 0.548\n"
     ]
    },
    {
     "name": "stderr",
     "output_type": "stream",
     "text": [
      "\r",
      " 82%|████████▏ | 82/100 [06:58<01:30,  5.03s/it]"
     ]
    },
    {
     "name": "stdout",
     "output_type": "stream",
     "text": [
      "Epoch 81 - Training loss: 1.564 , Training Accuracy: 0.563\n"
     ]
    },
    {
     "name": "stderr",
     "output_type": "stream",
     "text": [
      "\r",
      " 83%|████████▎ | 83/100 [07:03<01:25,  5.02s/it]"
     ]
    },
    {
     "name": "stdout",
     "output_type": "stream",
     "text": [
      "Epoch 82 - Training loss: 1.563 , Training Accuracy: 0.563\n"
     ]
    },
    {
     "name": "stderr",
     "output_type": "stream",
     "text": [
      "\r",
      " 84%|████████▍ | 84/100 [07:08<01:20,  5.05s/it]"
     ]
    },
    {
     "name": "stdout",
     "output_type": "stream",
     "text": [
      "Epoch 83 - Training loss: 1.558 , Training Accuracy: 0.566\n"
     ]
    },
    {
     "name": "stderr",
     "output_type": "stream",
     "text": [
      "\r",
      " 85%|████████▌ | 85/100 [07:13<01:15,  5.03s/it]"
     ]
    },
    {
     "name": "stdout",
     "output_type": "stream",
     "text": [
      "Epoch 84 - Training loss: 1.570 , Training Accuracy: 0.566\n",
      "Epoch 85 - Training loss: 1.567 , Training Accuracy: 0.562\n"
     ]
    },
    {
     "name": "stderr",
     "output_type": "stream",
     "text": [
      "\r",
      " 86%|████████▌ | 86/100 [07:18<01:11,  5.12s/it]"
     ]
    },
    {
     "name": "stdout",
     "output_type": "stream",
     "text": [
      "Epoch 85 - Validation loss: 1.599 , Validation Accuracy: 0.547\n"
     ]
    },
    {
     "name": "stderr",
     "output_type": "stream",
     "text": [
      "\r",
      " 87%|████████▋ | 87/100 [07:24<01:06,  5.09s/it]"
     ]
    },
    {
     "name": "stdout",
     "output_type": "stream",
     "text": [
      "Epoch 86 - Training loss: 1.553 , Training Accuracy: 0.565\n"
     ]
    },
    {
     "name": "stderr",
     "output_type": "stream",
     "text": [
      "\r",
      " 88%|████████▊ | 88/100 [07:29<01:00,  5.07s/it]"
     ]
    },
    {
     "name": "stdout",
     "output_type": "stream",
     "text": [
      "Epoch 87 - Training loss: 1.562 , Training Accuracy: 0.569\n"
     ]
    },
    {
     "name": "stderr",
     "output_type": "stream",
     "text": [
      "\r",
      " 89%|████████▉ | 89/100 [07:34<00:55,  5.07s/it]"
     ]
    },
    {
     "name": "stdout",
     "output_type": "stream",
     "text": [
      "Epoch 88 - Training loss: 1.557 , Training Accuracy: 0.565\n"
     ]
    },
    {
     "name": "stderr",
     "output_type": "stream",
     "text": [
      "\r",
      " 90%|█████████ | 90/100 [07:39<00:52,  5.23s/it]"
     ]
    },
    {
     "name": "stdout",
     "output_type": "stream",
     "text": [
      "Epoch 89 - Training loss: 1.557 , Training Accuracy: 0.565\n"
     ]
    },
    {
     "name": "stderr",
     "output_type": "stream",
     "text": [
      "\r",
      " 91%|█████████ | 91/100 [07:44<00:47,  5.25s/it]"
     ]
    },
    {
     "name": "stdout",
     "output_type": "stream",
     "text": [
      "Epoch 90 - Training loss: 1.556 , Training Accuracy: 0.564\n",
      "Epoch 90 - Validation loss: 1.609 , Validation Accuracy: 0.553\n"
     ]
    },
    {
     "name": "stderr",
     "output_type": "stream",
     "text": [
      "\r",
      " 92%|█████████▏| 92/100 [07:50<00:41,  5.21s/it]"
     ]
    },
    {
     "name": "stdout",
     "output_type": "stream",
     "text": [
      "Epoch 91 - Training loss: 1.552 , Training Accuracy: 0.570\n"
     ]
    },
    {
     "name": "stderr",
     "output_type": "stream",
     "text": [
      "\r",
      " 93%|█████████▎| 93/100 [07:55<00:36,  5.17s/it]"
     ]
    },
    {
     "name": "stdout",
     "output_type": "stream",
     "text": [
      "Epoch 92 - Training loss: 1.547 , Training Accuracy: 0.575\n"
     ]
    },
    {
     "name": "stderr",
     "output_type": "stream",
     "text": [
      "\r",
      " 94%|█████████▍| 94/100 [08:00<00:30,  5.14s/it]"
     ]
    },
    {
     "name": "stdout",
     "output_type": "stream",
     "text": [
      "Epoch 93 - Training loss: 1.547 , Training Accuracy: 0.576\n"
     ]
    },
    {
     "name": "stderr",
     "output_type": "stream",
     "text": [
      "\r",
      " 95%|█████████▌| 95/100 [08:05<00:25,  5.14s/it]"
     ]
    },
    {
     "name": "stdout",
     "output_type": "stream",
     "text": [
      "Epoch 94 - Training loss: 1.563 , Training Accuracy: 0.570\n",
      "Epoch 95 - Training loss: 1.542 , Training Accuracy: 0.573\n"
     ]
    },
    {
     "name": "stderr",
     "output_type": "stream",
     "text": [
      "\r",
      " 96%|█████████▌| 96/100 [08:10<00:20,  5.22s/it]"
     ]
    },
    {
     "name": "stdout",
     "output_type": "stream",
     "text": [
      "Epoch 95 - Validation loss: 1.591 , Validation Accuracy: 0.555\n"
     ]
    },
    {
     "name": "stderr",
     "output_type": "stream",
     "text": [
      "\r",
      " 97%|█████████▋| 97/100 [08:15<00:15,  5.20s/it]"
     ]
    },
    {
     "name": "stdout",
     "output_type": "stream",
     "text": [
      "Epoch 96 - Training loss: 1.546 , Training Accuracy: 0.578\n"
     ]
    },
    {
     "name": "stderr",
     "output_type": "stream",
     "text": [
      "\r",
      " 98%|█████████▊| 98/100 [08:21<00:10,  5.20s/it]"
     ]
    },
    {
     "name": "stdout",
     "output_type": "stream",
     "text": [
      "Epoch 97 - Training loss: 1.538 , Training Accuracy: 0.581\n"
     ]
    },
    {
     "name": "stderr",
     "output_type": "stream",
     "text": [
      "\r",
      " 99%|█████████▉| 99/100 [08:26<00:05,  5.20s/it]"
     ]
    },
    {
     "name": "stdout",
     "output_type": "stream",
     "text": [
      "Epoch 98 - Training loss: 1.547 , Training Accuracy: 0.576\n"
     ]
    },
    {
     "name": "stderr",
     "output_type": "stream",
     "text": [
      "100%|██████████| 100/100 [08:31<00:00,  5.11s/it]"
     ]
    },
    {
     "name": "stdout",
     "output_type": "stream",
     "text": [
      "Epoch 99 - Training loss: 1.535 , Training Accuracy: 0.582\n"
     ]
    },
    {
     "name": "stderr",
     "output_type": "stream",
     "text": [
      "\n"
     ]
    }
   ],
   "source": [
    "# Set up the model\n",
    "run = 4\n",
    "lr = 1e-3\n",
    "weight_decay = 1e-3\n",
    "num_layers = 2\n",
    "dropout = 0.5\n",
    "model = EmotionLSTMTransformer(num_features, num_unique, num_layers=num_layers, dropout=dropout).cuda()\n",
    "criterion = nn.NLLLoss()\n",
    "optim = torch.optim.AdamW(model.parameters(), lr=lr, weight_decay=weight_decay)\n",
    "\n",
    "# start training\n",
    "losses = []\n",
    "val_loss = []\n",
    "accuracies = []\n",
    "val_accuracy = []\n",
    "\n",
    "epochs = 100\n",
    "for epoch in tqdm(range(epochs)):\n",
    "    model.train()\n",
    "    running_loss = 0\n",
    "    correct_count = 0\n",
    "    for x,y in train_loader:\n",
    "        optim.zero_grad()\n",
    "        \n",
    "        x_cuda = x.cuda()\n",
    "        y_cuda = torch.squeeze(y).cuda()\n",
    "        \n",
    "        # Output from mode\n",
    "        output = model(x_cuda)\n",
    "        output = output.cuda()\n",
    "        \n",
    "        # Calculate loss\n",
    "        loss = criterion(output, y_cuda)\n",
    "        \n",
    "        # Calculate predictions\n",
    "        # Need to take max over the log probs (batch_size, num_classes)\n",
    "        _, pred = torch.max(output, 1)\n",
    "        pred = pred.type(torch.FloatTensor).cuda()\n",
    "        \n",
    "        num_correct = np.sum(y_cuda.cpu().detach().numpy() == pred.cpu().detach().numpy())\n",
    "        correct_count += num_correct\n",
    "        \n",
    "        # Backprop\n",
    "        loss.backward()\n",
    "        \n",
    "        # Update weights\n",
    "        optim.step()\n",
    "        \n",
    "        # Keep track of losses\n",
    "        running_loss += loss.item()\n",
    "    # Calculate average loss\n",
    "    epoch_loss = running_loss / len(train_loader)\n",
    "    \n",
    "    # Accuracy\n",
    "    accuracy = correct_count / (len(train_loader) * batch_size)\n",
    "    \n",
    "    losses.append(epoch_loss)\n",
    "    accuracies.append(accuracy)\n",
    "    print(\"Epoch %d - Training loss: %.3f , Training Accuracy: %.3f\" %\n",
    "          (epoch, epoch_loss, accuracy))\n",
    "    \n",
    "    # Validation every 10 epochs\n",
    "    if epoch % 5 == 0:\n",
    "        model.eval()\n",
    "        correct_eval = 0\n",
    "        eval_loss = 0\n",
    "        for x,y in val_loader:\n",
    "            x_cuda = x.cuda()\n",
    "            y_cuda = torch.squeeze(y).cuda()\n",
    "            \n",
    "            # Output from mode\n",
    "            output = model(x_cuda)\n",
    "            output = output.cuda()\n",
    "            # Loss\n",
    "            loss = criterion(output, y_cuda)\n",
    "            \n",
    "            # Need to take max over the log probs (batch_size, num_classes)\n",
    "            _, pred = torch.max(output, 1)\n",
    "            pred = pred.type(torch.FloatTensor).cuda()\n",
    "        \n",
    "            num_correct = np.sum(y_cuda.cpu().detach().numpy() == pred.cpu().detach().numpy())\n",
    "            correct_eval += num_correct\n",
    "            eval_loss += loss.item()\n",
    "        # Calculate average loss\n",
    "        epoch_loss = eval_loss / len(val_loader)\n",
    "        val_loss.append(epoch_loss)\n",
    "    \n",
    "        # Accuracy\n",
    "        accuracy = correct_eval / (len(val_loader) * batch_size)\n",
    "        val_accuracy.append(accuracy)\n",
    "        print(\"Epoch %d - Validation loss: %.3f , Validation Accuracy: %.3f\" %\n",
    "          (epoch, epoch_loss, accuracy))\n"
   ]
  },
  {
   "cell_type": "code",
   "execution_count": 8,
   "metadata": {},
   "outputs": [
    {
     "name": "stdout",
     "output_type": "stream",
     "text": [
      "Model: EmotionLSTMTransformer\n",
      "Epochs:  100\n",
      "Learning rate:  0.001\n",
      "Weight decay:  0.001\n",
      "Num features: 6 \n",
      "Dropout: 0.5\n"
     ]
    },
    {
     "data": {
      "image/png": "[encoded data removed]",
      "text/plain": [
       "<Figure size 864x288 with 2 Axes>"
      ]
     },
     "metadata": {
      "needs_background": "light"
     },
     "output_type": "display_data"
    },
    {
     "data": {
      "image/png": "[encoded data removed]",
      "text/plain": [
       "<Figure size 864x288 with 2 Axes>"
      ]
     },
     "metadata": {
      "needs_background": "light"
     },
     "output_type": "display_data"
    }
   ],
   "source": [
    "# Run info:\n",
    "model_name = 'EmotionLSTMTransformer'\n",
    "print(f'Model: {model_name}')\n",
    "print(f'Epochs: ', epochs)\n",
    "print(f'Learning rate: ', lr)\n",
    "print(f'Weight decay: ', weight_decay)\n",
    "print(f'Num features: {num_features} ')\n",
    "print(f'Dropout: {dropout}')\n",
    "path = f'./Results/{model_name}_{run}'\n",
    "if not os.path.isdir(path):\n",
    "    os.mkdir(path)\n",
    "    \n",
    "with open(path+'/hyperparameters.txt', 'w') as file:\n",
    "    file.write(f'Model: {model_name} \\n')\n",
    "    file.write(f'Epochs: {epochs} \\n')\n",
    "    file.write(f'learning rate: {lr} \\n')\n",
    "    file.write(f'weight decay: {weight_decay} \\n')\n",
    "    file.write(f'Num features: {num_features} \\n ')\n",
    "    file.write(f'num layers: {num_layers} \\n')\n",
    "    file.write(f'dropout: {dropout} \\n')\n",
    "\n",
    "# Train plots\n",
    "fig, (ax1, ax2) = plt.subplots(1, 2, figsize=(12, 4))\n",
    "ax1.plot(losses)\n",
    "ax2.plot(accuracies)\n",
    "ax1.set_xlabel('Epoch')\n",
    "ax1.set_ylabel('Loss')\n",
    "ax2.set_xlabel('Epoch')\n",
    "ax2.set_ylabel('Accuracy')\n",
    "ax1.set_title('Train loss')\n",
    "ax2.set_title('Train accuracy')\n",
    "plt.savefig(path+'/train_plots.png')\n",
    "plt.show()\n",
    "\n",
    "# Val plots\n",
    "fig, (ax1, ax2) = plt.subplots(1, 2, figsize=(12, 4))\n",
    "ax1.plot(val_loss)\n",
    "ax2.plot(val_accuracy)\n",
    "ax1.set_xlabel('Epoch')\n",
    "ax1.set_ylabel('Loss')\n",
    "ax2.set_xlabel('Epoch')\n",
    "ax2.set_ylabel('Accuracy')\n",
    "ax1.set_title('Val loss')\n",
    "ax2.set_title('Val accuracy')\n",
    "plt.savefig(path+'/val_plots.png')\n",
    "plt.show()\n",
    "\n",
    "# Save the trained model\n",
    "torch.save(model.state_dict(), path+'/'+model_name+'_state_dict.pt')"
   ]
  },
  {
   "cell_type": "code",
   "execution_count": 9,
   "metadata": {},
   "outputs": [
    {
     "name": "stdout",
     "output_type": "stream",
     "text": [
      "Test loss: 1.521 , Test Accuracy: 0.612, Avg F1 macro: 0.2649, Avg F1 micro: 0.617\n"
     ]
    }
   ],
   "source": [
    "# Run testing on the results\n",
    "model.eval()\n",
    "correct_test = 0\n",
    "test_loss = 0\n",
    "total_macro = 0\n",
    "total_micro = 0\n",
    "for x,y in test_loader:\n",
    "    x_cuda = x.cuda()\n",
    "    y_cuda = torch.squeeze(y).cuda()\n",
    "\n",
    "    # Output from mode\n",
    "    output = model(x_cuda)\n",
    "    output = output.cuda()\n",
    "    \n",
    "    # Loss\n",
    "    loss = criterion(output, y_cuda)\n",
    "\n",
    "    # Need to take max over the log probs (batch_size, num_classes)\n",
    "    _, pred = torch.max(output, 1)\n",
    "    pred = pred.type(torch.FloatTensor).cuda()\n",
    "\n",
    "    num_correct = np.sum(y_cuda.cpu().detach().numpy() == pred.cpu().detach().numpy())\n",
    "    \n",
    "    f1 = f1_score(y_cuda.cpu().detach().numpy(), pred.cpu().detach().numpy(), average='macro')\n",
    "    total_macro += f1\n",
    "    f1 = f1_score(y_cuda.cpu().detach().numpy(), pred.cpu().detach().numpy(), average='micro')\n",
    "    total_micro += f1\n",
    "    \n",
    "    correct_test += num_correct\n",
    "    test_loss += loss\n",
    "# Calculate average loss\n",
    "epoch_loss = test_loss / len(test_loader)\n",
    "\n",
    "# Accuracy\n",
    "accuracy = correct_test / (len(test_loader) * batch_size)\n",
    "avg_macro = total_macro / len(test_loader)\n",
    "avg_micro = total_micro / len(test_loader)\n",
    "print(\"Test loss: %.3f , Test Accuracy: %.3f, Avg F1 macro: %.4f, Avg F1 micro: %.3f\" % \n",
    "      (epoch_loss, accuracy, avg_macro, avg_micro))"
   ]
  },
  {
   "cell_type": "code",
   "execution_count": 10,
   "metadata": {},
   "outputs": [],
   "source": [
    "# Save test result\n",
    "with open(path+'/test_results.txt', 'w') as f:\n",
    "    f.write(\"Test loss: %.3f , Test Accuracy: %.3f, Avg F1 macro: %.4f, Avg F1 micro: %.3f\" % \n",
    "      (epoch_loss, accuracy, avg_macro, avg_micro))"
   ]
  },
  {
   "cell_type": "code",
   "execution_count": 11,
   "metadata": {},
   "outputs": [],
   "source": [
    "# Create dataset from the data\n",
    "class CREMADataset(Dataset):\n",
    "    \"\"\"\n",
    "    CREMA-D dataset to load and use\n",
    "    \"\"\"\n",
    "    def __init__(self, X, Y, num_examples, split='train', train_ratio = 0.8, val_ratio = 0.1):\n",
    "        super().__init__()\n",
    "        # X are the features, Y are the labels\n",
    "        self.Y = Y  \n",
    "        self.X = X\n",
    "        self.num_examples = num_examples\n",
    "        self.train_ratio = train_ratio\n",
    "        self.val_ratio = val_ratio\n",
    "\n",
    "        # Decides which indices belong to which split.\n",
    "        train_indices, val_indices, test_indices = self.split_data(num_examples, train_ratio=train_ratio, val_ratio=val_ratio)\n",
    "\n",
    "        if split == 'train':\n",
    "            indices = train_indices\n",
    "        elif split == 'val':\n",
    "            indices = val_indices\n",
    "        elif split == 'test':\n",
    "            indices = test_indices\n",
    "        else:\n",
    "            raise Exception(f'Split {split} not supported.')\n",
    "            \n",
    "        self.indices = indices\n",
    "\n",
    "    def split_data(self, num_examples, train_ratio = 0.8, val_ratio = 0.1):\n",
    "        \"\"\"Splits data into train, val, and test sets based on speaker. When \n",
    "        evaluating methods on the test split, we measure how well they generalize\n",
    "        to new (unseen) speakers.\n",
    "\n",
    "        Concretely, this stores and returns indices belonging to each split.\n",
    "        \"\"\"\n",
    "        # Fix seed so everyone reproduces the same splits.\n",
    "        rs = np.random.RandomState(42)\n",
    "\n",
    "        indices = np.arange(0, num_examples)\n",
    "        train_idx = int(num_examples * train_ratio)\n",
    "        num_remaining = num_examples - train_idx\n",
    "        val_idx = train_idx + int(num_remaining/2)\n",
    "        \n",
    "        print(f'train idx: {train_idx}')\n",
    "        print(f'val idx: {val_idx}')\n",
    "        \n",
    "        train_indices = indices[:train_idx]\n",
    "        val_indices = indices[train_idx:val_idx]\n",
    "        test_indices = indices[val_idx:]\n",
    "        return train_indices, val_indices, test_indices\n",
    "\n",
    "    def __getitem__(self, index):\n",
    "        index = self.indices[index]\n",
    "        return torch.FloatTensor(self.X[index,:]), torch.LongTensor([self.Y[index]])\n",
    "\n",
    "    def __len__(self):\n",
    "        \"\"\"Returns total number of utterances in the dataset.\"\"\"\n",
    "        return len(self.indices)\n"
   ]
  },
  {
   "cell_type": "code",
   "execution_count": 12,
   "metadata": {},
   "outputs": [],
   "source": [
    "# Define the transformer\n",
    "class MLP(nn.Module):\n",
    "    def __init__(self, input_dim, n_classes):\n",
    "        super().__init__()\n",
    "        # Initialize layers\n",
    "        self.linear = nn.Linear(input_dim, n_classes)\n",
    "        self.relu = nn.ReLU()\n",
    "    \n",
    "    def forward(self, x):\n",
    "        output = self.linear(x)\n",
    "        result = self.relu(output)\n",
    "        return result\n",
    "    \n",
    "class EmotionTransformerPrototype(nn.Module):\n",
    "    def __init__(self, input_dim, num_class, num_layers=2, hidden_dim=128):\n",
    "        super().__init__()\n",
    "        # Note: `batch_first=True` argument implies the inputs to the LSTM should\n",
    "        # be of shape (batch_size x T x D) instead of (T x batch_size x D).\n",
    "        self.encoder = MLP(input_dim, hidden_dim)\n",
    "        self.decoder = nn.Linear(hidden_dim, num_class)\n",
    "        self.input_dim = input_dim\n",
    "        self.num_class = num_class\n",
    "        self.num_layers = num_layers\n",
    "        self.hidden_dim = hidden_dim\n",
    "        \n",
    "    def forward(self, inputs):\n",
    "        log_probs = None\n",
    "        # Hint: This is an N-way classification problem.\n",
    "        embed = self.encoder(inputs)\n",
    "        output = self.decoder(embed)\n",
    "        # Softmax for N-way classification, followed by log to make them log_probs\n",
    "        # log_probs = F.log_softmax(output, dim=2)\n",
    "        log_probs = F.log_softmax(output, dim=-1)\n",
    "        # If log softmax --> use negative log likelihood loss\n",
    "        # If normal probabilities --> use normal cross entropy (equivalent methods!)\n",
    "        return log_probs\n",
    "  \n",
    "    def get_loss(self, probs, targets):\n",
    "        loss = None\n",
    "        # Cross entropy loss if probs is normal probabilities\n",
    "        # Negative log likelihood if probs is log probs\n",
    "        # probs = probs.view(-1)\n",
    "        # targets = targets.view(-1).type(dtype=torch.float) # --> float()\n",
    "        # loss = F.cross_entropy(probs, targets)\n",
    "        loss = F.nll_loss(probs, targets)\n",
    "        return loss\n",
    "\n",
    "class EmotionCNNTransformer(nn.Module):\n",
    "    def __init__(\n",
    "          self, input_dim, num_class, kernel_size, num_layers=2, hidden_dim=128, stride=1, padding=0):\n",
    "        super().__init__()\n",
    "        # Note: `batch_first=True` argument implies the inputs to the LSTM should\n",
    "        # be of shape (batch_size x T x D) instead of (T x batch_size x D).\n",
    "        self.encoder = nn.Conv1d(input_dim, hidden_dim, kernel_size, stride=stride, padding=padding)\n",
    "        self.decoder = nn.Linear(hidden_dim, num_class)\n",
    "        self.input_dim = input_dim\n",
    "        self.num_class = num_class\n",
    "        self.num_layers = num_layers\n",
    "        self.hidden_dim = hidden_dim\n",
    "\n",
    "    \n",
    "class EmotionRNNTransformer(nn.Module):\n",
    "    \"\"\"\n",
    "  Encoder-Decoder model to classify emotions for utterances.\n",
    "\n",
    "  Args:\n",
    "    input_dim: integer\n",
    "                number of input features\n",
    "    num_class: integer\n",
    "                number of class labels\n",
    "    num_layers: integer (default: 2)\n",
    "                number of layers in encoder LSTM\n",
    "    hidden_dim: integer (default: 128)\n",
    "                number of hidden dimensions for encoder LSTM\n",
    "    bidirectional: boolean (default: True)\n",
    "                    is the encoder LSTM bidirectional?\n",
    "  \"\"\"\n",
    "    def __init__(\n",
    "          self, input_dim, num_class, num_layers=2, hidden_dim=128,\n",
    "          bidirectional=True):\n",
    "        super().__init__()\n",
    "        # Note: `batch_first=True` argument implies the inputs to the LSTM should\n",
    "        # be of shape (batch_size x T x D) instead of (T x batch_size x D).\n",
    "        self.encoder = nn.LSTM(input_dim, hidden_dim, num_layers=num_layers, \n",
    "                                bidirectional=bidirectional, batch_first=True)\n",
    "        self.decoder = nn.Linear(hidden_dim * 2, num_class)\n",
    "        self.input_dim = input_dim\n",
    "        self.num_class = num_class\n",
    "        self.num_layers = num_layers\n",
    "        self.hidden_dim = hidden_dim\n",
    "        self.embedding_dim = hidden_dim * num_layers * 2 * \\\n",
    "                              (2 if bidirectional else 1)\n",
    "\n",
    "    def combine_h_and_c(self, h, c):\n",
    "        \"\"\"Combine the signals from RNN hidden and cell states.\"\"\"\n",
    "        batch_size = h.size(1)\n",
    "        h = h.permute(1, 0, 2).contiguous()\n",
    "        c = c.permute(1, 0, 2).contiguous()\n",
    "        h = h.view(batch_size, -1)\n",
    "        c = c.view(batch_size, -1)\n",
    "        return torch.cat([h, c], dim=1)  # just concatenate\n",
    "\n",
    "    def forward(self, inputs, input_lengths):\n",
    "        batch_size, max_length, _ = inputs.size()\n",
    "        # `torch.nn.utils.rnn.pack_padded_sequence` collapses padded sequences\n",
    "        # to a contiguous chunk\n",
    "        inputs = torch.nn.utils.rnn.pack_padded_sequence(\n",
    "            inputs, input_lengths.cpu(), batch_first=True, enforce_sorted=False)\n",
    "        log_probs = None\n",
    "        h, c = None, None\n",
    "        ############################ START OF YOUR CODE ############################\n",
    "        # TODO(2.1)\n",
    "        # Hint:\n",
    "        # - Refer to https://pytorch.org/docs/stable/nn.html\n",
    "        # - Use `self.encoder` to get the encodings output which is of shape\n",
    "        #   (batch_size, max_length, num_directions*hidden_dim) and the\n",
    "        #   hidden states and cell states which are both of shape\n",
    "        #   (batch_size, num_layers*num_directions, hidden_dim)\n",
    "        # - Pad outputs with `0.` using `torch.nn.utils.rnn.pad_packed_sequence`\n",
    "        #   (turn on batch_first and set total_length as max_length).\n",
    "        # - Apply 50% dropout.\n",
    "        # - Use `self.decoder` to take the embeddings sequence and return\n",
    "        #   probabilities for each character.\n",
    "        # - Make sure to then convert to log probabilities.\n",
    "\n",
    "        # Get encodings\n",
    "        encodings, (h, c) = self.encoder(inputs)\n",
    "\n",
    "        # Pad outputs with '0'\n",
    "        padded, lengths = torch.nn.utils.rnn.pad_packed_sequence(encodings, batch_first=True, total_length=max_length)\n",
    "\n",
    "        # Apply dropout\n",
    "        dropout = nn.Dropout(p=0.5)\n",
    "        dropped_padded = dropout(padded)\n",
    "\n",
    "        # Decode to get probabilies dimensions (batch_size, time steps, num chars <vocab>)\n",
    "        probabilities = self.decoder(dropped_padded)\n",
    "\n",
    "        # Log probabilities\n",
    "        # dim=2 because softmax over the vocabulary dimension. dim=1 is over time steps\n",
    "        log_probs = F.log_softmax(probabilities, dim=2)\n",
    "\n",
    "        ############################# END OF YOUR CODE #############################\n",
    "\n",
    "        # The extracted embedding is not used for the ASR task but will be\n",
    "        # needed for other auxiliary tasks.\n",
    "        embedding = self.combine_h_and_c(h, c)\n",
    "        return log_probs, embedding\n",
    "\n",
    "    def get_loss(self, log_probs, targets):\n",
    "            # cross-entropy for softmax/negative log likelihood loss for log softmax\n",
    "        return F.nll_loss(probs, targets)\n",
    "\n",
    "    def decode(self, log_probs, input_lengths, labels, label_lengths):\n",
    "        # Use greedy decoding.\n",
    "        decoded = torch.argmax(log_probs, dim=2)\n",
    "        batch_size = decoded.size(0)\n",
    "\n",
    "        hypothesis_lengths = input_lengths.cpu().numpy().tolist()\n",
    "        if labels is None: # Run at inference time.\n",
    "          references, reference_lengths = None, None\n",
    "        else:\n",
    "          references = labels.cpu().numpy().tolist()\n",
    "          reference_lengths = label_lengths.cpu().numpy().tolist()\n",
    "\n",
    "        return hypotheses, hypothesis_lengths, references, reference_lengths"
   ]
  },
  {
   "cell_type": "code",
   "execution_count": 13,
   "metadata": {
    "id": "JLduPvIOC7cb"
   },
   "outputs": [],
   "source": [
    "# Get data and labels for training\n",
    "# train_split = int(0.8 * num_files)\n",
    "# print('train_split: ', train_split)\n",
    "# print(f'train size: {X[:train_split].shape}, val size: {X[train_split:].shape}')\n",
    "\n",
    "# model = LogisticRegression().fit(X[:train_split], Y[:train_split])\n",
    "\n",
    "# # Predict on validation/test (80-20 split)\n",
    "# predictions = model.predict(X[train_split:])\n",
    "\n",
    "# # Output score (mean accuracy)\n",
    "# score = model.score(X[train_split:],Y[train_split:])\n",
    "# print(f'Test accuracy score: {score}')\n",
    "\n",
    "# f1 = f1_score(Y[train_split:], predictions, average='macro')\n",
    "# print(f'macro f1 score: {f1}')\n",
    "# f1 = f1_score(Y[train_split:], predictions, average='micro')\n",
    "# print(f'micro f1 score: {f1}')"
   ]
  },
  {
   "cell_type": "code",
   "execution_count": 14,
   "metadata": {},
   "outputs": [],
   "source": [
    "# Some basic stats for the dataset\n",
    "# avg = np.mean(X, axis=0)\n",
    "# print(f'avg shape: {avg.shape}')\n",
    "# stats = ['f0_min', 'f0_max', 'f0_mean', 'f0_range', 'duration', 'rms_min', 'rms_max', 'rms_mean', 'pitch_max', 'pitch_min', \n",
    "#                   'pitch_range', 'pitch_mean']\n",
    "# stats = ['f0_min', 'f0_max', 'f0_mean', 'f0_range', 'duration', 'rms_min', 'rms_max', 'rms_mean']\n",
    "# for j,stat in enumerate(stats):\n",
    "#     print(f'{stat} average: {avg[j]}')"
   ]
  },
  {
   "cell_type": "code",
   "execution_count": null,
   "metadata": {},
   "outputs": [],
   "source": []
  }
 ],
 "metadata": {
  "colab": {
   "collapsed_sections": [],
   "name": "Baseline.ipynb",
   "provenance": []
  },
  "kernelspec": {
   "display_name": "Python 3",
   "language": "python",
   "name": "python3"
  },
  "language_info": {
   "codemirror_mode": {
    "name": "ipython",
    "version": 3
   },
   "file_extension": ".py",
   "mimetype": "text/x-python",
   "name": "python",
   "nbconvert_exporter": "python",
   "pygments_lexer": "ipython3",
   "version": "3.7.9"
  }
 },
 "nbformat": 4,
 "nbformat_minor": 1
}
