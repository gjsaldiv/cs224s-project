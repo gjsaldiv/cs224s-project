{
 "cells": [
  {
   "cell_type": "code",
   "execution_count": 1,
   "metadata": {
    "id": "S6iAqK_e-z75"
   },
   "outputs": [],
   "source": [
    "# Imports \n",
    "import librosa\n",
    "import librosa.display\n",
    "import librosa.effects\n",
    "import librosa.util\n",
    "\n",
    "import numpy as np\n",
    "import sys, os\n",
    "import pandas as pd\n",
    "\n",
    "import sklearn\n",
    "from sklearn.linear_model import LogisticRegression\n",
    "from sklearn.neural_network import MLPClassifier\n",
    "\n",
    "from sklearn.metrics import f1_score\n",
    "from tqdm import tqdm"
   ]
  },
  {
   "cell_type": "code",
   "execution_count": 2,
   "metadata": {},
   "outputs": [],
   "source": [
    "def pad_wav(wav, wav_max_length, pad=0):\n",
    "  \"\"\"Pads audio wave sequence to be `wav_max_length` long.\"\"\"\n",
    "  dim = wav.shape[1]\n",
    "  padded = np.zeros((wav_max_length, dim)) + pad\n",
    "  if len(wav) > wav_max_length:\n",
    "    wav = wav[:wav_max_length]\n",
    "  length = len(wav)\n",
    "  padded[:length, :] = wav\n",
    "  return padded, length"
   ]
  },
  {
   "cell_type": "code",
   "execution_count": 6,
   "metadata": {
    "colab": {
     "base_uri": "https://localhost:8080/",
     "height": 232
    },
    "id": "5IEPrjp5AtlU",
    "outputId": "31a72088-80b5-4829-b8ff-783999489e31"
   },
   "outputs": [
    {
     "name": "stderr",
     "output_type": "stream",
     "text": [
      " 80%|████████  | 5956/7442 [07:59<01:53, 13.13it/s]"
     ]
    },
    {
     "name": "stdout",
     "output_type": "stream",
     "text": [
      "info: Empty DataFrame\n",
      "Columns: [Unnamed: 0, FileName, VoiceVote, VoiceLevel, FaceVote, FaceLevel, MultiModalVote, MultiModalLevel]\n",
      "Index: []\n",
      "index count: 5952\n",
      "unable to find file: 1040_ITH_SAD_X.wav\n"
     ]
    },
    {
     "name": "stderr",
     "output_type": "stream",
     "text": [
      "100%|██████████| 7442/7442 [09:59<00:00, 12.22it/s]"
     ]
    },
    {
     "name": "stdout",
     "output_type": "stream",
     "text": [
      "shape of train data: (7442, 32008)\n",
      "shape of labels: (7442,)\n"
     ]
    },
    {
     "name": "stderr",
     "output_type": "stream",
     "text": [
      "\n"
     ]
    }
   ],
   "source": [
    "#Features we want right now: min f0, max f0, and mean f0 and maybe rms (not sure exactly what that is but was used in the paper)\n",
    "#path = '/home/CREMA-D/AudioWAV/'\n",
    "path = '/Users/gabesaldivar/Desktop/cs224s/CREMA-D/AudioWAV/'\n",
    "files = os.listdir(path)\n",
    "\n",
    "#summary = pd.read_csv('/home/CREMA-D/processedResults/summaryTable.csv')\n",
    "summary = pd.read_csv('/Users/gabesaldivar/Desktop/cs224s/CREMA-D/processedResults/summaryTable.csv')\n",
    "\n",
    "num_files = len(os.listdir(path)) #not sure how you want to count files\n",
    "count = 0\n",
    "\n",
    "# 6 or 8\n",
    "num_features = 8\n",
    "\n",
    "# Keep track of min and max duration of all data\n",
    "min_dur = np.inf\n",
    "max_dur = 0\n",
    "\n",
    "X = np.zeros((num_files, (250 * 128) + num_features))# or +8 for features\n",
    "Y = np.zeros(num_files).astype(str)\n",
    "for sample in tqdm(files): #depends on how you access\n",
    "    file = os.path.join(path,sample)\n",
    "    current_wav, current_sr = librosa.load(file) #fix for set up \n",
    "    f0_series = librosa.yin(current_wav, librosa.note_to_hz('C2'), librosa.note_to_hz('C7'))\n",
    "    rms_series = librosa.feature.rms(y=current_wav)\n",
    "    f0_max = np.amax(f0_series)\n",
    "    f0_min = np.amin(f0_series)\n",
    "    # Get f0 range\n",
    "    f0_range = f0_max - f0_min\n",
    "    # duration\n",
    "    duration = librosa.get_duration(y=current_wav, sr=current_sr)\n",
    "    \n",
    "    # Outer duration\n",
    "    if duration > max_dur:\n",
    "        max_dur = duration\n",
    "    if duration < min_dur:\n",
    "        min_dur = duration\n",
    "        \n",
    "    # Get the pitches\n",
    "#     pitches, magnitudes = librosa.piptrack(y=current_wav, sr=current_sr)\n",
    "#     pitch_max = np.amax(pitches)\n",
    "#     pitch_min = np.amin(pitches)\n",
    "#     # Get f0 range\n",
    "#     pitch_range = pitch_max - pitch_min\n",
    "#     pitch_mean = np.mean(pitches)\n",
    "    \n",
    "    f0_mean = np.mean(f0_series)\n",
    "    rms_max = np.amax(rms_series)\n",
    "    rms_min = np.amin(rms_series)\n",
    "    rms_mean = np.mean(rms_series)\n",
    "#     x = np.array([f0_min, f0_max, f0_mean, f0_range, duration, rms_min, rms_max, rms_mean, pitch_max, pitch_min, \n",
    "#                   pitch_range, pitch_mean])\n",
    "    mel_spec = librosa.feature.melspectrogram(current_wav, current_sr)\n",
    "    m_log = librosa.power_to_db(mel_spec)\n",
    "    m_log_norm = librosa.util.normalize(m_log)\n",
    "    padded_wav, input_length = pad_wav(m_log_norm.T, 250)\n",
    "    flat_mel = padded_wav.flatten()\n",
    "    \n",
    "#    x = np.array([f0_min, f0_max, f0_mean, rms_min, rms_max, rms_mean]) # for 6 features\n",
    "    x = np.array([f0_min, f0_max, f0_mean, f0_range, duration, rms_min, rms_max, rms_mean]) # for 8 features\n",
    "\n",
    "    x = np.append(x, flat_mel)\n",
    "\n",
    "    X[count,:] = x\n",
    "    # Get the label for VoiceVote\n",
    "    info = summary.loc[summary['FileName'] == sample.split('.')[0]]\n",
    "    try:\n",
    "        Y[count] = info['VoiceVote'].values[0]\n",
    "    except Exception as ex:\n",
    "        print(f'info: {info}')\n",
    "        print(f'index count: {count}')\n",
    "        index = count\n",
    "        print(f'unable to find file: {sample}')\n",
    "        count -= 1\n",
    "    count += 1\n",
    "print(f'shape of train data: {X.shape}')\n",
    "print(f'shape of labels: {Y.shape}')"
   ]
  },
  {
   "cell_type": "code",
   "execution_count": null,
   "metadata": {},
   "outputs": [],
   "source": [
    "print(f'shape of train data: {X.shape}')\n",
    "print(f'shape of labels: {Y.shape}')\n",
    "print(Y[7440:])\n",
    "\n",
    "# Remove that one example without a label\n",
    "X = np.delete(X,-1,axis=0)\n",
    "Y = Y[:-1]\n",
    "print(f'New X shape: {X.shape}')\n",
    "print(f'New Y shape: {Y.shape}')\n",
    "print(f'Example feature: {X[4,:]}')\n",
    "print(f'Last Y to check: {Y[-1]}')\n",
    "print(f'min duration: {min_dur}')\n",
    "print(f'max duration: {max_dur}')"
   ]
  },
  {
   "cell_type": "code",
   "execution_count": 7,
   "metadata": {},
   "outputs": [
    {
     "name": "stdout",
     "output_type": "stream",
     "text": [
      "train_split:  5953\n",
      "train size: (5953, 32008), val size: (1489, 32008)\n"
     ]
    },
    {
     "name": "stderr",
     "output_type": "stream",
     "text": [
      "/Users/gabesaldivar/opt/anaconda3/lib/python3.8/site-packages/sklearn/neural_network/_multilayer_perceptron.py:582: ConvergenceWarning: Stochastic Optimizer: Maximum iterations (200) reached and the optimization hasn't converged yet.\n",
      "  warnings.warn(\n"
     ]
    },
    {
     "name": "stdout",
     "output_type": "stream",
     "text": [
      "Test accuracy score: 0.577568838146407\n",
      "macro f1 score: 0.05025331525838508\n",
      "micro f1 score: 0.577568838146407\n"
     ]
    }
   ],
   "source": [
    "# testing MLP classifier\n",
    "from sklearn.neural_network import MLPClassifier\n",
    "\n",
    "\n",
    "train_split = int(0.8 * num_files)\n",
    "print('train_split: ', train_split)\n",
    "print(f'train size: {X[:train_split].shape}, val size: {X[train_split:].shape}')\n",
    "\n",
    "clf = MLPClassifier(solver='lbfgs', alpha=1e-5, hidden_layer_sizes=(5, 2), random_state=1)\n",
    "\n",
    "clf = MLPClassifier()    \n",
    "    \n",
    "model = clf.fit(X[:train_split], Y[:train_split])\n",
    "\n",
    "# Predict on validation/test (80-20 split)\n",
    "predictions = model.predict(X[train_split:])\n",
    "\n",
    "# Output score (mean accuracy)\n",
    "score = model.score(X[train_split:],Y[train_split:])\n",
    "print(f'Test accuracy score: {score}')\n",
    "\n",
    "f1 = f1_score(Y[train_split:], predictions, average='macro')\n",
    "print(f'macro f1 score: {f1}')\n",
    "f1 = f1_score(Y[train_split:], predictions, average='micro')\n",
    "print(f'micro f1 score: {f1}')\n"
   ]
  },
  {
   "cell_type": "code",
   "execution_count": 8,
   "metadata": {},
   "outputs": [
    {
     "name": "stdout",
     "output_type": "stream",
     "text": [
      "train_split:  5953\n",
      "train size: (5953, 32008), val size: (1489, 32008)\n",
      "Test accuracy score: 0.5366017461383479\n",
      "macro f1 score: 0.057843236901648186\n",
      "micro f1 score: 0.5366017461383479\n"
     ]
    }
   ],
   "source": [
    "# Testing SGD\n",
    "from sklearn.linear_model import SGDClassifier\n",
    "from sklearn.preprocessing import StandardScaler\n",
    "from sklearn.pipeline import make_pipeline\n",
    "\n",
    "\n",
    "train_split = int(0.8 * num_files)\n",
    "print('train_split: ', train_split)\n",
    "print(f'train size: {X[:train_split].shape}, val size: {X[train_split:].shape}')\n",
    "\n",
    "# Always scale the input. The most convenient way is to use a pipeline.\n",
    "clf = make_pipeline(StandardScaler(), SGDClassifier(max_iter=1000, tol=1e-3)) \n",
    "\n",
    "clf = make_pipeline(StandardScaler(), SGDClassifier())\n",
    "model = clf.fit(X[:train_split], Y[:train_split])\n",
    "\n",
    "# Predict on validation/test (80-20 split)\n",
    "predictions = model.predict(X[train_split:])\n",
    "\n",
    "# Output score (mean accuracy)\n",
    "score = model.score(X[train_split:],Y[train_split:])\n",
    "print(f'Test accuracy score: {score}')\n",
    "\n",
    "f1 = f1_score(Y[train_split:], predictions, average='macro')\n",
    "print(f'macro f1 score: {f1}')\n",
    "f1 = f1_score(Y[train_split:], predictions, average='micro')\n",
    "print(f'micro f1 score: {f1}')\n"
   ]
  },
  {
   "cell_type": "code",
   "execution_count": 13,
   "metadata": {
    "id": "6deWxsTtsp51"
   },
   "outputs": [
    {
     "name": "stdout",
     "output_type": "stream",
     "text": [
      "f0_min average: 68.42755242039749\n",
      "f0_max average: 1108.2239746103453\n",
      "f0_mean average: 197.60158873789413\n",
      "rms_min average: 0.003896712870773289\n",
      "rms_max average: 0.10690546616422825\n",
      "rms_mean average: 0.027573393515514667\n"
     ]
    }
   ],
   "source": [
    "# Some basic stats for the dataset\n",
    "avg = np.mean(X, axis=0)\n",
    "stats = ['f0_min', 'f0_max', 'f0_mean', 'rms_min', 'rms_max', 'rms_mean']\n",
    "for j,stat in enumerate(stats):\n",
    "    print(f'{stat} average: {avg[j]}')"
   ]
  },
  {
   "cell_type": "code",
   "execution_count": null,
   "metadata": {},
   "outputs": [],
   "source": []
  }
 ],
 "metadata": {
  "colab": {
   "collapsed_sections": [],
   "name": "CS224S Final Project.ipynb",
   "provenance": []
  },
  "kernelspec": {
   "display_name": "Python 3",
   "language": "python",
   "name": "python3"
  },
  "language_info": {
   "codemirror_mode": {
    "name": "ipython",
    "version": 3
   },
   "file_extension": ".py",
   "mimetype": "text/x-python",
   "name": "python",
   "nbconvert_exporter": "python",
   "pygments_lexer": "ipython3",
   "version": "3.8.5"
  }
 },
 "nbformat": 4,
 "nbformat_minor": 1
}
