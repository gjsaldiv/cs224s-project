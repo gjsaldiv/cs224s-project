{
 "cells": [
  {
   "cell_type": "code",
   "execution_count": 1,
   "metadata": {
    "colab": {
     "base_uri": "https://localhost:8080/"
    },
    "id": "S6iAqK_e-z75",
    "outputId": "fa061668-4c0d-4a74-f513-71cffcf91526"
   },
   "outputs": [],
   "source": [
    "# Imports \n",
    "import librosa\n",
    "import librosa.display\n",
    "import librosa.effects\n",
    "import librosa.util\n",
    "\n",
    "import numpy as np\n",
    "import sys, os\n",
    "import pandas as pd\n",
    "import matplotlib.pyplot as plt\n",
    "\n",
    "import sklearn\n",
    "from sklearn.linear_model import LogisticRegression\n",
    "from sklearn.metrics import f1_score\n",
    "from sklearn import preprocessing\n",
    "from sklearn.metrics import plot_confusion_matrix\n",
    "from tqdm import tqdm\n",
    "\n",
    "import torch\n",
    "import torch.nn as nn\n",
    "from torch.utils.data import Dataset\n",
    "from torch.utils.data import DataLoader\n",
    "import torch.nn.functional as F\n",
    "from transformer_models import *\n",
    "from transformer_data import *"
   ]
  },
  {
   "cell_type": "code",
   "execution_count": 2,
   "metadata": {},
   "outputs": [],
   "source": [
    "# Helper function from homework\n",
    "def pad_wav(wav, wav_max_length, pad=0):\n",
    "    \"\"\"Pads audio wave sequence to be `wav_max_length` long.\"\"\"\n",
    "    dim = wav.shape[1]\n",
    "    padded = np.zeros((wav_max_length, dim)) + pad\n",
    "    if len(wav) > wav_max_length:\n",
    "        wav = wav[:wav_max_length]\n",
    "    length = len(wav)\n",
    "    padded[:length, :] = wav\n",
    "    return padded, length"
   ]
  },
  {
   "cell_type": "code",
   "execution_count": 3,
   "metadata": {
    "id": "5IEPrjp5AtlU"
   },
   "outputs": [
    {
     "name": "stderr",
     "output_type": "stream",
     "text": [
      " 39%|███▉      | 2913/7442 [13:43<21:41,  3.48it/s] "
     ]
    },
    {
     "name": "stdout",
     "output_type": "stream",
     "text": [
      "info: Empty DataFrame\n",
      "Columns: [Unnamed: 0, FileName, VoiceVote, VoiceLevel, FaceVote, FaceLevel, MultiModalVote, MultiModalLevel]\n",
      "Index: []\n",
      "index count: 2912\n",
      "unable to find file: 1040_ITH_SAD_X.wav\n"
     ]
    },
    {
     "name": "stderr",
     "output_type": "stream",
     "text": [
      "100%|██████████| 7442/7442 [34:53<00:00,  3.55it/s]"
     ]
    },
    {
     "name": "stdout",
     "output_type": "stream",
     "text": [
      "shape of train data: (7442, 32006)\n",
      "shape of labels: (7442,)\n"
     ]
    },
    {
     "name": "stderr",
     "output_type": "stream",
     "text": [
      "\n"
     ]
    }
   ],
   "source": [
    "#Features we want right now: min f0, max f0, and mean f0 and maybe rms (not sure exactly what that is but was used in the paper)\n",
    "path = '/home/CREMA-D/AudioWAV/'\n",
    "files = os.listdir(path)\n",
    "\n",
    "summary = pd.read_csv('/home/CREMA-D/processedResults/summaryTable.csv')\n",
    "\n",
    "num_files = len(os.listdir(path)) #not sure how you want to count files\n",
    "count = 0\n",
    "\n",
    "# Aim to get to 12 features\n",
    "num_features = 6\n",
    "\n",
    "# Keep track of min and max duration of all data\n",
    "min_dur = np.inf\n",
    "max_dur = 0\n",
    "max_length = 0\n",
    "\n",
    "# mel spectrogram is padded to 250, and n_mels is default 128\n",
    "X = np.zeros((num_files, num_features + 250 * 128))\n",
    "Y = np.zeros(num_files).astype(str)\n",
    "for sample in tqdm(files): #depends on how you access\n",
    "    file = os.path.join(path,sample)\n",
    "    current_wav, current_sr = librosa.load(file) #fix for set up \n",
    "    \n",
    "    # Mel spectrogram\n",
    "    mel_spec = librosa.feature.melspectrogram(y=current_wav, sr=current_sr)\n",
    "    m_log = librosa.power_to_db(mel_spec)\n",
    "    m_log_norm = librosa.util.normalize(m_log)\n",
    "    padded_wav, input_length = pad_wav(m_log_norm.T, 250)\n",
    "    flat_mel = padded_wav.flatten()\n",
    "    \n",
    "    # Prosodic features\n",
    "    f0_series = librosa.yin(current_wav, librosa.note_to_hz('C2'), librosa.note_to_hz('C7'))\n",
    "    rms_series = librosa.feature.rms(y=current_wav)\n",
    "    f0_max = np.amax(f0_series)\n",
    "    f0_min = np.amin(f0_series)\n",
    "    # Get f0 range\n",
    "    f0_range = f0_max - f0_min\n",
    "    # duration\n",
    "    duration = librosa.get_duration(y=current_wav, sr=current_sr)\n",
    "    \n",
    "    # Outer duration\n",
    "    if duration > max_dur:\n",
    "        max_dur = duration\n",
    "    if duration < min_dur:\n",
    "        min_dur = duration\n",
    "        \n",
    "    # Get the pitches\n",
    "#     pitches, magnitudes = librosa.piptrack(y=current_wav, sr=current_sr)\n",
    "#     pitch_max = np.amax(pitches)\n",
    "#     pitch_min = np.amin(pitches)\n",
    "#     # Get f0 range\n",
    "#     pitch_range = pitch_max - pitch_min\n",
    "#     pitch_mean = np.mean(pitches)\n",
    "    \n",
    "    f0_mean = np.mean(f0_series)\n",
    "    rms_max = np.amax(rms_series)\n",
    "    rms_min = np.amin(rms_series)\n",
    "    rms_mean = np.mean(rms_series)\n",
    "#     x = np.array([f0_min, f0_max, f0_mean, f0_range, duration, rms_min, rms_max, rms_mean, pitch_max, pitch_min, \n",
    "#                   pitch_range, pitch_mean])\n",
    "    if num_features == 8:\n",
    "        x = np.array([f0_min, f0_max, f0_mean, f0_range, duration, rms_min, rms_max, rms_mean])\n",
    "    else:\n",
    "        x = np.array([f0_min, f0_max, f0_mean, rms_min, rms_max, rms_mean])\n",
    "    x = np.append(x, flat_mel)\n",
    "    X[count,:] = x\n",
    "    # Get the label for VoiceVote\n",
    "    info = summary.loc[summary['FileName'] == sample.split('.')[0]]\n",
    "    try:\n",
    "        Y[count] = info['VoiceVote'].values[0]\n",
    "    except Exception as ex:\n",
    "        print(f'info: {info}')\n",
    "        print(f'index count: {count}')\n",
    "        index = count\n",
    "        print(f'unable to find file: {sample}')\n",
    "        count -= 1\n",
    "    count += 1\n",
    "print(f'shape of train data: {X.shape}')\n",
    "print(f'shape of labels: {Y.shape}')"
   ]
  },
  {
   "cell_type": "code",
   "execution_count": 4,
   "metadata": {
    "id": "n60PZXht_tv-"
   },
   "outputs": [
    {
     "name": "stdout",
     "output_type": "stream",
     "text": [
      "shape of train data: (7442, 32006)\n",
      "shape of labels: (7442,)\n",
      "['N' '0.0']\n",
      "New X shape: (7441, 32006)\n",
      "New Y shape: (7441,)\n",
      "Example feature: [ 72.53887284 279.62245683 154.8806316  ...   0.           0.\n",
      "   0.        ]\n",
      "Last Y to check: N\n",
      "min duration: 1.2679818594104308\n",
      "max duration: 5.005034013605442\n",
      "num classes: 39\n",
      "classes: ['A' 'A:D' 'A:D:F:N' 'A:D:F:N:S' 'A:D:H:N' 'A:D:N' 'A:D:N:S' 'A:F' 'A:F:N'\n",
      " 'A:H' 'A:H:N' 'A:N' 'A:N:S' 'A:S' 'D' 'D:F' 'D:F:H:N' 'D:F:N' 'D:F:N:S'\n",
      " 'D:F:S' 'D:H' 'D:H:N' 'D:N' 'D:N:S' 'D:S' 'F' 'F:H' 'F:H:N' 'F:H:N:S'\n",
      " 'F:N' 'F:N:S' 'F:S' 'H' 'H:N' 'H:N:S' 'H:S' 'N' 'N:S' 'S']\n",
      "shape of transformed labels: (7441,)\n"
     ]
    }
   ],
   "source": [
    "#For Logistic Regression, can use sklearn.linear_model.LogisticRegression\n",
    "# !pip install -U scikit-learn\n",
    "# import sklearn\n",
    "# from sklearn.linear_model import LogisticRegression\n",
    "# Remove the file that wasn't in results\n",
    "print(f'shape of train data: {X.shape}')\n",
    "print(f'shape of labels: {Y.shape}')\n",
    "print(Y[7440:])\n",
    "\n",
    "# Remove that one example without a label\n",
    "X = np.delete(X,-1,axis=0)\n",
    "Y = Y[:-1]\n",
    "print(f'New X shape: {X.shape}')\n",
    "print(f'New Y shape: {Y.shape}')\n",
    "print(f'Example feature: {X[4,:]}')\n",
    "print(f'Last Y to check: {Y[-1]}')\n",
    "print(f'min duration: {min_dur}')\n",
    "print(f'max duration: {max_dur}')\n",
    "\n",
    "# Find number of unique labels\n",
    "num_unique = np.unique(Y).shape[0]\n",
    "print(f'num classes: {num_unique}')\n",
    "\n",
    "# Use label encoder for string labels\n",
    "le = preprocessing.LabelEncoder()\n",
    "le.fit(Y)\n",
    "print(f'classes: {le.classes_}')\n",
    "transformed_labels = le.transform(Y)\n",
    "print(f'shape of transformed labels: {transformed_labels.shape}')"
   ]
  },
  {
   "cell_type": "code",
   "execution_count": 5,
   "metadata": {},
   "outputs": [
    {
     "name": "stdout",
     "output_type": "stream",
     "text": [
      "train idx: 5952\n",
      "val idx: 6696\n",
      "train idx: 5952\n",
      "val idx: 6696\n",
      "train idx: 5952\n",
      "val idx: 6696\n",
      "5952\n",
      "744\n",
      "745\n",
      "(tensor([ 68.5731, 270.8663, 187.4343,  ...,   0.0000,   0.0000,   0.0000]), tensor([36]))\n",
      "(tensor([ 68.1394, 700.5300, 204.9638,  ...,   0.0000,   0.0000,   0.0000]), tensor([36]))\n"
     ]
    }
   ],
   "source": [
    "# Set up the dataloaders\n",
    "train_dataset = CREMADataset(X, transformed_labels, X.shape[0], split='train')\n",
    "val_dataset = CREMADataset(X, transformed_labels, X.shape[0], split='val')\n",
    "test_dataset = CREMADataset(X, transformed_labels, X.shape[0], split='test')\n",
    "\n",
    "# Check dataset length\n",
    "print(len(train_dataset))\n",
    "print(len(val_dataset))\n",
    "print(len(test_dataset))\n",
    "\n",
    "# Check data\n",
    "print(train_dataset[0])\n",
    "print(test_dataset[0])\n",
    "\n",
    "# Set dataloaders\n",
    "batch_size = 16\n",
    "train_loader = DataLoader(train_dataset, batch_size=batch_size, shuffle=True)\n",
    "val_loader = DataLoader(val_dataset, batch_size=batch_size, shuffle=False)\n",
    "test_loader = DataLoader(test_dataset, batch_size=batch_size, shuffle=False)"
   ]
  },
  {
   "cell_type": "code",
   "execution_count": 7,
   "metadata": {
    "scrolled": false
   },
   "outputs": [
    {
     "name": "stderr",
     "output_type": "stream",
     "text": [
      "\r",
      "  0%|          | 0/300 [00:00<?, ?it/s]"
     ]
    },
    {
     "name": "stdout",
     "output_type": "stream",
     "text": [
      "Epoch 0 - Training loss: 2.164 , Training Accuracy: 0.534\n"
     ]
    },
    {
     "name": "stderr",
     "output_type": "stream",
     "text": [
      "\r",
      "  0%|          | 1/300 [00:05<26:57,  5.41s/it]"
     ]
    },
    {
     "name": "stdout",
     "output_type": "stream",
     "text": [
      "Epoch 0 - Validation loss: 2.015 , Validation Accuracy: 0.568\n"
     ]
    },
    {
     "name": "stderr",
     "output_type": "stream",
     "text": [
      "\r",
      "  1%|          | 2/300 [00:10<26:55,  5.42s/it]"
     ]
    },
    {
     "name": "stdout",
     "output_type": "stream",
     "text": [
      "Epoch 1 - Training loss: 1.997 , Training Accuracy: 0.581\n"
     ]
    },
    {
     "name": "stderr",
     "output_type": "stream",
     "text": [
      "\r",
      "  1%|          | 3/300 [00:16<26:52,  5.43s/it]"
     ]
    },
    {
     "name": "stdout",
     "output_type": "stream",
     "text": [
      "Epoch 2 - Training loss: 1.963 , Training Accuracy: 0.587\n"
     ]
    },
    {
     "name": "stderr",
     "output_type": "stream",
     "text": [
      "\r",
      "  1%|▏         | 4/300 [00:21<26:42,  5.41s/it]"
     ]
    },
    {
     "name": "stdout",
     "output_type": "stream",
     "text": [
      "Epoch 3 - Training loss: 1.922 , Training Accuracy: 0.588\n"
     ]
    },
    {
     "name": "stderr",
     "output_type": "stream",
     "text": [
      "\r",
      "  2%|▏         | 5/300 [00:27<26:35,  5.41s/it]"
     ]
    },
    {
     "name": "stdout",
     "output_type": "stream",
     "text": [
      "Epoch 4 - Training loss: 1.913 , Training Accuracy: 0.595\n",
      "Epoch 5 - Training loss: 1.906 , Training Accuracy: 0.596\n"
     ]
    },
    {
     "name": "stderr",
     "output_type": "stream",
     "text": [
      "\r",
      "  2%|▏         | 6/300 [00:32<26:48,  5.47s/it]"
     ]
    },
    {
     "name": "stdout",
     "output_type": "stream",
     "text": [
      "Epoch 5 - Validation loss: 1.951 , Validation Accuracy: 0.576\n"
     ]
    },
    {
     "name": "stderr",
     "output_type": "stream",
     "text": [
      "\r",
      "  2%|▏         | 7/300 [00:37<26:26,  5.42s/it]"
     ]
    },
    {
     "name": "stdout",
     "output_type": "stream",
     "text": [
      "Epoch 6 - Training loss: 1.880 , Training Accuracy: 0.594\n"
     ]
    },
    {
     "name": "stderr",
     "output_type": "stream",
     "text": [
      "\r",
      "  3%|▎         | 8/300 [00:43<26:04,  5.36s/it]"
     ]
    },
    {
     "name": "stdout",
     "output_type": "stream",
     "text": [
      "Epoch 7 - Training loss: 1.865 , Training Accuracy: 0.600\n"
     ]
    },
    {
     "name": "stderr",
     "output_type": "stream",
     "text": [
      "\r",
      "  3%|▎         | 9/300 [00:48<26:14,  5.41s/it]"
     ]
    },
    {
     "name": "stdout",
     "output_type": "stream",
     "text": [
      "Epoch 8 - Training loss: 1.866 , Training Accuracy: 0.599\n"
     ]
    },
    {
     "name": "stderr",
     "output_type": "stream",
     "text": [
      "\r",
      "  3%|▎         | 10/300 [00:54<26:03,  5.39s/it]"
     ]
    },
    {
     "name": "stdout",
     "output_type": "stream",
     "text": [
      "Epoch 9 - Training loss: 1.877 , Training Accuracy: 0.598\n",
      "Epoch 10 - Training loss: 1.857 , Training Accuracy: 0.600\n"
     ]
    },
    {
     "name": "stderr",
     "output_type": "stream",
     "text": [
      "\r",
      "  4%|▎         | 11/300 [00:59<26:25,  5.49s/it]"
     ]
    },
    {
     "name": "stdout",
     "output_type": "stream",
     "text": [
      "Epoch 10 - Validation loss: 1.934 , Validation Accuracy: 0.590\n"
     ]
    },
    {
     "name": "stderr",
     "output_type": "stream",
     "text": [
      "\r",
      "  4%|▍         | 12/300 [01:05<26:18,  5.48s/it]"
     ]
    },
    {
     "name": "stdout",
     "output_type": "stream",
     "text": [
      "Epoch 11 - Training loss: 1.849 , Training Accuracy: 0.599\n"
     ]
    },
    {
     "name": "stderr",
     "output_type": "stream",
     "text": [
      "\r",
      "  4%|▍         | 13/300 [01:10<26:11,  5.47s/it]"
     ]
    },
    {
     "name": "stdout",
     "output_type": "stream",
     "text": [
      "Epoch 12 - Training loss: 1.841 , Training Accuracy: 0.606\n"
     ]
    },
    {
     "name": "stderr",
     "output_type": "stream",
     "text": [
      "\r",
      "  5%|▍         | 14/300 [01:16<26:23,  5.54s/it]"
     ]
    },
    {
     "name": "stdout",
     "output_type": "stream",
     "text": [
      "Epoch 13 - Training loss: 1.829 , Training Accuracy: 0.606\n"
     ]
    },
    {
     "name": "stderr",
     "output_type": "stream",
     "text": [
      "\r",
      "  5%|▌         | 15/300 [01:21<26:10,  5.51s/it]"
     ]
    },
    {
     "name": "stdout",
     "output_type": "stream",
     "text": [
      "Epoch 14 - Training loss: 1.834 , Training Accuracy: 0.604\n",
      "Epoch 15 - Training loss: 1.829 , Training Accuracy: 0.606\n"
     ]
    },
    {
     "name": "stderr",
     "output_type": "stream",
     "text": [
      "\r",
      "  5%|▌         | 16/300 [01:27<26:15,  5.55s/it]"
     ]
    },
    {
     "name": "stdout",
     "output_type": "stream",
     "text": [
      "Epoch 15 - Validation loss: 1.995 , Validation Accuracy: 0.580\n"
     ]
    },
    {
     "name": "stderr",
     "output_type": "stream",
     "text": [
      "\r",
      "  6%|▌         | 17/300 [01:32<25:57,  5.50s/it]"
     ]
    },
    {
     "name": "stdout",
     "output_type": "stream",
     "text": [
      "Epoch 16 - Training loss: 1.818 , Training Accuracy: 0.607\n"
     ]
    },
    {
     "name": "stderr",
     "output_type": "stream",
     "text": [
      "\r",
      "  6%|▌         | 18/300 [01:38<25:49,  5.49s/it]"
     ]
    },
    {
     "name": "stdout",
     "output_type": "stream",
     "text": [
      "Epoch 17 - Training loss: 1.817 , Training Accuracy: 0.609\n"
     ]
    },
    {
     "name": "stderr",
     "output_type": "stream",
     "text": [
      "\r",
      "  6%|▋         | 19/300 [01:43<25:27,  5.44s/it]"
     ]
    },
    {
     "name": "stdout",
     "output_type": "stream",
     "text": [
      "Epoch 18 - Training loss: 1.816 , Training Accuracy: 0.605\n"
     ]
    },
    {
     "name": "stderr",
     "output_type": "stream",
     "text": [
      "\r",
      "  7%|▋         | 20/300 [01:49<25:23,  5.44s/it]"
     ]
    },
    {
     "name": "stdout",
     "output_type": "stream",
     "text": [
      "Epoch 19 - Training loss: 1.805 , Training Accuracy: 0.607\n",
      "Epoch 20 - Training loss: 1.796 , Training Accuracy: 0.610\n"
     ]
    },
    {
     "name": "stderr",
     "output_type": "stream",
     "text": [
      "\r",
      "  7%|▋         | 21/300 [01:54<25:36,  5.51s/it]"
     ]
    },
    {
     "name": "stdout",
     "output_type": "stream",
     "text": [
      "Epoch 20 - Validation loss: 1.901 , Validation Accuracy: 0.585\n"
     ]
    },
    {
     "name": "stderr",
     "output_type": "stream",
     "text": [
      "\r",
      "  7%|▋         | 22/300 [02:00<25:15,  5.45s/it]"
     ]
    },
    {
     "name": "stdout",
     "output_type": "stream",
     "text": [
      "Epoch 21 - Training loss: 1.793 , Training Accuracy: 0.610\n"
     ]
    },
    {
     "name": "stderr",
     "output_type": "stream",
     "text": [
      "\r",
      "  8%|▊         | 23/300 [02:05<25:05,  5.44s/it]"
     ]
    },
    {
     "name": "stdout",
     "output_type": "stream",
     "text": [
      "Epoch 22 - Training loss: 1.787 , Training Accuracy: 0.613\n"
     ]
    },
    {
     "name": "stderr",
     "output_type": "stream",
     "text": [
      "\r",
      "  8%|▊         | 24/300 [02:10<24:59,  5.43s/it]"
     ]
    },
    {
     "name": "stdout",
     "output_type": "stream",
     "text": [
      "Epoch 23 - Training loss: 1.782 , Training Accuracy: 0.613\n"
     ]
    },
    {
     "name": "stderr",
     "output_type": "stream",
     "text": [
      "\r",
      "  8%|▊         | 25/300 [02:16<24:58,  5.45s/it]"
     ]
    },
    {
     "name": "stdout",
     "output_type": "stream",
     "text": [
      "Epoch 24 - Training loss: 1.781 , Training Accuracy: 0.611\n",
      "Epoch 25 - Training loss: 1.776 , Training Accuracy: 0.612\n"
     ]
    },
    {
     "name": "stderr",
     "output_type": "stream",
     "text": [
      "\r",
      "  9%|▊         | 26/300 [02:22<25:06,  5.50s/it]"
     ]
    },
    {
     "name": "stdout",
     "output_type": "stream",
     "text": [
      "Epoch 25 - Validation loss: 1.963 , Validation Accuracy: 0.584\n"
     ]
    },
    {
     "name": "stderr",
     "output_type": "stream",
     "text": [
      "\r",
      "  9%|▉         | 27/300 [02:27<24:56,  5.48s/it]"
     ]
    },
    {
     "name": "stdout",
     "output_type": "stream",
     "text": [
      "Epoch 26 - Training loss: 1.772 , Training Accuracy: 0.618\n"
     ]
    },
    {
     "name": "stderr",
     "output_type": "stream",
     "text": [
      "\r",
      "  9%|▉         | 28/300 [02:32<24:48,  5.47s/it]"
     ]
    },
    {
     "name": "stdout",
     "output_type": "stream",
     "text": [
      "Epoch 27 - Training loss: 1.761 , Training Accuracy: 0.614\n"
     ]
    },
    {
     "name": "stderr",
     "output_type": "stream",
     "text": [
      "\r",
      " 10%|▉         | 29/300 [02:38<24:44,  5.48s/it]"
     ]
    },
    {
     "name": "stdout",
     "output_type": "stream",
     "text": [
      "Epoch 28 - Training loss: 1.753 , Training Accuracy: 0.614\n"
     ]
    },
    {
     "name": "stderr",
     "output_type": "stream",
     "text": [
      "\r",
      " 10%|█         | 30/300 [02:44<25:06,  5.58s/it]"
     ]
    },
    {
     "name": "stdout",
     "output_type": "stream",
     "text": [
      "Epoch 29 - Training loss: 1.758 , Training Accuracy: 0.614\n",
      "Epoch 30 - Training loss: 1.737 , Training Accuracy: 0.619\n"
     ]
    },
    {
     "name": "stderr",
     "output_type": "stream",
     "text": [
      "\r",
      " 10%|█         | 31/300 [02:49<25:04,  5.59s/it]"
     ]
    },
    {
     "name": "stdout",
     "output_type": "stream",
     "text": [
      "Epoch 30 - Validation loss: 1.921 , Validation Accuracy: 0.584\n"
     ]
    },
    {
     "name": "stderr",
     "output_type": "stream",
     "text": [
      "\r",
      " 11%|█         | 32/300 [02:55<24:46,  5.55s/it]"
     ]
    },
    {
     "name": "stdout",
     "output_type": "stream",
     "text": [
      "Epoch 31 - Training loss: 1.745 , Training Accuracy: 0.615\n"
     ]
    },
    {
     "name": "stderr",
     "output_type": "stream",
     "text": [
      "\r",
      " 11%|█         | 33/300 [03:00<24:23,  5.48s/it]"
     ]
    },
    {
     "name": "stdout",
     "output_type": "stream",
     "text": [
      "Epoch 32 - Training loss: 1.730 , Training Accuracy: 0.619\n"
     ]
    },
    {
     "name": "stderr",
     "output_type": "stream",
     "text": [
      "\r",
      " 11%|█▏        | 34/300 [03:06<24:15,  5.47s/it]"
     ]
    },
    {
     "name": "stdout",
     "output_type": "stream",
     "text": [
      "Epoch 33 - Training loss: 1.731 , Training Accuracy: 0.616\n"
     ]
    },
    {
     "name": "stderr",
     "output_type": "stream",
     "text": [
      "\r",
      " 12%|█▏        | 35/300 [03:11<24:11,  5.48s/it]"
     ]
    },
    {
     "name": "stdout",
     "output_type": "stream",
     "text": [
      "Epoch 34 - Training loss: 1.711 , Training Accuracy: 0.620\n",
      "Epoch 35 - Training loss: 1.699 , Training Accuracy: 0.629\n"
     ]
    },
    {
     "name": "stderr",
     "output_type": "stream",
     "text": [
      "\r",
      " 12%|█▏        | 36/300 [03:17<24:19,  5.53s/it]"
     ]
    },
    {
     "name": "stdout",
     "output_type": "stream",
     "text": [
      "Epoch 35 - Validation loss: 1.894 , Validation Accuracy: 0.585\n"
     ]
    },
    {
     "name": "stderr",
     "output_type": "stream",
     "text": [
      "\r",
      " 12%|█▏        | 37/300 [03:22<24:07,  5.51s/it]"
     ]
    },
    {
     "name": "stdout",
     "output_type": "stream",
     "text": [
      "Epoch 36 - Training loss: 1.700 , Training Accuracy: 0.628\n"
     ]
    },
    {
     "name": "stderr",
     "output_type": "stream",
     "text": [
      "\r",
      " 13%|█▎        | 38/300 [03:28<23:53,  5.47s/it]"
     ]
    },
    {
     "name": "stdout",
     "output_type": "stream",
     "text": [
      "Epoch 37 - Training loss: 1.708 , Training Accuracy: 0.625\n"
     ]
    },
    {
     "name": "stderr",
     "output_type": "stream",
     "text": [
      "\r",
      " 13%|█▎        | 39/300 [03:33<23:40,  5.44s/it]"
     ]
    },
    {
     "name": "stdout",
     "output_type": "stream",
     "text": [
      "Epoch 38 - Training loss: 1.691 , Training Accuracy: 0.626\n"
     ]
    },
    {
     "name": "stderr",
     "output_type": "stream",
     "text": [
      "\r",
      " 13%|█▎        | 40/300 [03:38<23:24,  5.40s/it]"
     ]
    },
    {
     "name": "stdout",
     "output_type": "stream",
     "text": [
      "Epoch 39 - Training loss: 1.691 , Training Accuracy: 0.631\n",
      "Epoch 40 - Training loss: 1.666 , Training Accuracy: 0.632\n"
     ]
    },
    {
     "name": "stderr",
     "output_type": "stream",
     "text": [
      "\r",
      " 14%|█▎        | 41/300 [03:44<23:38,  5.48s/it]"
     ]
    },
    {
     "name": "stdout",
     "output_type": "stream",
     "text": [
      "Epoch 40 - Validation loss: 1.941 , Validation Accuracy: 0.573\n"
     ]
    },
    {
     "name": "stderr",
     "output_type": "stream",
     "text": [
      "\r",
      " 14%|█▍        | 42/300 [03:49<23:34,  5.48s/it]"
     ]
    },
    {
     "name": "stdout",
     "output_type": "stream",
     "text": [
      "Epoch 41 - Training loss: 1.664 , Training Accuracy: 0.634\n"
     ]
    },
    {
     "name": "stderr",
     "output_type": "stream",
     "text": [
      "\r",
      " 14%|█▍        | 43/300 [03:55<23:28,  5.48s/it]"
     ]
    },
    {
     "name": "stdout",
     "output_type": "stream",
     "text": [
      "Epoch 42 - Training loss: 1.667 , Training Accuracy: 0.632\n"
     ]
    },
    {
     "name": "stderr",
     "output_type": "stream",
     "text": [
      "\r",
      " 15%|█▍        | 44/300 [04:00<23:24,  5.49s/it]"
     ]
    },
    {
     "name": "stdout",
     "output_type": "stream",
     "text": [
      "Epoch 43 - Training loss: 1.653 , Training Accuracy: 0.635\n"
     ]
    },
    {
     "name": "stderr",
     "output_type": "stream",
     "text": [
      "\r",
      " 15%|█▌        | 45/300 [04:06<23:14,  5.47s/it]"
     ]
    },
    {
     "name": "stdout",
     "output_type": "stream",
     "text": [
      "Epoch 44 - Training loss: 1.644 , Training Accuracy: 0.640\n",
      "Epoch 45 - Training loss: 1.650 , Training Accuracy: 0.637\n"
     ]
    },
    {
     "name": "stderr",
     "output_type": "stream",
     "text": [
      "\r",
      " 15%|█▌        | 46/300 [04:11<23:29,  5.55s/it]"
     ]
    },
    {
     "name": "stdout",
     "output_type": "stream",
     "text": [
      "Epoch 45 - Validation loss: 1.841 , Validation Accuracy: 0.588\n"
     ]
    },
    {
     "name": "stderr",
     "output_type": "stream",
     "text": [
      "\r",
      " 16%|█▌        | 47/300 [04:17<23:25,  5.56s/it]"
     ]
    },
    {
     "name": "stdout",
     "output_type": "stream",
     "text": [
      "Epoch 46 - Training loss: 1.651 , Training Accuracy: 0.634\n"
     ]
    },
    {
     "name": "stderr",
     "output_type": "stream",
     "text": [
      "\r",
      " 16%|█▌        | 48/300 [04:23<23:14,  5.54s/it]"
     ]
    },
    {
     "name": "stdout",
     "output_type": "stream",
     "text": [
      "Epoch 47 - Training loss: 1.633 , Training Accuracy: 0.638\n"
     ]
    },
    {
     "name": "stderr",
     "output_type": "stream",
     "text": [
      "\r",
      " 16%|█▋        | 49/300 [04:28<23:07,  5.53s/it]"
     ]
    },
    {
     "name": "stdout",
     "output_type": "stream",
     "text": [
      "Epoch 48 - Training loss: 1.631 , Training Accuracy: 0.640\n"
     ]
    },
    {
     "name": "stderr",
     "output_type": "stream",
     "text": [
      "\r",
      " 17%|█▋        | 50/300 [04:34<23:00,  5.52s/it]"
     ]
    },
    {
     "name": "stdout",
     "output_type": "stream",
     "text": [
      "Epoch 49 - Training loss: 1.615 , Training Accuracy: 0.642\n",
      "Epoch 50 - Training loss: 1.626 , Training Accuracy: 0.637\n"
     ]
    },
    {
     "name": "stderr",
     "output_type": "stream",
     "text": [
      "\r",
      " 17%|█▋        | 51/300 [04:39<23:07,  5.57s/it]"
     ]
    },
    {
     "name": "stdout",
     "output_type": "stream",
     "text": [
      "Epoch 50 - Validation loss: 2.039 , Validation Accuracy: 0.574\n"
     ]
    },
    {
     "name": "stderr",
     "output_type": "stream",
     "text": [
      "\r",
      " 17%|█▋        | 52/300 [04:45<22:53,  5.54s/it]"
     ]
    },
    {
     "name": "stdout",
     "output_type": "stream",
     "text": [
      "Epoch 51 - Training loss: 1.602 , Training Accuracy: 0.636\n"
     ]
    },
    {
     "name": "stderr",
     "output_type": "stream",
     "text": [
      "\r",
      " 18%|█▊        | 53/300 [04:50<22:32,  5.47s/it]"
     ]
    },
    {
     "name": "stdout",
     "output_type": "stream",
     "text": [
      "Epoch 52 - Training loss: 1.603 , Training Accuracy: 0.644\n"
     ]
    },
    {
     "name": "stderr",
     "output_type": "stream",
     "text": [
      "\r",
      " 18%|█▊        | 54/300 [04:56<22:28,  5.48s/it]"
     ]
    },
    {
     "name": "stdout",
     "output_type": "stream",
     "text": [
      "Epoch 53 - Training loss: 1.597 , Training Accuracy: 0.644\n"
     ]
    },
    {
     "name": "stderr",
     "output_type": "stream",
     "text": [
      "\r",
      " 18%|█▊        | 55/300 [05:01<22:23,  5.49s/it]"
     ]
    },
    {
     "name": "stdout",
     "output_type": "stream",
     "text": [
      "Epoch 54 - Training loss: 1.583 , Training Accuracy: 0.644\n",
      "Epoch 55 - Training loss: 1.595 , Training Accuracy: 0.647\n"
     ]
    },
    {
     "name": "stderr",
     "output_type": "stream",
     "text": [
      "\r",
      " 19%|█▊        | 56/300 [05:07<22:35,  5.55s/it]"
     ]
    },
    {
     "name": "stdout",
     "output_type": "stream",
     "text": [
      "Epoch 55 - Validation loss: 2.061 , Validation Accuracy: 0.582\n"
     ]
    },
    {
     "name": "stderr",
     "output_type": "stream",
     "text": [
      "\r",
      " 19%|█▉        | 57/300 [05:12<22:15,  5.49s/it]"
     ]
    },
    {
     "name": "stdout",
     "output_type": "stream",
     "text": [
      "Epoch 56 - Training loss: 1.587 , Training Accuracy: 0.647\n"
     ]
    },
    {
     "name": "stderr",
     "output_type": "stream",
     "text": [
      "\r",
      " 19%|█▉        | 58/300 [05:18<22:05,  5.48s/it]"
     ]
    },
    {
     "name": "stdout",
     "output_type": "stream",
     "text": [
      "Epoch 57 - Training loss: 1.598 , Training Accuracy: 0.645\n"
     ]
    },
    {
     "name": "stderr",
     "output_type": "stream",
     "text": [
      "\r",
      " 20%|█▉        | 59/300 [05:23<22:00,  5.48s/it]"
     ]
    },
    {
     "name": "stdout",
     "output_type": "stream",
     "text": [
      "Epoch 58 - Training loss: 1.567 , Training Accuracy: 0.651\n"
     ]
    },
    {
     "name": "stderr",
     "output_type": "stream",
     "text": [
      "\r",
      " 20%|██        | 60/300 [05:28<21:50,  5.46s/it]"
     ]
    },
    {
     "name": "stdout",
     "output_type": "stream",
     "text": [
      "Epoch 59 - Training loss: 1.566 , Training Accuracy: 0.652\n",
      "Epoch 60 - Training loss: 1.562 , Training Accuracy: 0.651\n"
     ]
    },
    {
     "name": "stderr",
     "output_type": "stream",
     "text": [
      "\r",
      " 20%|██        | 61/300 [05:34<21:45,  5.46s/it]"
     ]
    },
    {
     "name": "stdout",
     "output_type": "stream",
     "text": [
      "Epoch 60 - Validation loss: 2.118 , Validation Accuracy: 0.568\n"
     ]
    },
    {
     "name": "stderr",
     "output_type": "stream",
     "text": [
      "\r",
      " 21%|██        | 62/300 [05:39<21:34,  5.44s/it]"
     ]
    },
    {
     "name": "stdout",
     "output_type": "stream",
     "text": [
      "Epoch 61 - Training loss: 1.570 , Training Accuracy: 0.649\n"
     ]
    },
    {
     "name": "stderr",
     "output_type": "stream",
     "text": [
      "\r",
      " 21%|██        | 63/300 [05:45<21:40,  5.49s/it]"
     ]
    },
    {
     "name": "stdout",
     "output_type": "stream",
     "text": [
      "Epoch 62 - Training loss: 1.562 , Training Accuracy: 0.653\n"
     ]
    },
    {
     "name": "stderr",
     "output_type": "stream",
     "text": [
      "\r",
      " 21%|██▏       | 64/300 [05:50<21:28,  5.46s/it]"
     ]
    },
    {
     "name": "stdout",
     "output_type": "stream",
     "text": [
      "Epoch 63 - Training loss: 1.548 , Training Accuracy: 0.652\n"
     ]
    },
    {
     "name": "stderr",
     "output_type": "stream",
     "text": [
      "\r",
      " 22%|██▏       | 65/300 [05:56<21:11,  5.41s/it]"
     ]
    },
    {
     "name": "stdout",
     "output_type": "stream",
     "text": [
      "Epoch 64 - Training loss: 1.543 , Training Accuracy: 0.656\n",
      "Epoch 65 - Training loss: 1.551 , Training Accuracy: 0.655\n"
     ]
    },
    {
     "name": "stderr",
     "output_type": "stream",
     "text": [
      "\r",
      " 22%|██▏       | 66/300 [06:01<21:18,  5.46s/it]"
     ]
    },
    {
     "name": "stdout",
     "output_type": "stream",
     "text": [
      "Epoch 65 - Validation loss: 2.069 , Validation Accuracy: 0.551\n"
     ]
    },
    {
     "name": "stderr",
     "output_type": "stream",
     "text": [
      "\r",
      " 22%|██▏       | 67/300 [06:06<21:00,  5.41s/it]"
     ]
    },
    {
     "name": "stdout",
     "output_type": "stream",
     "text": [
      "Epoch 66 - Training loss: 1.538 , Training Accuracy: 0.656\n"
     ]
    },
    {
     "name": "stderr",
     "output_type": "stream",
     "text": [
      "\r",
      " 23%|██▎       | 68/300 [06:12<20:54,  5.41s/it]"
     ]
    },
    {
     "name": "stdout",
     "output_type": "stream",
     "text": [
      "Epoch 67 - Training loss: 1.519 , Training Accuracy: 0.658\n"
     ]
    },
    {
     "name": "stderr",
     "output_type": "stream",
     "text": [
      "\r",
      " 23%|██▎       | 69/300 [06:17<20:47,  5.40s/it]"
     ]
    },
    {
     "name": "stdout",
     "output_type": "stream",
     "text": [
      "Epoch 68 - Training loss: 1.525 , Training Accuracy: 0.658\n"
     ]
    },
    {
     "name": "stderr",
     "output_type": "stream",
     "text": [
      "\r",
      " 23%|██▎       | 70/300 [06:23<20:36,  5.38s/it]"
     ]
    },
    {
     "name": "stdout",
     "output_type": "stream",
     "text": [
      "Epoch 69 - Training loss: 1.514 , Training Accuracy: 0.658\n",
      "Epoch 70 - Training loss: 1.501 , Training Accuracy: 0.664\n"
     ]
    },
    {
     "name": "stderr",
     "output_type": "stream",
     "text": [
      "\r",
      " 24%|██▎       | 71/300 [06:28<20:54,  5.48s/it]"
     ]
    },
    {
     "name": "stdout",
     "output_type": "stream",
     "text": [
      "Epoch 70 - Validation loss: 2.004 , Validation Accuracy: 0.581\n"
     ]
    },
    {
     "name": "stderr",
     "output_type": "stream",
     "text": [
      "\r",
      " 24%|██▍       | 72/300 [06:34<20:41,  5.44s/it]"
     ]
    },
    {
     "name": "stdout",
     "output_type": "stream",
     "text": [
      "Epoch 71 - Training loss: 1.529 , Training Accuracy: 0.659\n"
     ]
    },
    {
     "name": "stderr",
     "output_type": "stream",
     "text": [
      "\r",
      " 24%|██▍       | 73/300 [06:39<20:35,  5.44s/it]"
     ]
    },
    {
     "name": "stdout",
     "output_type": "stream",
     "text": [
      "Epoch 72 - Training loss: 1.510 , Training Accuracy: 0.661\n"
     ]
    },
    {
     "name": "stderr",
     "output_type": "stream",
     "text": [
      "\r",
      " 25%|██▍       | 74/300 [06:45<20:36,  5.47s/it]"
     ]
    },
    {
     "name": "stdout",
     "output_type": "stream",
     "text": [
      "Epoch 73 - Training loss: 1.507 , Training Accuracy: 0.664\n"
     ]
    },
    {
     "name": "stderr",
     "output_type": "stream",
     "text": [
      "\r",
      " 25%|██▌       | 75/300 [06:50<20:28,  5.46s/it]"
     ]
    },
    {
     "name": "stdout",
     "output_type": "stream",
     "text": [
      "Epoch 74 - Training loss: 1.497 , Training Accuracy: 0.667\n",
      "Epoch 75 - Training loss: 1.494 , Training Accuracy: 0.667\n"
     ]
    },
    {
     "name": "stderr",
     "output_type": "stream",
     "text": [
      "\r",
      " 25%|██▌       | 76/300 [06:56<20:42,  5.55s/it]"
     ]
    },
    {
     "name": "stdout",
     "output_type": "stream",
     "text": [
      "Epoch 75 - Validation loss: 2.117 , Validation Accuracy: 0.568\n"
     ]
    },
    {
     "name": "stderr",
     "output_type": "stream",
     "text": [
      "\r",
      " 26%|██▌       | 77/300 [07:01<20:21,  5.48s/it]"
     ]
    },
    {
     "name": "stdout",
     "output_type": "stream",
     "text": [
      "Epoch 76 - Training loss: 1.466 , Training Accuracy: 0.675\n"
     ]
    },
    {
     "name": "stderr",
     "output_type": "stream",
     "text": [
      "\r",
      " 26%|██▌       | 78/300 [07:06<20:03,  5.42s/it]"
     ]
    },
    {
     "name": "stdout",
     "output_type": "stream",
     "text": [
      "Epoch 77 - Training loss: 1.368 , Training Accuracy: 0.675\n"
     ]
    },
    {
     "name": "stderr",
     "output_type": "stream",
     "text": [
      "\r",
      " 26%|██▋       | 79/300 [07:12<20:15,  5.50s/it]"
     ]
    },
    {
     "name": "stdout",
     "output_type": "stream",
     "text": [
      "Epoch 78 - Training loss: 1.354 , Training Accuracy: 0.680\n"
     ]
    },
    {
     "name": "stderr",
     "output_type": "stream",
     "text": [
      "\r",
      " 27%|██▋       | 80/300 [07:17<19:56,  5.44s/it]"
     ]
    },
    {
     "name": "stdout",
     "output_type": "stream",
     "text": [
      "Epoch 79 - Training loss: 1.332 , Training Accuracy: 0.683\n",
      "Epoch 80 - Training loss: 1.329 , Training Accuracy: 0.677\n"
     ]
    },
    {
     "name": "stderr",
     "output_type": "stream",
     "text": [
      "\r",
      " 27%|██▋       | 81/300 [07:23<19:50,  5.43s/it]"
     ]
    },
    {
     "name": "stdout",
     "output_type": "stream",
     "text": [
      "Epoch 80 - Validation loss: 1.939 , Validation Accuracy: 0.574\n"
     ]
    },
    {
     "name": "stderr",
     "output_type": "stream",
     "text": [
      "\r",
      " 27%|██▋       | 82/300 [07:28<19:16,  5.31s/it]"
     ]
    },
    {
     "name": "stdout",
     "output_type": "stream",
     "text": [
      "Epoch 81 - Training loss: 1.310 , Training Accuracy: 0.685\n"
     ]
    },
    {
     "name": "stderr",
     "output_type": "stream",
     "text": [
      "\r",
      " 28%|██▊       | 83/300 [07:33<19:09,  5.30s/it]"
     ]
    },
    {
     "name": "stdout",
     "output_type": "stream",
     "text": [
      "Epoch 82 - Training loss: 1.300 , Training Accuracy: 0.697\n"
     ]
    },
    {
     "name": "stderr",
     "output_type": "stream",
     "text": [
      "\r",
      " 28%|██▊       | 84/300 [07:38<19:03,  5.29s/it]"
     ]
    },
    {
     "name": "stdout",
     "output_type": "stream",
     "text": [
      "Epoch 83 - Training loss: 1.307 , Training Accuracy: 0.685\n"
     ]
    },
    {
     "name": "stderr",
     "output_type": "stream",
     "text": [
      "\r",
      " 28%|██▊       | 85/300 [07:44<18:46,  5.24s/it]"
     ]
    },
    {
     "name": "stdout",
     "output_type": "stream",
     "text": [
      "Epoch 84 - Training loss: 1.284 , Training Accuracy: 0.697\n",
      "Epoch 85 - Training loss: 1.300 , Training Accuracy: 0.699\n"
     ]
    },
    {
     "name": "stderr",
     "output_type": "stream",
     "text": [
      "\r",
      " 29%|██▊       | 86/300 [07:49<18:47,  5.27s/it]"
     ]
    },
    {
     "name": "stdout",
     "output_type": "stream",
     "text": [
      "Epoch 85 - Validation loss: 1.903 , Validation Accuracy: 0.578\n"
     ]
    },
    {
     "name": "stderr",
     "output_type": "stream",
     "text": [
      "\r",
      " 29%|██▉       | 87/300 [07:54<18:42,  5.27s/it]"
     ]
    },
    {
     "name": "stdout",
     "output_type": "stream",
     "text": [
      "Epoch 86 - Training loss: 1.271 , Training Accuracy: 0.704\n"
     ]
    },
    {
     "name": "stderr",
     "output_type": "stream",
     "text": [
      "\r",
      " 29%|██▉       | 88/300 [07:59<18:40,  5.28s/it]"
     ]
    },
    {
     "name": "stdout",
     "output_type": "stream",
     "text": [
      "Epoch 87 - Training loss: 1.285 , Training Accuracy: 0.701\n"
     ]
    },
    {
     "name": "stderr",
     "output_type": "stream",
     "text": [
      "\r",
      " 30%|██▉       | 89/300 [08:05<18:35,  5.29s/it]"
     ]
    },
    {
     "name": "stdout",
     "output_type": "stream",
     "text": [
      "Epoch 88 - Training loss: 1.299 , Training Accuracy: 0.698\n"
     ]
    },
    {
     "name": "stderr",
     "output_type": "stream",
     "text": [
      "\r",
      " 30%|███       | 90/300 [08:10<18:21,  5.24s/it]"
     ]
    },
    {
     "name": "stdout",
     "output_type": "stream",
     "text": [
      "Epoch 89 - Training loss: 1.237 , Training Accuracy: 0.710\n",
      "Epoch 90 - Training loss: 1.274 , Training Accuracy: 0.700\n"
     ]
    },
    {
     "name": "stderr",
     "output_type": "stream",
     "text": [
      "\r",
      " 30%|███       | 91/300 [08:15<18:39,  5.35s/it]"
     ]
    },
    {
     "name": "stdout",
     "output_type": "stream",
     "text": [
      "Epoch 90 - Validation loss: 2.024 , Validation Accuracy: 0.569\n"
     ]
    },
    {
     "name": "stderr",
     "output_type": "stream",
     "text": [
      "\r",
      " 31%|███       | 92/300 [08:21<18:31,  5.34s/it]"
     ]
    },
    {
     "name": "stdout",
     "output_type": "stream",
     "text": [
      "Epoch 91 - Training loss: 1.237 , Training Accuracy: 0.714\n"
     ]
    },
    {
     "name": "stderr",
     "output_type": "stream",
     "text": [
      "\r",
      " 31%|███       | 93/300 [08:26<18:28,  5.35s/it]"
     ]
    },
    {
     "name": "stdout",
     "output_type": "stream",
     "text": [
      "Epoch 92 - Training loss: 1.230 , Training Accuracy: 0.710\n"
     ]
    },
    {
     "name": "stderr",
     "output_type": "stream",
     "text": [
      "\r",
      " 31%|███▏      | 94/300 [08:32<18:24,  5.36s/it]"
     ]
    },
    {
     "name": "stdout",
     "output_type": "stream",
     "text": [
      "Epoch 93 - Training loss: 1.257 , Training Accuracy: 0.705\n"
     ]
    },
    {
     "name": "stderr",
     "output_type": "stream",
     "text": [
      "\r",
      " 32%|███▏      | 95/300 [08:37<18:22,  5.38s/it]"
     ]
    },
    {
     "name": "stdout",
     "output_type": "stream",
     "text": [
      "Epoch 94 - Training loss: 1.259 , Training Accuracy: 0.703\n",
      "Epoch 95 - Training loss: 1.231 , Training Accuracy: 0.706\n"
     ]
    },
    {
     "name": "stderr",
     "output_type": "stream",
     "text": [
      "\r",
      " 32%|███▏      | 96/300 [08:43<18:52,  5.55s/it]"
     ]
    },
    {
     "name": "stdout",
     "output_type": "stream",
     "text": [
      "Epoch 95 - Validation loss: 2.092 , Validation Accuracy: 0.574\n"
     ]
    },
    {
     "name": "stderr",
     "output_type": "stream",
     "text": [
      "\r",
      " 32%|███▏      | 97/300 [08:48<18:40,  5.52s/it]"
     ]
    },
    {
     "name": "stdout",
     "output_type": "stream",
     "text": [
      "Epoch 96 - Training loss: 1.250 , Training Accuracy: 0.706\n"
     ]
    },
    {
     "name": "stderr",
     "output_type": "stream",
     "text": [
      "\r",
      " 33%|███▎      | 98/300 [08:54<18:36,  5.53s/it]"
     ]
    },
    {
     "name": "stdout",
     "output_type": "stream",
     "text": [
      "Epoch 97 - Training loss: 1.228 , Training Accuracy: 0.714\n"
     ]
    },
    {
     "name": "stderr",
     "output_type": "stream",
     "text": [
      "\r",
      " 33%|███▎      | 99/300 [09:00<18:36,  5.55s/it]"
     ]
    },
    {
     "name": "stdout",
     "output_type": "stream",
     "text": [
      "Epoch 98 - Training loss: 1.227 , Training Accuracy: 0.712\n"
     ]
    },
    {
     "name": "stderr",
     "output_type": "stream",
     "text": [
      "\r",
      " 33%|███▎      | 100/300 [09:05<18:29,  5.55s/it]"
     ]
    },
    {
     "name": "stdout",
     "output_type": "stream",
     "text": [
      "Epoch 99 - Training loss: 1.208 , Training Accuracy: 0.719\n",
      "Epoch 100 - Training loss: 1.217 , Training Accuracy: 0.718\n"
     ]
    },
    {
     "name": "stderr",
     "output_type": "stream",
     "text": [
      "\r",
      " 34%|███▎      | 101/300 [09:11<18:28,  5.57s/it]"
     ]
    },
    {
     "name": "stdout",
     "output_type": "stream",
     "text": [
      "Epoch 100 - Validation loss: 2.091 , Validation Accuracy: 0.578\n"
     ]
    },
    {
     "name": "stderr",
     "output_type": "stream",
     "text": [
      "\r",
      " 34%|███▍      | 102/300 [09:16<18:18,  5.55s/it]"
     ]
    },
    {
     "name": "stdout",
     "output_type": "stream",
     "text": [
      "Epoch 101 - Training loss: 1.213 , Training Accuracy: 0.717\n"
     ]
    },
    {
     "name": "stderr",
     "output_type": "stream",
     "text": [
      "\r",
      " 34%|███▍      | 103/300 [09:22<18:09,  5.53s/it]"
     ]
    },
    {
     "name": "stdout",
     "output_type": "stream",
     "text": [
      "Epoch 102 - Training loss: 1.203 , Training Accuracy: 0.724\n"
     ]
    },
    {
     "name": "stderr",
     "output_type": "stream",
     "text": [
      "\r",
      " 35%|███▍      | 104/300 [09:27<18:01,  5.52s/it]"
     ]
    },
    {
     "name": "stdout",
     "output_type": "stream",
     "text": [
      "Epoch 103 - Training loss: 1.200 , Training Accuracy: 0.724\n"
     ]
    },
    {
     "name": "stderr",
     "output_type": "stream",
     "text": [
      "\r",
      " 35%|███▌      | 105/300 [09:33<17:49,  5.49s/it]"
     ]
    },
    {
     "name": "stdout",
     "output_type": "stream",
     "text": [
      "Epoch 104 - Training loss: 1.178 , Training Accuracy: 0.724\n",
      "Epoch 105 - Training loss: 1.235 , Training Accuracy: 0.713\n"
     ]
    },
    {
     "name": "stderr",
     "output_type": "stream",
     "text": [
      "\r",
      " 35%|███▌      | 106/300 [09:38<17:52,  5.53s/it]"
     ]
    },
    {
     "name": "stdout",
     "output_type": "stream",
     "text": [
      "Epoch 105 - Validation loss: 2.120 , Validation Accuracy: 0.564\n"
     ]
    },
    {
     "name": "stderr",
     "output_type": "stream",
     "text": [
      "\r",
      " 36%|███▌      | 107/300 [09:44<17:41,  5.50s/it]"
     ]
    },
    {
     "name": "stdout",
     "output_type": "stream",
     "text": [
      "Epoch 106 - Training loss: 1.192 , Training Accuracy: 0.722\n"
     ]
    },
    {
     "name": "stderr",
     "output_type": "stream",
     "text": [
      "\r",
      " 36%|███▌      | 108/300 [09:49<17:30,  5.47s/it]"
     ]
    },
    {
     "name": "stdout",
     "output_type": "stream",
     "text": [
      "Epoch 107 - Training loss: 1.215 , Training Accuracy: 0.716\n"
     ]
    },
    {
     "name": "stderr",
     "output_type": "stream",
     "text": [
      "\r",
      " 36%|███▋      | 109/300 [09:54<17:23,  5.46s/it]"
     ]
    },
    {
     "name": "stdout",
     "output_type": "stream",
     "text": [
      "Epoch 108 - Training loss: 1.183 , Training Accuracy: 0.727\n"
     ]
    },
    {
     "name": "stderr",
     "output_type": "stream",
     "text": [
      "\r",
      " 37%|███▋      | 110/300 [10:00<17:11,  5.43s/it]"
     ]
    },
    {
     "name": "stdout",
     "output_type": "stream",
     "text": [
      "Epoch 109 - Training loss: 1.190 , Training Accuracy: 0.724\n",
      "Epoch 110 - Training loss: 1.174 , Training Accuracy: 0.726\n"
     ]
    },
    {
     "name": "stderr",
     "output_type": "stream",
     "text": [
      "\r",
      " 37%|███▋      | 111/300 [10:05<17:17,  5.49s/it]"
     ]
    },
    {
     "name": "stdout",
     "output_type": "stream",
     "text": [
      "Epoch 110 - Validation loss: 2.182 , Validation Accuracy: 0.562\n"
     ]
    },
    {
     "name": "stderr",
     "output_type": "stream",
     "text": [
      "\r",
      " 37%|███▋      | 112/300 [10:11<17:03,  5.44s/it]"
     ]
    },
    {
     "name": "stdout",
     "output_type": "stream",
     "text": [
      "Epoch 111 - Training loss: 1.168 , Training Accuracy: 0.726\n"
     ]
    },
    {
     "name": "stderr",
     "output_type": "stream",
     "text": [
      "\r",
      " 38%|███▊      | 113/300 [10:16<17:09,  5.51s/it]"
     ]
    },
    {
     "name": "stdout",
     "output_type": "stream",
     "text": [
      "Epoch 112 - Training loss: 1.209 , Training Accuracy: 0.720\n"
     ]
    },
    {
     "name": "stderr",
     "output_type": "stream",
     "text": [
      "\r",
      " 38%|███▊      | 114/300 [10:22<16:55,  5.46s/it]"
     ]
    },
    {
     "name": "stdout",
     "output_type": "stream",
     "text": [
      "Epoch 113 - Training loss: 1.168 , Training Accuracy: 0.724\n"
     ]
    },
    {
     "name": "stderr",
     "output_type": "stream",
     "text": [
      "\r",
      " 38%|███▊      | 115/300 [10:27<16:41,  5.41s/it]"
     ]
    },
    {
     "name": "stdout",
     "output_type": "stream",
     "text": [
      "Epoch 114 - Training loss: 1.174 , Training Accuracy: 0.723\n",
      "Epoch 115 - Training loss: 1.183 , Training Accuracy: 0.723\n"
     ]
    },
    {
     "name": "stderr",
     "output_type": "stream",
     "text": [
      "\r",
      " 39%|███▊      | 116/300 [10:33<16:46,  5.47s/it]"
     ]
    },
    {
     "name": "stdout",
     "output_type": "stream",
     "text": [
      "Epoch 115 - Validation loss: 2.576 , Validation Accuracy: 0.568\n"
     ]
    },
    {
     "name": "stderr",
     "output_type": "stream",
     "text": [
      "\r",
      " 39%|███▉      | 117/300 [10:38<16:37,  5.45s/it]"
     ]
    },
    {
     "name": "stdout",
     "output_type": "stream",
     "text": [
      "Epoch 116 - Training loss: 1.177 , Training Accuracy: 0.728\n"
     ]
    },
    {
     "name": "stderr",
     "output_type": "stream",
     "text": [
      "\r",
      " 39%|███▉      | 118/300 [10:44<16:28,  5.43s/it]"
     ]
    },
    {
     "name": "stdout",
     "output_type": "stream",
     "text": [
      "Epoch 117 - Training loss: 1.138 , Training Accuracy: 0.741\n"
     ]
    },
    {
     "name": "stderr",
     "output_type": "stream",
     "text": [
      "\r",
      " 40%|███▉      | 119/300 [10:49<16:23,  5.43s/it]"
     ]
    },
    {
     "name": "stdout",
     "output_type": "stream",
     "text": [
      "Epoch 118 - Training loss: 1.141 , Training Accuracy: 0.736\n"
     ]
    },
    {
     "name": "stderr",
     "output_type": "stream",
     "text": [
      "\r",
      " 40%|████      | 120/300 [10:54<16:12,  5.41s/it]"
     ]
    },
    {
     "name": "stdout",
     "output_type": "stream",
     "text": [
      "Epoch 119 - Training loss: 1.153 , Training Accuracy: 0.735\n",
      "Epoch 120 - Training loss: 1.161 , Training Accuracy: 0.731\n"
     ]
    },
    {
     "name": "stderr",
     "output_type": "stream",
     "text": [
      "\r",
      " 40%|████      | 121/300 [11:00<16:19,  5.47s/it]"
     ]
    },
    {
     "name": "stdout",
     "output_type": "stream",
     "text": [
      "Epoch 120 - Validation loss: 2.309 , Validation Accuracy: 0.549\n"
     ]
    },
    {
     "name": "stderr",
     "output_type": "stream",
     "text": [
      "\r",
      " 41%|████      | 122/300 [11:05<15:48,  5.33s/it]"
     ]
    },
    {
     "name": "stdout",
     "output_type": "stream",
     "text": [
      "Epoch 121 - Training loss: 1.161 , Training Accuracy: 0.730\n"
     ]
    },
    {
     "name": "stderr",
     "output_type": "stream",
     "text": [
      "\r",
      " 41%|████      | 123/300 [11:10<15:51,  5.38s/it]"
     ]
    },
    {
     "name": "stdout",
     "output_type": "stream",
     "text": [
      "Epoch 122 - Training loss: 1.139 , Training Accuracy: 0.732\n"
     ]
    },
    {
     "name": "stderr",
     "output_type": "stream",
     "text": [
      "\r",
      " 41%|████▏     | 124/300 [11:16<15:47,  5.38s/it]"
     ]
    },
    {
     "name": "stdout",
     "output_type": "stream",
     "text": [
      "Epoch 123 - Training loss: 1.143 , Training Accuracy: 0.731\n"
     ]
    },
    {
     "name": "stderr",
     "output_type": "stream",
     "text": [
      "\r",
      " 42%|████▏     | 125/300 [11:21<15:39,  5.37s/it]"
     ]
    },
    {
     "name": "stdout",
     "output_type": "stream",
     "text": [
      "Epoch 124 - Training loss: 1.157 , Training Accuracy: 0.738\n",
      "Epoch 125 - Training loss: 1.135 , Training Accuracy: 0.737\n"
     ]
    },
    {
     "name": "stderr",
     "output_type": "stream",
     "text": [
      "\r",
      " 42%|████▏     | 126/300 [11:27<15:43,  5.42s/it]"
     ]
    },
    {
     "name": "stdout",
     "output_type": "stream",
     "text": [
      "Epoch 125 - Validation loss: 2.212 , Validation Accuracy: 0.557\n"
     ]
    },
    {
     "name": "stderr",
     "output_type": "stream",
     "text": [
      "\r",
      " 42%|████▏     | 127/300 [11:32<15:31,  5.39s/it]"
     ]
    },
    {
     "name": "stdout",
     "output_type": "stream",
     "text": [
      "Epoch 126 - Training loss: 1.119 , Training Accuracy: 0.742\n"
     ]
    },
    {
     "name": "stderr",
     "output_type": "stream",
     "text": [
      "\r",
      " 43%|████▎     | 128/300 [11:37<15:21,  5.36s/it]"
     ]
    },
    {
     "name": "stdout",
     "output_type": "stream",
     "text": [
      "Epoch 127 - Training loss: 1.131 , Training Accuracy: 0.737\n"
     ]
    },
    {
     "name": "stderr",
     "output_type": "stream",
     "text": [
      "\r",
      " 43%|████▎     | 129/300 [11:43<15:22,  5.39s/it]"
     ]
    },
    {
     "name": "stdout",
     "output_type": "stream",
     "text": [
      "Epoch 128 - Training loss: 1.104 , Training Accuracy: 0.745\n"
     ]
    },
    {
     "name": "stderr",
     "output_type": "stream",
     "text": [
      "\r",
      " 43%|████▎     | 130/300 [11:48<15:13,  5.37s/it]"
     ]
    },
    {
     "name": "stdout",
     "output_type": "stream",
     "text": [
      "Epoch 129 - Training loss: 1.117 , Training Accuracy: 0.744\n",
      "Epoch 130 - Training loss: 1.140 , Training Accuracy: 0.736\n"
     ]
    },
    {
     "name": "stderr",
     "output_type": "stream",
     "text": [
      "\r",
      " 44%|████▎     | 131/300 [11:54<15:15,  5.42s/it]"
     ]
    },
    {
     "name": "stdout",
     "output_type": "stream",
     "text": [
      "Epoch 130 - Validation loss: 2.546 , Validation Accuracy: 0.524\n"
     ]
    },
    {
     "name": "stderr",
     "output_type": "stream",
     "text": [
      "\r",
      " 44%|████▍     | 132/300 [11:59<15:09,  5.41s/it]"
     ]
    },
    {
     "name": "stdout",
     "output_type": "stream",
     "text": [
      "Epoch 131 - Training loss: 1.096 , Training Accuracy: 0.747\n"
     ]
    },
    {
     "name": "stderr",
     "output_type": "stream",
     "text": [
      "\r",
      " 44%|████▍     | 133/300 [12:04<14:57,  5.37s/it]"
     ]
    },
    {
     "name": "stdout",
     "output_type": "stream",
     "text": [
      "Epoch 132 - Training loss: 1.127 , Training Accuracy: 0.741\n"
     ]
    },
    {
     "name": "stderr",
     "output_type": "stream",
     "text": [
      "\r",
      " 45%|████▍     | 134/300 [12:09<14:44,  5.33s/it]"
     ]
    },
    {
     "name": "stdout",
     "output_type": "stream",
     "text": [
      "Epoch 133 - Training loss: 1.116 , Training Accuracy: 0.743\n"
     ]
    },
    {
     "name": "stderr",
     "output_type": "stream",
     "text": [
      "\r",
      " 45%|████▌     | 135/300 [12:15<14:31,  5.28s/it]"
     ]
    },
    {
     "name": "stdout",
     "output_type": "stream",
     "text": [
      "Epoch 134 - Training loss: 1.101 , Training Accuracy: 0.746\n",
      "Epoch 135 - Training loss: 1.085 , Training Accuracy: 0.749\n"
     ]
    },
    {
     "name": "stderr",
     "output_type": "stream",
     "text": [
      "\r",
      " 45%|████▌     | 136/300 [12:20<14:27,  5.29s/it]"
     ]
    },
    {
     "name": "stdout",
     "output_type": "stream",
     "text": [
      "Epoch 135 - Validation loss: 2.472 , Validation Accuracy: 0.545\n"
     ]
    },
    {
     "name": "stderr",
     "output_type": "stream",
     "text": [
      "\r",
      " 46%|████▌     | 137/300 [12:25<14:18,  5.26s/it]"
     ]
    },
    {
     "name": "stdout",
     "output_type": "stream",
     "text": [
      "Epoch 136 - Training loss: 1.111 , Training Accuracy: 0.745\n"
     ]
    },
    {
     "name": "stderr",
     "output_type": "stream",
     "text": [
      "\r",
      " 46%|████▌     | 138/300 [12:30<14:10,  5.25s/it]"
     ]
    },
    {
     "name": "stdout",
     "output_type": "stream",
     "text": [
      "Epoch 137 - Training loss: 1.096 , Training Accuracy: 0.743\n"
     ]
    },
    {
     "name": "stderr",
     "output_type": "stream",
     "text": [
      "\r",
      " 46%|████▋     | 139/300 [12:36<14:00,  5.22s/it]"
     ]
    },
    {
     "name": "stdout",
     "output_type": "stream",
     "text": [
      "Epoch 138 - Training loss: 1.097 , Training Accuracy: 0.750\n"
     ]
    },
    {
     "name": "stderr",
     "output_type": "stream",
     "text": [
      "\r",
      " 47%|████▋     | 140/300 [12:41<13:58,  5.24s/it]"
     ]
    },
    {
     "name": "stdout",
     "output_type": "stream",
     "text": [
      "Epoch 139 - Training loss: 1.069 , Training Accuracy: 0.755\n",
      "Epoch 140 - Training loss: 1.112 , Training Accuracy: 0.742\n"
     ]
    },
    {
     "name": "stderr",
     "output_type": "stream",
     "text": [
      "\r",
      " 47%|████▋     | 141/300 [12:47<14:13,  5.37s/it]"
     ]
    },
    {
     "name": "stdout",
     "output_type": "stream",
     "text": [
      "Epoch 140 - Validation loss: 2.182 , Validation Accuracy: 0.557\n"
     ]
    },
    {
     "name": "stderr",
     "output_type": "stream",
     "text": [
      "\r",
      " 47%|████▋     | 142/300 [12:52<14:02,  5.33s/it]"
     ]
    },
    {
     "name": "stdout",
     "output_type": "stream",
     "text": [
      "Epoch 141 - Training loss: 1.099 , Training Accuracy: 0.740\n"
     ]
    },
    {
     "name": "stderr",
     "output_type": "stream",
     "text": [
      "\r",
      " 48%|████▊     | 143/300 [12:57<13:58,  5.34s/it]"
     ]
    },
    {
     "name": "stdout",
     "output_type": "stream",
     "text": [
      "Epoch 142 - Training loss: 1.090 , Training Accuracy: 0.747\n"
     ]
    },
    {
     "name": "stderr",
     "output_type": "stream",
     "text": [
      "\r",
      " 48%|████▊     | 144/300 [13:02<13:54,  5.35s/it]"
     ]
    },
    {
     "name": "stdout",
     "output_type": "stream",
     "text": [
      "Epoch 143 - Training loss: 1.095 , Training Accuracy: 0.754\n"
     ]
    },
    {
     "name": "stderr",
     "output_type": "stream",
     "text": [
      "\r",
      " 48%|████▊     | 145/300 [13:08<13:50,  5.36s/it]"
     ]
    },
    {
     "name": "stdout",
     "output_type": "stream",
     "text": [
      "Epoch 144 - Training loss: 1.100 , Training Accuracy: 0.748\n",
      "Epoch 145 - Training loss: 1.111 , Training Accuracy: 0.747\n"
     ]
    },
    {
     "name": "stderr",
     "output_type": "stream",
     "text": [
      "\r",
      " 49%|████▊     | 146/300 [13:14<14:12,  5.53s/it]"
     ]
    },
    {
     "name": "stdout",
     "output_type": "stream",
     "text": [
      "Epoch 145 - Validation loss: 2.510 , Validation Accuracy: 0.544\n"
     ]
    },
    {
     "name": "stderr",
     "output_type": "stream",
     "text": [
      "\r",
      " 49%|████▉     | 147/300 [13:19<13:51,  5.44s/it]"
     ]
    },
    {
     "name": "stdout",
     "output_type": "stream",
     "text": [
      "Epoch 146 - Training loss: 1.084 , Training Accuracy: 0.753\n"
     ]
    },
    {
     "name": "stderr",
     "output_type": "stream",
     "text": [
      "\r",
      " 49%|████▉     | 148/300 [13:24<13:32,  5.34s/it]"
     ]
    },
    {
     "name": "stdout",
     "output_type": "stream",
     "text": [
      "Epoch 147 - Training loss: 1.081 , Training Accuracy: 0.753\n"
     ]
    },
    {
     "name": "stderr",
     "output_type": "stream",
     "text": [
      "\r",
      " 50%|████▉     | 149/300 [13:29<13:07,  5.22s/it]"
     ]
    },
    {
     "name": "stdout",
     "output_type": "stream",
     "text": [
      "Epoch 148 - Training loss: 1.099 , Training Accuracy: 0.743\n"
     ]
    },
    {
     "name": "stderr",
     "output_type": "stream",
     "text": [
      "\r",
      " 50%|█████     | 150/300 [13:34<12:48,  5.12s/it]"
     ]
    },
    {
     "name": "stdout",
     "output_type": "stream",
     "text": [
      "Epoch 149 - Training loss: 1.044 , Training Accuracy: 0.757\n",
      "Epoch 150 - Training loss: 1.065 , Training Accuracy: 0.756\n"
     ]
    },
    {
     "name": "stderr",
     "output_type": "stream",
     "text": [
      "\r",
      " 50%|█████     | 151/300 [13:40<13:01,  5.25s/it]"
     ]
    },
    {
     "name": "stdout",
     "output_type": "stream",
     "text": [
      "Epoch 150 - Validation loss: 2.457 , Validation Accuracy: 0.544\n"
     ]
    },
    {
     "name": "stderr",
     "output_type": "stream",
     "text": [
      "\r",
      " 51%|█████     | 152/300 [13:45<12:54,  5.23s/it]"
     ]
    },
    {
     "name": "stdout",
     "output_type": "stream",
     "text": [
      "Epoch 151 - Training loss: 1.074 , Training Accuracy: 0.753\n"
     ]
    },
    {
     "name": "stderr",
     "output_type": "stream",
     "text": [
      "\r",
      " 51%|█████     | 153/300 [13:50<12:49,  5.23s/it]"
     ]
    },
    {
     "name": "stdout",
     "output_type": "stream",
     "text": [
      "Epoch 152 - Training loss: 1.048 , Training Accuracy: 0.764\n"
     ]
    },
    {
     "name": "stderr",
     "output_type": "stream",
     "text": [
      "\r",
      " 51%|█████▏    | 154/300 [13:55<12:40,  5.21s/it]"
     ]
    },
    {
     "name": "stdout",
     "output_type": "stream",
     "text": [
      "Epoch 153 - Training loss: 1.060 , Training Accuracy: 0.760\n"
     ]
    },
    {
     "name": "stderr",
     "output_type": "stream",
     "text": [
      "\r",
      " 52%|█████▏    | 155/300 [14:00<12:39,  5.24s/it]"
     ]
    },
    {
     "name": "stdout",
     "output_type": "stream",
     "text": [
      "Epoch 154 - Training loss: 1.065 , Training Accuracy: 0.759\n",
      "Epoch 155 - Training loss: 1.050 , Training Accuracy: 0.757\n"
     ]
    },
    {
     "name": "stderr",
     "output_type": "stream",
     "text": [
      "\r",
      " 52%|█████▏    | 156/300 [14:06<12:46,  5.33s/it]"
     ]
    },
    {
     "name": "stdout",
     "output_type": "stream",
     "text": [
      "Epoch 155 - Validation loss: 2.349 , Validation Accuracy: 0.552\n"
     ]
    },
    {
     "name": "stderr",
     "output_type": "stream",
     "text": [
      "\r",
      " 52%|█████▏    | 157/300 [14:11<12:41,  5.32s/it]"
     ]
    },
    {
     "name": "stdout",
     "output_type": "stream",
     "text": [
      "Epoch 156 - Training loss: 1.029 , Training Accuracy: 0.764\n"
     ]
    },
    {
     "name": "stderr",
     "output_type": "stream",
     "text": [
      "\r",
      " 53%|█████▎    | 158/300 [14:17<12:40,  5.36s/it]"
     ]
    },
    {
     "name": "stdout",
     "output_type": "stream",
     "text": [
      "Epoch 157 - Training loss: 1.080 , Training Accuracy: 0.754\n"
     ]
    },
    {
     "name": "stderr",
     "output_type": "stream",
     "text": [
      "\r",
      " 53%|█████▎    | 159/300 [14:22<12:33,  5.34s/it]"
     ]
    },
    {
     "name": "stdout",
     "output_type": "stream",
     "text": [
      "Epoch 158 - Training loss: 1.097 , Training Accuracy: 0.747\n"
     ]
    },
    {
     "name": "stderr",
     "output_type": "stream",
     "text": [
      "\r",
      " 53%|█████▎    | 160/300 [14:27<12:17,  5.27s/it]"
     ]
    },
    {
     "name": "stdout",
     "output_type": "stream",
     "text": [
      "Epoch 159 - Training loss: 1.129 , Training Accuracy: 0.743\n",
      "Epoch 160 - Training loss: 1.015 , Training Accuracy: 0.769\n"
     ]
    },
    {
     "name": "stderr",
     "output_type": "stream",
     "text": [
      "\r",
      " 54%|█████▎    | 161/300 [14:33<12:24,  5.35s/it]"
     ]
    },
    {
     "name": "stdout",
     "output_type": "stream",
     "text": [
      "Epoch 160 - Validation loss: 2.352 , Validation Accuracy: 0.548\n"
     ]
    },
    {
     "name": "stderr",
     "output_type": "stream",
     "text": [
      "\r",
      " 54%|█████▍    | 162/300 [14:38<12:20,  5.37s/it]"
     ]
    },
    {
     "name": "stdout",
     "output_type": "stream",
     "text": [
      "Epoch 161 - Training loss: 1.057 , Training Accuracy: 0.762\n"
     ]
    },
    {
     "name": "stderr",
     "output_type": "stream",
     "text": [
      "\r",
      " 54%|█████▍    | 163/300 [14:44<12:24,  5.44s/it]"
     ]
    },
    {
     "name": "stdout",
     "output_type": "stream",
     "text": [
      "Epoch 162 - Training loss: 1.025 , Training Accuracy: 0.767\n"
     ]
    },
    {
     "name": "stderr",
     "output_type": "stream",
     "text": [
      "\r",
      " 55%|█████▍    | 164/300 [14:49<12:21,  5.45s/it]"
     ]
    },
    {
     "name": "stdout",
     "output_type": "stream",
     "text": [
      "Epoch 163 - Training loss: 1.021 , Training Accuracy: 0.766\n"
     ]
    },
    {
     "name": "stderr",
     "output_type": "stream",
     "text": [
      "\r",
      " 55%|█████▌    | 165/300 [14:54<12:12,  5.43s/it]"
     ]
    },
    {
     "name": "stdout",
     "output_type": "stream",
     "text": [
      "Epoch 164 - Training loss: 1.054 , Training Accuracy: 0.758\n",
      "Epoch 165 - Training loss: 1.065 , Training Accuracy: 0.756\n"
     ]
    },
    {
     "name": "stderr",
     "output_type": "stream",
     "text": [
      "\r",
      " 55%|█████▌    | 166/300 [15:00<12:09,  5.45s/it]"
     ]
    },
    {
     "name": "stdout",
     "output_type": "stream",
     "text": [
      "Epoch 165 - Validation loss: 2.715 , Validation Accuracy: 0.569\n"
     ]
    },
    {
     "name": "stderr",
     "output_type": "stream",
     "text": [
      "\r",
      " 56%|█████▌    | 167/300 [15:05<11:55,  5.38s/it]"
     ]
    },
    {
     "name": "stdout",
     "output_type": "stream",
     "text": [
      "Epoch 166 - Training loss: 1.063 , Training Accuracy: 0.756\n"
     ]
    },
    {
     "name": "stderr",
     "output_type": "stream",
     "text": [
      "\r",
      " 56%|█████▌    | 168/300 [15:10<11:44,  5.34s/it]"
     ]
    },
    {
     "name": "stdout",
     "output_type": "stream",
     "text": [
      "Epoch 167 - Training loss: 1.033 , Training Accuracy: 0.767\n"
     ]
    },
    {
     "name": "stderr",
     "output_type": "stream",
     "text": [
      "\r",
      " 56%|█████▋    | 169/300 [15:16<11:28,  5.26s/it]"
     ]
    },
    {
     "name": "stdout",
     "output_type": "stream",
     "text": [
      "Epoch 168 - Training loss: 1.047 , Training Accuracy: 0.761\n"
     ]
    },
    {
     "name": "stderr",
     "output_type": "stream",
     "text": [
      "\r",
      " 57%|█████▋    | 170/300 [15:21<11:24,  5.26s/it]"
     ]
    },
    {
     "name": "stdout",
     "output_type": "stream",
     "text": [
      "Epoch 169 - Training loss: 1.032 , Training Accuracy: 0.764\n",
      "Epoch 170 - Training loss: 1.017 , Training Accuracy: 0.766\n"
     ]
    },
    {
     "name": "stderr",
     "output_type": "stream",
     "text": [
      "\r",
      " 57%|█████▋    | 171/300 [15:26<11:30,  5.36s/it]"
     ]
    },
    {
     "name": "stdout",
     "output_type": "stream",
     "text": [
      "Epoch 170 - Validation loss: 2.442 , Validation Accuracy: 0.539\n"
     ]
    },
    {
     "name": "stderr",
     "output_type": "stream",
     "text": [
      "\r",
      " 57%|█████▋    | 172/300 [15:32<11:24,  5.35s/it]"
     ]
    },
    {
     "name": "stdout",
     "output_type": "stream",
     "text": [
      "Epoch 171 - Training loss: 1.032 , Training Accuracy: 0.761\n"
     ]
    },
    {
     "name": "stderr",
     "output_type": "stream",
     "text": [
      "\r",
      " 58%|█████▊    | 173/300 [15:37<11:20,  5.36s/it]"
     ]
    },
    {
     "name": "stdout",
     "output_type": "stream",
     "text": [
      "Epoch 172 - Training loss: 1.039 , Training Accuracy: 0.761\n"
     ]
    },
    {
     "name": "stderr",
     "output_type": "stream",
     "text": [
      "\r",
      " 58%|█████▊    | 174/300 [15:42<11:04,  5.28s/it]"
     ]
    },
    {
     "name": "stdout",
     "output_type": "stream",
     "text": [
      "Epoch 173 - Training loss: 0.976 , Training Accuracy: 0.778\n"
     ]
    },
    {
     "name": "stderr",
     "output_type": "stream",
     "text": [
      "\r",
      " 58%|█████▊    | 175/300 [15:47<10:58,  5.27s/it]"
     ]
    },
    {
     "name": "stdout",
     "output_type": "stream",
     "text": [
      "Epoch 174 - Training loss: 1.036 , Training Accuracy: 0.767\n",
      "Epoch 175 - Training loss: 1.114 , Training Accuracy: 0.746\n"
     ]
    },
    {
     "name": "stderr",
     "output_type": "stream",
     "text": [
      "\r",
      " 59%|█████▊    | 176/300 [15:53<10:59,  5.32s/it]"
     ]
    },
    {
     "name": "stdout",
     "output_type": "stream",
     "text": [
      "Epoch 175 - Validation loss: 2.559 , Validation Accuracy: 0.556\n"
     ]
    },
    {
     "name": "stderr",
     "output_type": "stream",
     "text": [
      "\r",
      " 59%|█████▉    | 177/300 [15:58<10:54,  5.32s/it]"
     ]
    },
    {
     "name": "stdout",
     "output_type": "stream",
     "text": [
      "Epoch 176 - Training loss: 1.007 , Training Accuracy: 0.771\n"
     ]
    },
    {
     "name": "stderr",
     "output_type": "stream",
     "text": [
      "\r",
      " 59%|█████▉    | 178/300 [16:03<10:48,  5.31s/it]"
     ]
    },
    {
     "name": "stdout",
     "output_type": "stream",
     "text": [
      "Epoch 177 - Training loss: 0.996 , Training Accuracy: 0.774\n"
     ]
    },
    {
     "name": "stderr",
     "output_type": "stream",
     "text": [
      "\r",
      " 60%|█████▉    | 179/300 [16:09<10:45,  5.33s/it]"
     ]
    },
    {
     "name": "stdout",
     "output_type": "stream",
     "text": [
      "Epoch 178 - Training loss: 1.013 , Training Accuracy: 0.771\n"
     ]
    },
    {
     "name": "stderr",
     "output_type": "stream",
     "text": [
      "\r",
      " 60%|██████    | 180/300 [16:14<10:44,  5.37s/it]"
     ]
    },
    {
     "name": "stdout",
     "output_type": "stream",
     "text": [
      "Epoch 179 - Training loss: 0.998 , Training Accuracy: 0.771\n",
      "Epoch 180 - Training loss: 1.007 , Training Accuracy: 0.771\n"
     ]
    },
    {
     "name": "stderr",
     "output_type": "stream",
     "text": [
      "\r",
      " 60%|██████    | 181/300 [16:20<10:36,  5.35s/it]"
     ]
    },
    {
     "name": "stdout",
     "output_type": "stream",
     "text": [
      "Epoch 180 - Validation loss: 2.350 , Validation Accuracy: 0.528\n"
     ]
    },
    {
     "name": "stderr",
     "output_type": "stream",
     "text": [
      "\r",
      " 61%|██████    | 182/300 [16:25<10:23,  5.28s/it]"
     ]
    },
    {
     "name": "stdout",
     "output_type": "stream",
     "text": [
      "Epoch 181 - Training loss: 1.107 , Training Accuracy: 0.743\n"
     ]
    },
    {
     "name": "stderr",
     "output_type": "stream",
     "text": [
      "\r",
      " 61%|██████    | 183/300 [16:30<10:11,  5.23s/it]"
     ]
    },
    {
     "name": "stdout",
     "output_type": "stream",
     "text": [
      "Epoch 182 - Training loss: 1.015 , Training Accuracy: 0.763\n"
     ]
    },
    {
     "name": "stderr",
     "output_type": "stream",
     "text": [
      "\r",
      " 61%|██████▏   | 184/300 [16:35<10:02,  5.19s/it]"
     ]
    },
    {
     "name": "stdout",
     "output_type": "stream",
     "text": [
      "Epoch 183 - Training loss: 1.063 , Training Accuracy: 0.757\n"
     ]
    },
    {
     "name": "stderr",
     "output_type": "stream",
     "text": [
      "\r",
      " 62%|██████▏   | 185/300 [16:40<10:02,  5.24s/it]"
     ]
    },
    {
     "name": "stdout",
     "output_type": "stream",
     "text": [
      "Epoch 184 - Training loss: 0.997 , Training Accuracy: 0.766\n",
      "Epoch 185 - Training loss: 1.043 , Training Accuracy: 0.762\n"
     ]
    },
    {
     "name": "stderr",
     "output_type": "stream",
     "text": [
      "\r",
      " 62%|██████▏   | 186/300 [16:46<10:05,  5.31s/it]"
     ]
    },
    {
     "name": "stdout",
     "output_type": "stream",
     "text": [
      "Epoch 185 - Validation loss: 2.348 , Validation Accuracy: 0.553\n"
     ]
    },
    {
     "name": "stderr",
     "output_type": "stream",
     "text": [
      "\r",
      " 62%|██████▏   | 187/300 [16:51<10:00,  5.31s/it]"
     ]
    },
    {
     "name": "stdout",
     "output_type": "stream",
     "text": [
      "Epoch 186 - Training loss: 1.039 , Training Accuracy: 0.763\n"
     ]
    },
    {
     "name": "stderr",
     "output_type": "stream",
     "text": [
      "\r",
      " 63%|██████▎   | 188/300 [16:56<09:47,  5.24s/it]"
     ]
    },
    {
     "name": "stdout",
     "output_type": "stream",
     "text": [
      "Epoch 187 - Training loss: 1.006 , Training Accuracy: 0.764\n"
     ]
    },
    {
     "name": "stderr",
     "output_type": "stream",
     "text": [
      "\r",
      " 63%|██████▎   | 189/300 [17:01<09:44,  5.27s/it]"
     ]
    },
    {
     "name": "stdout",
     "output_type": "stream",
     "text": [
      "Epoch 188 - Training loss: 0.990 , Training Accuracy: 0.777\n"
     ]
    },
    {
     "name": "stderr",
     "output_type": "stream",
     "text": [
      "\r",
      " 63%|██████▎   | 190/300 [17:07<09:41,  5.29s/it]"
     ]
    },
    {
     "name": "stdout",
     "output_type": "stream",
     "text": [
      "Epoch 189 - Training loss: 1.051 , Training Accuracy: 0.760\n",
      "Epoch 190 - Training loss: 1.020 , Training Accuracy: 0.768\n"
     ]
    },
    {
     "name": "stderr",
     "output_type": "stream",
     "text": [
      "\r",
      " 64%|██████▎   | 191/300 [17:12<09:38,  5.30s/it]"
     ]
    },
    {
     "name": "stdout",
     "output_type": "stream",
     "text": [
      "Epoch 190 - Validation loss: 2.466 , Validation Accuracy: 0.562\n"
     ]
    },
    {
     "name": "stderr",
     "output_type": "stream",
     "text": [
      "\r",
      " 64%|██████▍   | 192/300 [17:17<09:25,  5.24s/it]"
     ]
    },
    {
     "name": "stdout",
     "output_type": "stream",
     "text": [
      "Epoch 191 - Training loss: 1.066 , Training Accuracy: 0.751\n"
     ]
    },
    {
     "name": "stderr",
     "output_type": "stream",
     "text": [
      "\r",
      " 64%|██████▍   | 193/300 [17:23<09:22,  5.26s/it]"
     ]
    },
    {
     "name": "stdout",
     "output_type": "stream",
     "text": [
      "Epoch 192 - Training loss: 0.986 , Training Accuracy: 0.775\n"
     ]
    },
    {
     "name": "stderr",
     "output_type": "stream",
     "text": [
      "\r",
      " 65%|██████▍   | 194/300 [17:28<09:16,  5.25s/it]"
     ]
    },
    {
     "name": "stdout",
     "output_type": "stream",
     "text": [
      "Epoch 193 - Training loss: 0.975 , Training Accuracy: 0.780\n"
     ]
    },
    {
     "name": "stderr",
     "output_type": "stream",
     "text": [
      "\r",
      " 65%|██████▌   | 195/300 [17:33<09:14,  5.28s/it]"
     ]
    },
    {
     "name": "stdout",
     "output_type": "stream",
     "text": [
      "Epoch 194 - Training loss: 0.950 , Training Accuracy: 0.782\n",
      "Epoch 195 - Training loss: 1.009 , Training Accuracy: 0.768\n"
     ]
    },
    {
     "name": "stderr",
     "output_type": "stream",
     "text": [
      "\r",
      " 65%|██████▌   | 196/300 [17:39<09:18,  5.37s/it]"
     ]
    },
    {
     "name": "stdout",
     "output_type": "stream",
     "text": [
      "Epoch 195 - Validation loss: 2.520 , Validation Accuracy: 0.537\n"
     ]
    },
    {
     "name": "stderr",
     "output_type": "stream",
     "text": [
      "\r",
      " 66%|██████▌   | 197/300 [17:44<09:19,  5.44s/it]"
     ]
    },
    {
     "name": "stdout",
     "output_type": "stream",
     "text": [
      "Epoch 196 - Training loss: 0.989 , Training Accuracy: 0.773\n"
     ]
    },
    {
     "name": "stderr",
     "output_type": "stream",
     "text": [
      "\r",
      " 66%|██████▌   | 198/300 [17:50<09:13,  5.43s/it]"
     ]
    },
    {
     "name": "stdout",
     "output_type": "stream",
     "text": [
      "Epoch 197 - Training loss: 1.029 , Training Accuracy: 0.767\n"
     ]
    },
    {
     "name": "stderr",
     "output_type": "stream",
     "text": [
      "\r",
      " 66%|██████▋   | 199/300 [17:55<09:02,  5.37s/it]"
     ]
    },
    {
     "name": "stdout",
     "output_type": "stream",
     "text": [
      "Epoch 198 - Training loss: 1.040 , Training Accuracy: 0.764\n"
     ]
    },
    {
     "name": "stderr",
     "output_type": "stream",
     "text": [
      "\r",
      " 67%|██████▋   | 200/300 [18:00<08:56,  5.37s/it]"
     ]
    },
    {
     "name": "stdout",
     "output_type": "stream",
     "text": [
      "Epoch 199 - Training loss: 1.005 , Training Accuracy: 0.770\n",
      "Epoch 200 - Training loss: 1.000 , Training Accuracy: 0.772\n"
     ]
    },
    {
     "name": "stderr",
     "output_type": "stream",
     "text": [
      "\r",
      " 67%|██████▋   | 201/300 [18:06<08:58,  5.44s/it]"
     ]
    },
    {
     "name": "stdout",
     "output_type": "stream",
     "text": [
      "Epoch 200 - Validation loss: 2.363 , Validation Accuracy: 0.569\n"
     ]
    },
    {
     "name": "stderr",
     "output_type": "stream",
     "text": [
      "\r",
      " 67%|██████▋   | 202/300 [18:11<08:48,  5.39s/it]"
     ]
    },
    {
     "name": "stdout",
     "output_type": "stream",
     "text": [
      "Epoch 201 - Training loss: 1.003 , Training Accuracy: 0.774\n"
     ]
    },
    {
     "name": "stderr",
     "output_type": "stream",
     "text": [
      "\r",
      " 68%|██████▊   | 203/300 [18:17<08:42,  5.39s/it]"
     ]
    },
    {
     "name": "stdout",
     "output_type": "stream",
     "text": [
      "Epoch 202 - Training loss: 0.983 , Training Accuracy: 0.775\n"
     ]
    },
    {
     "name": "stderr",
     "output_type": "stream",
     "text": [
      "\r",
      " 68%|██████▊   | 204/300 [18:22<08:34,  5.36s/it]"
     ]
    },
    {
     "name": "stdout",
     "output_type": "stream",
     "text": [
      "Epoch 203 - Training loss: 1.042 , Training Accuracy: 0.763\n"
     ]
    },
    {
     "name": "stderr",
     "output_type": "stream",
     "text": [
      "\r",
      " 68%|██████▊   | 205/300 [18:27<08:26,  5.33s/it]"
     ]
    },
    {
     "name": "stdout",
     "output_type": "stream",
     "text": [
      "Epoch 204 - Training loss: 0.929 , Training Accuracy: 0.791\n",
      "Epoch 205 - Training loss: 0.977 , Training Accuracy: 0.777\n"
     ]
    },
    {
     "name": "stderr",
     "output_type": "stream",
     "text": [
      "\r",
      " 69%|██████▊   | 206/300 [18:33<08:22,  5.34s/it]"
     ]
    },
    {
     "name": "stdout",
     "output_type": "stream",
     "text": [
      "Epoch 205 - Validation loss: 2.616 , Validation Accuracy: 0.543\n"
     ]
    },
    {
     "name": "stderr",
     "output_type": "stream",
     "text": [
      "\r",
      " 69%|██████▉   | 207/300 [18:38<08:17,  5.35s/it]"
     ]
    },
    {
     "name": "stdout",
     "output_type": "stream",
     "text": [
      "Epoch 206 - Training loss: 0.962 , Training Accuracy: 0.782\n"
     ]
    },
    {
     "name": "stderr",
     "output_type": "stream",
     "text": [
      "\r",
      " 69%|██████▉   | 208/300 [18:43<08:12,  5.35s/it]"
     ]
    },
    {
     "name": "stdout",
     "output_type": "stream",
     "text": [
      "Epoch 207 - Training loss: 1.172 , Training Accuracy: 0.727\n"
     ]
    },
    {
     "name": "stderr",
     "output_type": "stream",
     "text": [
      "\r",
      " 70%|██████▉   | 209/300 [18:49<08:09,  5.38s/it]"
     ]
    },
    {
     "name": "stdout",
     "output_type": "stream",
     "text": [
      "Epoch 208 - Training loss: 1.007 , Training Accuracy: 0.765\n"
     ]
    },
    {
     "name": "stderr",
     "output_type": "stream",
     "text": [
      "\r",
      " 70%|███████   | 210/300 [18:54<08:04,  5.39s/it]"
     ]
    },
    {
     "name": "stdout",
     "output_type": "stream",
     "text": [
      "Epoch 209 - Training loss: 1.027 , Training Accuracy: 0.761\n",
      "Epoch 210 - Training loss: 1.189 , Training Accuracy: 0.723\n"
     ]
    },
    {
     "name": "stderr",
     "output_type": "stream",
     "text": [
      "\r",
      " 70%|███████   | 211/300 [19:00<08:05,  5.46s/it]"
     ]
    },
    {
     "name": "stdout",
     "output_type": "stream",
     "text": [
      "Epoch 210 - Validation loss: 2.442 , Validation Accuracy: 0.564\n"
     ]
    },
    {
     "name": "stderr",
     "output_type": "stream",
     "text": [
      "\r",
      " 71%|███████   | 212/300 [19:05<08:00,  5.46s/it]"
     ]
    },
    {
     "name": "stdout",
     "output_type": "stream",
     "text": [
      "Epoch 211 - Training loss: 1.023 , Training Accuracy: 0.764\n"
     ]
    },
    {
     "name": "stderr",
     "output_type": "stream",
     "text": [
      "\r",
      " 71%|███████   | 213/300 [19:11<07:55,  5.46s/it]"
     ]
    },
    {
     "name": "stdout",
     "output_type": "stream",
     "text": [
      "Epoch 212 - Training loss: 1.044 , Training Accuracy: 0.758\n"
     ]
    },
    {
     "name": "stderr",
     "output_type": "stream",
     "text": [
      "\r",
      " 71%|███████▏  | 214/300 [19:16<07:58,  5.57s/it]"
     ]
    },
    {
     "name": "stdout",
     "output_type": "stream",
     "text": [
      "Epoch 213 - Training loss: 1.002 , Training Accuracy: 0.767\n"
     ]
    },
    {
     "name": "stderr",
     "output_type": "stream",
     "text": [
      "\r",
      " 72%|███████▏  | 215/300 [19:22<07:49,  5.53s/it]"
     ]
    },
    {
     "name": "stdout",
     "output_type": "stream",
     "text": [
      "Epoch 214 - Training loss: 1.027 , Training Accuracy: 0.762\n",
      "Epoch 215 - Training loss: 0.999 , Training Accuracy: 0.770\n"
     ]
    },
    {
     "name": "stderr",
     "output_type": "stream",
     "text": [
      "\r",
      " 72%|███████▏  | 216/300 [19:27<07:45,  5.54s/it]"
     ]
    },
    {
     "name": "stdout",
     "output_type": "stream",
     "text": [
      "Epoch 215 - Validation loss: 2.588 , Validation Accuracy: 0.574\n"
     ]
    },
    {
     "name": "stderr",
     "output_type": "stream",
     "text": [
      "\r",
      " 72%|███████▏  | 217/300 [19:33<07:38,  5.53s/it]"
     ]
    },
    {
     "name": "stdout",
     "output_type": "stream",
     "text": [
      "Epoch 216 - Training loss: 0.987 , Training Accuracy: 0.775\n"
     ]
    },
    {
     "name": "stderr",
     "output_type": "stream",
     "text": [
      "\r",
      " 73%|███████▎  | 218/300 [19:38<07:29,  5.49s/it]"
     ]
    },
    {
     "name": "stdout",
     "output_type": "stream",
     "text": [
      "Epoch 217 - Training loss: 1.015 , Training Accuracy: 0.763\n"
     ]
    },
    {
     "name": "stderr",
     "output_type": "stream",
     "text": [
      "\r",
      " 73%|███████▎  | 219/300 [19:44<07:22,  5.47s/it]"
     ]
    },
    {
     "name": "stdout",
     "output_type": "stream",
     "text": [
      "Epoch 218 - Training loss: 0.993 , Training Accuracy: 0.772\n"
     ]
    },
    {
     "name": "stderr",
     "output_type": "stream",
     "text": [
      "\r",
      " 73%|███████▎  | 220/300 [19:49<07:15,  5.45s/it]"
     ]
    },
    {
     "name": "stdout",
     "output_type": "stream",
     "text": [
      "Epoch 219 - Training loss: 1.033 , Training Accuracy: 0.751\n",
      "Epoch 220 - Training loss: 0.952 , Training Accuracy: 0.758\n"
     ]
    },
    {
     "name": "stderr",
     "output_type": "stream",
     "text": [
      "\r",
      " 74%|███████▎  | 221/300 [19:55<07:12,  5.48s/it]"
     ]
    },
    {
     "name": "stdout",
     "output_type": "stream",
     "text": [
      "Epoch 220 - Validation loss: 2.286 , Validation Accuracy: 0.543\n"
     ]
    },
    {
     "name": "stderr",
     "output_type": "stream",
     "text": [
      "\r",
      " 74%|███████▍  | 222/300 [20:00<07:04,  5.45s/it]"
     ]
    },
    {
     "name": "stdout",
     "output_type": "stream",
     "text": [
      "Epoch 221 - Training loss: 0.915 , Training Accuracy: 0.764\n"
     ]
    },
    {
     "name": "stderr",
     "output_type": "stream",
     "text": [
      "\r",
      " 74%|███████▍  | 223/300 [20:06<06:59,  5.45s/it]"
     ]
    },
    {
     "name": "stdout",
     "output_type": "stream",
     "text": [
      "Epoch 222 - Training loss: 0.897 , Training Accuracy: 0.775\n"
     ]
    },
    {
     "name": "stderr",
     "output_type": "stream",
     "text": [
      "\r",
      " 75%|███████▍  | 224/300 [20:11<06:53,  5.44s/it]"
     ]
    },
    {
     "name": "stdout",
     "output_type": "stream",
     "text": [
      "Epoch 223 - Training loss: 0.927 , Training Accuracy: 0.765\n"
     ]
    },
    {
     "name": "stderr",
     "output_type": "stream",
     "text": [
      "\r",
      " 75%|███████▌  | 225/300 [20:16<06:47,  5.43s/it]"
     ]
    },
    {
     "name": "stdout",
     "output_type": "stream",
     "text": [
      "Epoch 224 - Training loss: 0.937 , Training Accuracy: 0.769\n",
      "Epoch 225 - Training loss: 0.859 , Training Accuracy: 0.778\n"
     ]
    },
    {
     "name": "stderr",
     "output_type": "stream",
     "text": [
      "\r",
      " 75%|███████▌  | 226/300 [20:22<06:48,  5.52s/it]"
     ]
    },
    {
     "name": "stdout",
     "output_type": "stream",
     "text": [
      "Epoch 225 - Validation loss: 2.840 , Validation Accuracy: 0.553\n"
     ]
    },
    {
     "name": "stderr",
     "output_type": "stream",
     "text": [
      "\r",
      " 76%|███████▌  | 227/300 [20:28<06:40,  5.49s/it]"
     ]
    },
    {
     "name": "stdout",
     "output_type": "stream",
     "text": [
      "Epoch 226 - Training loss: 0.910 , Training Accuracy: 0.771\n"
     ]
    },
    {
     "name": "stderr",
     "output_type": "stream",
     "text": [
      "\r",
      " 76%|███████▌  | 228/300 [20:33<06:34,  5.48s/it]"
     ]
    },
    {
     "name": "stdout",
     "output_type": "stream",
     "text": [
      "Epoch 227 - Training loss: 0.865 , Training Accuracy: 0.783\n"
     ]
    },
    {
     "name": "stderr",
     "output_type": "stream",
     "text": [
      "\r",
      " 76%|███████▋  | 229/300 [20:38<06:28,  5.47s/it]"
     ]
    },
    {
     "name": "stdout",
     "output_type": "stream",
     "text": [
      "Epoch 228 - Training loss: 1.166 , Training Accuracy: 0.706\n"
     ]
    },
    {
     "name": "stderr",
     "output_type": "stream",
     "text": [
      "\r",
      " 77%|███████▋  | 230/300 [20:44<06:28,  5.55s/it]"
     ]
    },
    {
     "name": "stdout",
     "output_type": "stream",
     "text": [
      "Epoch 229 - Training loss: 1.194 , Training Accuracy: 0.684\n",
      "Epoch 230 - Training loss: 1.010 , Training Accuracy: 0.738\n"
     ]
    },
    {
     "name": "stderr",
     "output_type": "stream",
     "text": [
      "\r",
      " 77%|███████▋  | 231/300 [20:50<06:24,  5.57s/it]"
     ]
    },
    {
     "name": "stdout",
     "output_type": "stream",
     "text": [
      "Epoch 230 - Validation loss: 2.308 , Validation Accuracy: 0.569\n"
     ]
    },
    {
     "name": "stderr",
     "output_type": "stream",
     "text": [
      "\r",
      " 77%|███████▋  | 232/300 [20:55<06:14,  5.51s/it]"
     ]
    },
    {
     "name": "stdout",
     "output_type": "stream",
     "text": [
      "Epoch 231 - Training loss: 0.949 , Training Accuracy: 0.757\n"
     ]
    },
    {
     "name": "stderr",
     "output_type": "stream",
     "text": [
      "\r",
      " 78%|███████▊  | 233/300 [21:01<06:08,  5.49s/it]"
     ]
    },
    {
     "name": "stdout",
     "output_type": "stream",
     "text": [
      "Epoch 232 - Training loss: 0.954 , Training Accuracy: 0.754\n"
     ]
    },
    {
     "name": "stderr",
     "output_type": "stream",
     "text": [
      "\r",
      " 78%|███████▊  | 234/300 [21:06<06:03,  5.50s/it]"
     ]
    },
    {
     "name": "stdout",
     "output_type": "stream",
     "text": [
      "Epoch 233 - Training loss: 0.876 , Training Accuracy: 0.776\n"
     ]
    },
    {
     "name": "stderr",
     "output_type": "stream",
     "text": [
      "\r",
      " 78%|███████▊  | 235/300 [21:12<05:55,  5.47s/it]"
     ]
    },
    {
     "name": "stdout",
     "output_type": "stream",
     "text": [
      "Epoch 234 - Training loss: 0.904 , Training Accuracy: 0.770\n",
      "Epoch 235 - Training loss: 0.917 , Training Accuracy: 0.769\n"
     ]
    },
    {
     "name": "stderr",
     "output_type": "stream",
     "text": [
      "\r",
      " 79%|███████▊  | 236/300 [21:17<05:55,  5.55s/it]"
     ]
    },
    {
     "name": "stdout",
     "output_type": "stream",
     "text": [
      "Epoch 235 - Validation loss: 2.721 , Validation Accuracy: 0.572\n"
     ]
    },
    {
     "name": "stderr",
     "output_type": "stream",
     "text": [
      "\r",
      " 79%|███████▉  | 237/300 [21:23<05:47,  5.52s/it]"
     ]
    },
    {
     "name": "stdout",
     "output_type": "stream",
     "text": [
      "Epoch 236 - Training loss: 0.873 , Training Accuracy: 0.780\n"
     ]
    },
    {
     "name": "stderr",
     "output_type": "stream",
     "text": [
      "\r",
      " 79%|███████▉  | 238/300 [21:28<05:34,  5.39s/it]"
     ]
    },
    {
     "name": "stdout",
     "output_type": "stream",
     "text": [
      "Epoch 237 - Training loss: 0.860 , Training Accuracy: 0.781\n"
     ]
    },
    {
     "name": "stderr",
     "output_type": "stream",
     "text": [
      "\r",
      " 80%|███████▉  | 239/300 [21:33<05:21,  5.27s/it]"
     ]
    },
    {
     "name": "stdout",
     "output_type": "stream",
     "text": [
      "Epoch 238 - Training loss: 0.871 , Training Accuracy: 0.774\n"
     ]
    },
    {
     "name": "stderr",
     "output_type": "stream",
     "text": [
      "\r",
      " 80%|████████  | 240/300 [21:38<05:18,  5.30s/it]"
     ]
    },
    {
     "name": "stdout",
     "output_type": "stream",
     "text": [
      "Epoch 239 - Training loss: 0.901 , Training Accuracy: 0.775\n",
      "Epoch 240 - Training loss: 0.872 , Training Accuracy: 0.774\n"
     ]
    },
    {
     "name": "stderr",
     "output_type": "stream",
     "text": [
      "\r",
      " 80%|████████  | 241/300 [21:43<05:11,  5.28s/it]"
     ]
    },
    {
     "name": "stdout",
     "output_type": "stream",
     "text": [
      "Epoch 240 - Validation loss: 2.485 , Validation Accuracy: 0.517\n"
     ]
    },
    {
     "name": "stderr",
     "output_type": "stream",
     "text": [
      "\r",
      " 81%|████████  | 242/300 [21:48<05:00,  5.19s/it]"
     ]
    },
    {
     "name": "stdout",
     "output_type": "stream",
     "text": [
      "Epoch 241 - Training loss: 0.865 , Training Accuracy: 0.777\n"
     ]
    },
    {
     "name": "stderr",
     "output_type": "stream",
     "text": [
      "\r",
      " 81%|████████  | 243/300 [21:54<04:59,  5.25s/it]"
     ]
    },
    {
     "name": "stdout",
     "output_type": "stream",
     "text": [
      "Epoch 242 - Training loss: 0.850 , Training Accuracy: 0.781\n"
     ]
    },
    {
     "name": "stderr",
     "output_type": "stream",
     "text": [
      "\r",
      " 81%|████████▏ | 244/300 [21:59<04:56,  5.30s/it]"
     ]
    },
    {
     "name": "stdout",
     "output_type": "stream",
     "text": [
      "Epoch 243 - Training loss: 0.873 , Training Accuracy: 0.779\n"
     ]
    },
    {
     "name": "stderr",
     "output_type": "stream",
     "text": [
      "\r",
      " 82%|████████▏ | 245/300 [22:05<04:52,  5.32s/it]"
     ]
    },
    {
     "name": "stdout",
     "output_type": "stream",
     "text": [
      "Epoch 244 - Training loss: 0.904 , Training Accuracy: 0.773\n",
      "Epoch 245 - Training loss: 0.819 , Training Accuracy: 0.790\n"
     ]
    },
    {
     "name": "stderr",
     "output_type": "stream",
     "text": [
      "\r",
      " 82%|████████▏ | 246/300 [22:10<04:51,  5.39s/it]"
     ]
    },
    {
     "name": "stdout",
     "output_type": "stream",
     "text": [
      "Epoch 245 - Validation loss: 2.633 , Validation Accuracy: 0.543\n"
     ]
    },
    {
     "name": "stderr",
     "output_type": "stream",
     "text": [
      "\r",
      " 82%|████████▏ | 247/300 [22:16<04:49,  5.47s/it]"
     ]
    },
    {
     "name": "stdout",
     "output_type": "stream",
     "text": [
      "Epoch 246 - Training loss: 0.867 , Training Accuracy: 0.780\n"
     ]
    },
    {
     "name": "stderr",
     "output_type": "stream",
     "text": [
      "\r",
      " 83%|████████▎ | 248/300 [22:21<04:42,  5.44s/it]"
     ]
    },
    {
     "name": "stdout",
     "output_type": "stream",
     "text": [
      "Epoch 247 - Training loss: 0.842 , Training Accuracy: 0.787\n"
     ]
    },
    {
     "name": "stderr",
     "output_type": "stream",
     "text": [
      "\r",
      " 83%|████████▎ | 249/300 [22:26<04:35,  5.41s/it]"
     ]
    },
    {
     "name": "stdout",
     "output_type": "stream",
     "text": [
      "Epoch 248 - Training loss: 0.831 , Training Accuracy: 0.789\n"
     ]
    },
    {
     "name": "stderr",
     "output_type": "stream",
     "text": [
      "\r",
      " 83%|████████▎ | 250/300 [22:32<04:28,  5.38s/it]"
     ]
    },
    {
     "name": "stdout",
     "output_type": "stream",
     "text": [
      "Epoch 249 - Training loss: 0.911 , Training Accuracy: 0.765\n",
      "Epoch 250 - Training loss: 0.874 , Training Accuracy: 0.782\n"
     ]
    },
    {
     "name": "stderr",
     "output_type": "stream",
     "text": [
      "\r",
      " 84%|████████▎ | 251/300 [22:37<04:26,  5.45s/it]"
     ]
    },
    {
     "name": "stdout",
     "output_type": "stream",
     "text": [
      "Epoch 250 - Validation loss: 2.385 , Validation Accuracy: 0.553\n"
     ]
    },
    {
     "name": "stderr",
     "output_type": "stream",
     "text": [
      "\r",
      " 84%|████████▍ | 252/300 [22:43<04:20,  5.43s/it]"
     ]
    },
    {
     "name": "stdout",
     "output_type": "stream",
     "text": [
      "Epoch 251 - Training loss: 0.847 , Training Accuracy: 0.781\n"
     ]
    },
    {
     "name": "stderr",
     "output_type": "stream",
     "text": [
      "\r",
      " 84%|████████▍ | 253/300 [22:48<04:16,  5.45s/it]"
     ]
    },
    {
     "name": "stdout",
     "output_type": "stream",
     "text": [
      "Epoch 252 - Training loss: 0.923 , Training Accuracy: 0.769\n"
     ]
    },
    {
     "name": "stderr",
     "output_type": "stream",
     "text": [
      "\r",
      " 85%|████████▍ | 254/300 [22:53<04:07,  5.38s/it]"
     ]
    },
    {
     "name": "stdout",
     "output_type": "stream",
     "text": [
      "Epoch 253 - Training loss: 0.826 , Training Accuracy: 0.791\n"
     ]
    },
    {
     "name": "stderr",
     "output_type": "stream",
     "text": [
      "\r",
      " 85%|████████▌ | 255/300 [22:57<03:39,  4.87s/it]"
     ]
    },
    {
     "name": "stdout",
     "output_type": "stream",
     "text": [
      "Epoch 254 - Training loss: 0.854 , Training Accuracy: 0.786\n"
     ]
    },
    {
     "name": "stderr",
     "output_type": "stream",
     "text": [
      "\r",
      " 85%|████████▌ | 256/300 [23:00<03:12,  4.37s/it]"
     ]
    },
    {
     "name": "stdout",
     "output_type": "stream",
     "text": [
      "Epoch 255 - Training loss: 0.860 , Training Accuracy: 0.781\n",
      "Epoch 255 - Validation loss: 2.715 , Validation Accuracy: 0.533\n"
     ]
    },
    {
     "name": "stderr",
     "output_type": "stream",
     "text": [
      "\r",
      " 86%|████████▌ | 257/300 [23:03<02:51,  3.99s/it]"
     ]
    },
    {
     "name": "stdout",
     "output_type": "stream",
     "text": [
      "Epoch 256 - Training loss: 0.850 , Training Accuracy: 0.780\n"
     ]
    },
    {
     "name": "stderr",
     "output_type": "stream",
     "text": [
      "\r",
      " 86%|████████▌ | 258/300 [23:07<02:36,  3.72s/it]"
     ]
    },
    {
     "name": "stdout",
     "output_type": "stream",
     "text": [
      "Epoch 257 - Training loss: 0.844 , Training Accuracy: 0.789\n"
     ]
    },
    {
     "name": "stderr",
     "output_type": "stream",
     "text": [
      "\r",
      " 86%|████████▋ | 259/300 [23:10<02:24,  3.53s/it]"
     ]
    },
    {
     "name": "stdout",
     "output_type": "stream",
     "text": [
      "Epoch 258 - Training loss: 0.798 , Training Accuracy: 0.799\n"
     ]
    },
    {
     "name": "stderr",
     "output_type": "stream",
     "text": [
      "\r",
      " 87%|████████▋ | 260/300 [23:13<02:16,  3.40s/it]"
     ]
    },
    {
     "name": "stdout",
     "output_type": "stream",
     "text": [
      "Epoch 259 - Training loss: 0.890 , Training Accuracy: 0.775\n"
     ]
    },
    {
     "name": "stderr",
     "output_type": "stream",
     "text": [
      "\r",
      " 87%|████████▋ | 261/300 [23:16<02:10,  3.35s/it]"
     ]
    },
    {
     "name": "stdout",
     "output_type": "stream",
     "text": [
      "Epoch 260 - Training loss: 0.805 , Training Accuracy: 0.798\n",
      "Epoch 260 - Validation loss: 2.686 , Validation Accuracy: 0.541\n"
     ]
    },
    {
     "name": "stderr",
     "output_type": "stream",
     "text": [
      "\r",
      " 87%|████████▋ | 262/300 [23:19<02:05,  3.29s/it]"
     ]
    },
    {
     "name": "stdout",
     "output_type": "stream",
     "text": [
      "Epoch 261 - Training loss: 0.832 , Training Accuracy: 0.792\n"
     ]
    },
    {
     "name": "stderr",
     "output_type": "stream",
     "text": [
      "\r",
      " 88%|████████▊ | 263/300 [23:22<02:00,  3.24s/it]"
     ]
    },
    {
     "name": "stdout",
     "output_type": "stream",
     "text": [
      "Epoch 262 - Training loss: 0.835 , Training Accuracy: 0.789\n"
     ]
    },
    {
     "name": "stderr",
     "output_type": "stream",
     "text": [
      "\r",
      " 88%|████████▊ | 264/300 [23:25<01:56,  3.23s/it]"
     ]
    },
    {
     "name": "stdout",
     "output_type": "stream",
     "text": [
      "Epoch 263 - Training loss: 0.844 , Training Accuracy: 0.787\n"
     ]
    },
    {
     "name": "stderr",
     "output_type": "stream",
     "text": [
      "\r",
      " 88%|████████▊ | 265/300 [23:29<01:52,  3.20s/it]"
     ]
    },
    {
     "name": "stdout",
     "output_type": "stream",
     "text": [
      "Epoch 264 - Training loss: 0.835 , Training Accuracy: 0.790\n"
     ]
    },
    {
     "name": "stderr",
     "output_type": "stream",
     "text": [
      "\r",
      " 89%|████████▊ | 266/300 [23:32<01:49,  3.23s/it]"
     ]
    },
    {
     "name": "stdout",
     "output_type": "stream",
     "text": [
      "Epoch 265 - Training loss: 0.832 , Training Accuracy: 0.788\n",
      "Epoch 265 - Validation loss: 2.715 , Validation Accuracy: 0.536\n"
     ]
    },
    {
     "name": "stderr",
     "output_type": "stream",
     "text": [
      "\r",
      " 89%|████████▉ | 267/300 [23:35<01:45,  3.21s/it]"
     ]
    },
    {
     "name": "stdout",
     "output_type": "stream",
     "text": [
      "Epoch 266 - Training loss: 1.066 , Training Accuracy: 0.733\n"
     ]
    },
    {
     "name": "stderr",
     "output_type": "stream",
     "text": [
      "\r",
      " 89%|████████▉ | 268/300 [23:38<01:41,  3.19s/it]"
     ]
    },
    {
     "name": "stdout",
     "output_type": "stream",
     "text": [
      "Epoch 267 - Training loss: 0.819 , Training Accuracy: 0.793\n"
     ]
    },
    {
     "name": "stderr",
     "output_type": "stream",
     "text": [
      "\r",
      " 90%|████████▉ | 269/300 [23:41<01:39,  3.22s/it]"
     ]
    },
    {
     "name": "stdout",
     "output_type": "stream",
     "text": [
      "Epoch 268 - Training loss: 0.875 , Training Accuracy: 0.777\n"
     ]
    },
    {
     "name": "stderr",
     "output_type": "stream",
     "text": [
      "\r",
      " 90%|█████████ | 270/300 [23:45<01:37,  3.24s/it]"
     ]
    },
    {
     "name": "stdout",
     "output_type": "stream",
     "text": [
      "Epoch 269 - Training loss: 0.798 , Training Accuracy: 0.797\n"
     ]
    },
    {
     "name": "stderr",
     "output_type": "stream",
     "text": [
      "\r",
      " 90%|█████████ | 271/300 [23:48<01:34,  3.26s/it]"
     ]
    },
    {
     "name": "stdout",
     "output_type": "stream",
     "text": [
      "Epoch 270 - Training loss: 0.835 , Training Accuracy: 0.788\n",
      "Epoch 270 - Validation loss: 2.754 , Validation Accuracy: 0.566\n"
     ]
    },
    {
     "name": "stderr",
     "output_type": "stream",
     "text": [
      "\r",
      " 91%|█████████ | 272/300 [23:51<01:30,  3.22s/it]"
     ]
    },
    {
     "name": "stdout",
     "output_type": "stream",
     "text": [
      "Epoch 271 - Training loss: 0.812 , Training Accuracy: 0.788\n"
     ]
    },
    {
     "name": "stderr",
     "output_type": "stream",
     "text": [
      "\r",
      " 91%|█████████ | 273/300 [23:54<01:26,  3.22s/it]"
     ]
    },
    {
     "name": "stdout",
     "output_type": "stream",
     "text": [
      "Epoch 272 - Training loss: 0.783 , Training Accuracy: 0.802\n"
     ]
    },
    {
     "name": "stderr",
     "output_type": "stream",
     "text": [
      "\r",
      " 91%|█████████▏| 274/300 [23:58<01:23,  3.21s/it]"
     ]
    },
    {
     "name": "stdout",
     "output_type": "stream",
     "text": [
      "Epoch 273 - Training loss: 0.830 , Training Accuracy: 0.784\n"
     ]
    },
    {
     "name": "stderr",
     "output_type": "stream",
     "text": [
      "\r",
      " 92%|█████████▏| 275/300 [24:01<01:19,  3.19s/it]"
     ]
    },
    {
     "name": "stdout",
     "output_type": "stream",
     "text": [
      "Epoch 274 - Training loss: 0.943 , Training Accuracy: 0.765\n"
     ]
    },
    {
     "name": "stderr",
     "output_type": "stream",
     "text": [
      "\r",
      " 92%|█████████▏| 276/300 [24:04<01:17,  3.23s/it]"
     ]
    },
    {
     "name": "stdout",
     "output_type": "stream",
     "text": [
      "Epoch 275 - Training loss: 0.888 , Training Accuracy: 0.777\n",
      "Epoch 275 - Validation loss: 2.469 , Validation Accuracy: 0.535\n"
     ]
    },
    {
     "name": "stderr",
     "output_type": "stream",
     "text": [
      "\r",
      " 92%|█████████▏| 277/300 [24:07<01:13,  3.20s/it]"
     ]
    },
    {
     "name": "stdout",
     "output_type": "stream",
     "text": [
      "Epoch 276 - Training loss: 0.785 , Training Accuracy: 0.805\n"
     ]
    },
    {
     "name": "stderr",
     "output_type": "stream",
     "text": [
      "\r",
      " 93%|█████████▎| 278/300 [24:10<01:10,  3.19s/it]"
     ]
    },
    {
     "name": "stdout",
     "output_type": "stream",
     "text": [
      "Epoch 277 - Training loss: 0.902 , Training Accuracy: 0.774\n"
     ]
    },
    {
     "name": "stderr",
     "output_type": "stream",
     "text": [
      "\r",
      " 93%|█████████▎| 279/300 [24:13<01:06,  3.17s/it]"
     ]
    },
    {
     "name": "stdout",
     "output_type": "stream",
     "text": [
      "Epoch 278 - Training loss: 0.800 , Training Accuracy: 0.797\n"
     ]
    },
    {
     "name": "stderr",
     "output_type": "stream",
     "text": [
      "\r",
      " 93%|█████████▎| 280/300 [24:17<01:03,  3.17s/it]"
     ]
    },
    {
     "name": "stdout",
     "output_type": "stream",
     "text": [
      "Epoch 279 - Training loss: 0.833 , Training Accuracy: 0.787\n"
     ]
    },
    {
     "name": "stderr",
     "output_type": "stream",
     "text": [
      "\r",
      " 94%|█████████▎| 281/300 [24:20<01:00,  3.20s/it]"
     ]
    },
    {
     "name": "stdout",
     "output_type": "stream",
     "text": [
      "Epoch 280 - Training loss: 0.855 , Training Accuracy: 0.785\n",
      "Epoch 280 - Validation loss: 2.625 , Validation Accuracy: 0.532\n"
     ]
    },
    {
     "name": "stderr",
     "output_type": "stream",
     "text": [
      "\r",
      " 94%|█████████▍| 282/300 [24:23<00:57,  3.18s/it]"
     ]
    },
    {
     "name": "stdout",
     "output_type": "stream",
     "text": [
      "Epoch 281 - Training loss: 0.927 , Training Accuracy: 0.777\n"
     ]
    },
    {
     "name": "stderr",
     "output_type": "stream",
     "text": [
      "\r",
      " 94%|█████████▍| 283/300 [24:26<00:53,  3.17s/it]"
     ]
    },
    {
     "name": "stdout",
     "output_type": "stream",
     "text": [
      "Epoch 282 - Training loss: 0.936 , Training Accuracy: 0.756\n"
     ]
    },
    {
     "name": "stderr",
     "output_type": "stream",
     "text": [
      "\r",
      " 95%|█████████▍| 284/300 [24:29<00:50,  3.16s/it]"
     ]
    },
    {
     "name": "stdout",
     "output_type": "stream",
     "text": [
      "Epoch 283 - Training loss: 0.940 , Training Accuracy: 0.762\n"
     ]
    },
    {
     "name": "stderr",
     "output_type": "stream",
     "text": [
      "\r",
      " 95%|█████████▌| 285/300 [24:32<00:47,  3.15s/it]"
     ]
    },
    {
     "name": "stdout",
     "output_type": "stream",
     "text": [
      "Epoch 284 - Training loss: 0.769 , Training Accuracy: 0.807\n"
     ]
    },
    {
     "name": "stderr",
     "output_type": "stream",
     "text": [
      "\r",
      " 95%|█████████▌| 286/300 [24:36<00:44,  3.19s/it]"
     ]
    },
    {
     "name": "stdout",
     "output_type": "stream",
     "text": [
      "Epoch 285 - Training loss: 0.969 , Training Accuracy: 0.749\n",
      "Epoch 285 - Validation loss: 2.399 , Validation Accuracy: 0.537\n"
     ]
    },
    {
     "name": "stderr",
     "output_type": "stream",
     "text": [
      "\r",
      " 96%|█████████▌| 287/300 [24:39<00:41,  3.17s/it]"
     ]
    },
    {
     "name": "stdout",
     "output_type": "stream",
     "text": [
      "Epoch 286 - Training loss: 0.833 , Training Accuracy: 0.791\n"
     ]
    },
    {
     "name": "stderr",
     "output_type": "stream",
     "text": [
      "\r",
      " 96%|█████████▌| 288/300 [24:42<00:37,  3.15s/it]"
     ]
    },
    {
     "name": "stdout",
     "output_type": "stream",
     "text": [
      "Epoch 287 - Training loss: 0.798 , Training Accuracy: 0.799\n"
     ]
    },
    {
     "name": "stderr",
     "output_type": "stream",
     "text": [
      "\r",
      " 96%|█████████▋| 289/300 [24:45<00:34,  3.15s/it]"
     ]
    },
    {
     "name": "stdout",
     "output_type": "stream",
     "text": [
      "Epoch 288 - Training loss: 0.799 , Training Accuracy: 0.799\n"
     ]
    },
    {
     "name": "stderr",
     "output_type": "stream",
     "text": [
      "\r",
      " 97%|█████████▋| 290/300 [24:48<00:32,  3.20s/it]"
     ]
    },
    {
     "name": "stdout",
     "output_type": "stream",
     "text": [
      "Epoch 289 - Training loss: 0.818 , Training Accuracy: 0.789\n"
     ]
    },
    {
     "name": "stderr",
     "output_type": "stream",
     "text": [
      "\r",
      " 97%|█████████▋| 291/300 [24:52<00:29,  3.23s/it]"
     ]
    },
    {
     "name": "stdout",
     "output_type": "stream",
     "text": [
      "Epoch 290 - Training loss: 0.795 , Training Accuracy: 0.796\n",
      "Epoch 290 - Validation loss: 2.666 , Validation Accuracy: 0.539\n"
     ]
    },
    {
     "name": "stderr",
     "output_type": "stream",
     "text": [
      "\r",
      " 97%|█████████▋| 292/300 [24:55<00:25,  3.21s/it]"
     ]
    },
    {
     "name": "stdout",
     "output_type": "stream",
     "text": [
      "Epoch 291 - Training loss: 0.770 , Training Accuracy: 0.808\n"
     ]
    },
    {
     "name": "stderr",
     "output_type": "stream",
     "text": [
      "\r",
      " 98%|█████████▊| 293/300 [24:58<00:22,  3.19s/it]"
     ]
    },
    {
     "name": "stdout",
     "output_type": "stream",
     "text": [
      "Epoch 292 - Training loss: 0.799 , Training Accuracy: 0.800\n"
     ]
    },
    {
     "name": "stderr",
     "output_type": "stream",
     "text": [
      "\r",
      " 98%|█████████▊| 294/300 [25:01<00:19,  3.18s/it]"
     ]
    },
    {
     "name": "stdout",
     "output_type": "stream",
     "text": [
      "Epoch 293 - Training loss: 0.733 , Training Accuracy: 0.816\n"
     ]
    },
    {
     "name": "stderr",
     "output_type": "stream",
     "text": [
      "\r",
      " 98%|█████████▊| 295/300 [25:04<00:15,  3.16s/it]"
     ]
    },
    {
     "name": "stdout",
     "output_type": "stream",
     "text": [
      "Epoch 294 - Training loss: 0.944 , Training Accuracy: 0.766\n"
     ]
    },
    {
     "name": "stderr",
     "output_type": "stream",
     "text": [
      "\r",
      " 99%|█████████▊| 296/300 [25:08<00:12,  3.22s/it]"
     ]
    },
    {
     "name": "stdout",
     "output_type": "stream",
     "text": [
      "Epoch 295 - Training loss: 0.775 , Training Accuracy: 0.804\n",
      "Epoch 295 - Validation loss: 2.697 , Validation Accuracy: 0.539\n"
     ]
    },
    {
     "name": "stderr",
     "output_type": "stream",
     "text": [
      "\r",
      " 99%|█████████▉| 297/300 [25:11<00:09,  3.20s/it]"
     ]
    },
    {
     "name": "stdout",
     "output_type": "stream",
     "text": [
      "Epoch 296 - Training loss: 0.783 , Training Accuracy: 0.805\n"
     ]
    },
    {
     "name": "stderr",
     "output_type": "stream",
     "text": [
      "\r",
      " 99%|█████████▉| 298/300 [25:14<00:06,  3.26s/it]"
     ]
    },
    {
     "name": "stdout",
     "output_type": "stream",
     "text": [
      "Epoch 297 - Training loss: 0.791 , Training Accuracy: 0.799\n"
     ]
    },
    {
     "name": "stderr",
     "output_type": "stream",
     "text": [
      "\r",
      "100%|█████████▉| 299/300 [25:17<00:03,  3.23s/it]"
     ]
    },
    {
     "name": "stdout",
     "output_type": "stream",
     "text": [
      "Epoch 298 - Training loss: 0.798 , Training Accuracy: 0.796\n"
     ]
    },
    {
     "name": "stderr",
     "output_type": "stream",
     "text": [
      "100%|██████████| 300/300 [25:21<00:00,  5.07s/it]"
     ]
    },
    {
     "name": "stdout",
     "output_type": "stream",
     "text": [
      "Epoch 299 - Training loss: 0.783 , Training Accuracy: 0.802\n"
     ]
    },
    {
     "name": "stderr",
     "output_type": "stream",
     "text": [
      "\n"
     ]
    }
   ],
   "source": [
    "# Set up the model\n",
    "run = 6\n",
    "lr = 1e-3\n",
    "weight_decay = 1e-5\n",
    "num_layers = 5\n",
    "dropout = 0.4\n",
    "model = EmotionTransformerPrototypeMLP(num_features + 250 * 128, num_unique, num_layers=num_layers, dropout=dropout).cuda()\n",
    "criterion = nn.NLLLoss()\n",
    "optim = torch.optim.AdamW(model.parameters(), lr=lr, weight_decay=weight_decay)\n",
    "\n",
    "# start training\n",
    "losses = []\n",
    "val_loss = []\n",
    "accuracies = []\n",
    "val_accuracy = []\n",
    "\n",
    "epochs = 300\n",
    "for epoch in tqdm(range(epochs)):\n",
    "    model.train()\n",
    "    running_loss = 0\n",
    "    correct_count = 0\n",
    "    for x,y in train_loader:\n",
    "        optim.zero_grad()\n",
    "        \n",
    "        x_cuda = x.cuda()\n",
    "        y_cuda = torch.squeeze(y).cuda()\n",
    "        \n",
    "        # Output from mode\n",
    "        output = model(x_cuda)\n",
    "        output = output.cuda()\n",
    "        \n",
    "        # Calculate loss\n",
    "        loss = criterion(output, y_cuda)\n",
    "        \n",
    "        # Calculate predictions\n",
    "        # Need to take max over the log probs (batch_size, num_classes)\n",
    "        _, pred = torch.max(output, 1)\n",
    "        pred = pred.type(torch.FloatTensor).cuda()\n",
    "        \n",
    "        num_correct = np.sum(y_cuda.cpu().detach().numpy() == pred.cpu().detach().numpy())\n",
    "        correct_count += num_correct\n",
    "        \n",
    "        # Backprop\n",
    "        loss.backward()\n",
    "        \n",
    "        # Update weights\n",
    "        optim.step()\n",
    "        \n",
    "        # Keep track of losses\n",
    "        running_loss += loss.item()\n",
    "    # Calculate average loss\n",
    "    epoch_loss = running_loss / len(train_loader)\n",
    "    \n",
    "    # Accuracy\n",
    "    accuracy = correct_count / (len(train_loader) * batch_size)\n",
    "    \n",
    "    losses.append(epoch_loss)\n",
    "    accuracies.append(accuracy)\n",
    "    print(\"Epoch %d - Training loss: %.3f , Training Accuracy: %.3f\" %\n",
    "          (epoch, epoch_loss, accuracy))\n",
    "    \n",
    "    # Validation every 10 epochs\n",
    "    if epoch % 5 == 0:\n",
    "        model.eval()\n",
    "        correct_eval = 0\n",
    "        eval_loss = 0\n",
    "        for x,y in val_loader:\n",
    "            x_cuda = x.cuda()\n",
    "            y_cuda = torch.squeeze(y).cuda()\n",
    "            \n",
    "            # Output from mode\n",
    "            output = model(x_cuda)\n",
    "            output = output.cuda()\n",
    "            # Loss\n",
    "            loss = criterion(output, y_cuda)\n",
    "            \n",
    "            # Need to take max over the log probs (batch_size, num_classes)\n",
    "            _, pred = torch.max(output, 1)\n",
    "            pred = pred.type(torch.FloatTensor).cuda()\n",
    "        \n",
    "            num_correct = np.sum(y_cuda.cpu().detach().numpy() == pred.cpu().detach().numpy())\n",
    "            correct_eval += num_correct\n",
    "            eval_loss += loss.item()\n",
    "        # Calculate average loss\n",
    "        epoch_loss = eval_loss / len(val_loader)\n",
    "        val_loss.append(epoch_loss)\n",
    "    \n",
    "        # Accuracy\n",
    "        accuracy = correct_eval / (len(val_loader) * batch_size)\n",
    "        val_accuracy.append(accuracy)\n",
    "        print(\"Epoch %d - Validation loss: %.3f , Validation Accuracy: %.3f\" %\n",
    "          (epoch, epoch_loss, accuracy))\n"
   ]
  },
  {
   "cell_type": "code",
   "execution_count": 8,
   "metadata": {},
   "outputs": [
    {
     "name": "stdout",
     "output_type": "stream",
     "text": [
      "Model: EmotionTransformerPrototypeMLP\n",
      "Epochs:  300\n",
      "Learning rate:  0.001\n",
      "Weight decay:  1e-05\n",
      "Num features: 6 + 250 * 128 \n",
      "Dropout: 0.4\n"
     ]
    },
    {
     "data": {
      "image/png": "[encoded data removed]",
      "text/plain": [
       "<Figure size 864x288 with 2 Axes>"
      ]
     },
     "metadata": {
      "needs_background": "light"
     },
     "output_type": "display_data"
    },
    {
     "data": {
      "image/png": "[encoded data removed]",
      "text/plain": [
       "<Figure size 864x288 with 2 Axes>"
      ]
     },
     "metadata": {
      "needs_background": "light"
     },
     "output_type": "display_data"
    }
   ],
   "source": [
    "# Run info:\n",
    "model_name = 'EmotionTransformerPrototypeMLP'\n",
    "print(f'Model: {model_name}')\n",
    "print(f'Epochs: ', epochs)\n",
    "print(f'Learning rate: ', lr)\n",
    "print(f'Weight decay: ', weight_decay)\n",
    "print(f'Num features: {num_features} + 250 * 128 ')\n",
    "print(f'Dropout: {dropout}')\n",
    "path = f'./Results/{model_name}_{run}'\n",
    "if not os.path.isdir(path):\n",
    "    os.mkdir(path)\n",
    "    \n",
    "with open(path+'/hyperparameters.txt', 'w') as file:\n",
    "    file.write(f'Model: {model_name} \\n')\n",
    "    file.write(f'Epochs: {epochs} \\n')\n",
    "    file.write(f'learning rate: {lr} \\n')\n",
    "    file.write(f'weight decay: {weight_decay} \\n')\n",
    "    file.write(f'Num features: {num_features} + 250 * 128 \\n ')\n",
    "    file.write(f'num layers: {num_layers} \\n')\n",
    "    file.write(f'dropout: {dropout} \\n')\n",
    "\n",
    "# Train plots\n",
    "fig, (ax1, ax2) = plt.subplots(1, 2, figsize=(12, 4))\n",
    "ax1.plot(losses)\n",
    "ax2.plot(accuracies)\n",
    "ax1.set_xlabel('Epoch')\n",
    "ax1.set_ylabel('Loss')\n",
    "ax2.set_xlabel('Epoch')\n",
    "ax2.set_ylabel('Accuracy')\n",
    "ax1.set_title('Train loss')\n",
    "ax2.set_title('Train accuracy')\n",
    "plt.savefig(path+'/train_plots.png')\n",
    "plt.show()\n",
    "\n",
    "# Val plots\n",
    "fig, (ax1, ax2) = plt.subplots(1, 2, figsize=(12, 4))\n",
    "ax1.plot(val_loss)\n",
    "ax2.plot(val_accuracy)\n",
    "ax1.set_xlabel('Epoch')\n",
    "ax1.set_ylabel('Loss')\n",
    "ax2.set_xlabel('Epoch')\n",
    "ax2.set_ylabel('Accuracy')\n",
    "ax1.set_title('Val loss')\n",
    "ax2.set_title('Val accuracy')\n",
    "plt.savefig(path+'/val_plots.png')\n",
    "plt.show()\n",
    "\n",
    "# Save the trained model\n",
    "torch.save(model.state_dict(), path+'/'+model_name+'_state_dict.pt')"
   ]
  },
  {
   "cell_type": "code",
   "execution_count": 9,
   "metadata": {},
   "outputs": [
    {
     "name": "stdout",
     "output_type": "stream",
     "text": [
      "Test loss: 3.039 , Test Accuracy: 0.568, Avg F1 macro: 0.2604, Avg F1 micro: 0.572\n"
     ]
    }
   ],
   "source": [
    "# Run testing on the results\n",
    "model.eval()\n",
    "correct_test = 0\n",
    "test_loss = 0\n",
    "total_macro = 0\n",
    "total_micro = 0\n",
    "for x,y in test_loader:\n",
    "    x_cuda = x.cuda()\n",
    "    y_cuda = torch.squeeze(y).cuda()\n",
    "\n",
    "    # Output from mode\n",
    "    output = model(x_cuda)\n",
    "    output = output.cuda()\n",
    "    \n",
    "    # Loss\n",
    "    loss = criterion(output, y_cuda)\n",
    "\n",
    "    # Need to take max over the log probs (batch_size, num_classes)\n",
    "    _, pred = torch.max(output, 1)\n",
    "    pred = pred.type(torch.FloatTensor).cuda()\n",
    "\n",
    "    num_correct = np.sum(y_cuda.cpu().detach().numpy() == pred.cpu().detach().numpy())\n",
    "    \n",
    "    f1 = f1_score(y_cuda.cpu().detach().numpy(), pred.cpu().detach().numpy(), average='macro')\n",
    "    total_macro += f1\n",
    "    f1 = f1_score(y_cuda.cpu().detach().numpy(), pred.cpu().detach().numpy(), average='micro')\n",
    "    total_micro += f1\n",
    "    \n",
    "    correct_test += num_correct\n",
    "    test_loss += loss\n",
    "# Calculate average loss\n",
    "epoch_loss = test_loss / len(test_loader)\n",
    "\n",
    "# Accuracy\n",
    "accuracy = correct_test / (len(test_loader) * batch_size)\n",
    "avg_macro = total_macro / len(test_loader)\n",
    "avg_micro = total_micro / len(test_loader)\n",
    "print(\"Test loss: %.3f , Test Accuracy: %.3f, Avg F1 macro: %.4f, Avg F1 micro: %.3f\" % \n",
    "      (epoch_loss, accuracy, avg_macro, avg_micro))"
   ]
  },
  {
   "cell_type": "code",
   "execution_count": 10,
   "metadata": {},
   "outputs": [],
   "source": [
    "# Save test result\n",
    "with open(path+'/test_results.txt', 'w') as f:\n",
    "    f.write(\"Test loss: %.3f , Test Accuracy: %.3f, Avg F1 macro: %.4f, Avg F1 micro: %.3f\" % \n",
    "      (epoch_loss, accuracy, avg_macro, avg_micro))"
   ]
  },
  {
   "cell_type": "code",
   "execution_count": 11,
   "metadata": {},
   "outputs": [],
   "source": [
    "# Create dataset from the data\n",
    "class CREMADataset(Dataset):\n",
    "    \"\"\"\n",
    "    CREMA-D dataset to load and use\n",
    "    \"\"\"\n",
    "    def __init__(self, X, Y, num_examples, split='train', train_ratio = 0.8, val_ratio = 0.1):\n",
    "        super().__init__()\n",
    "        # X are the features, Y are the labels\n",
    "        self.Y = Y  \n",
    "        self.X = X\n",
    "        self.num_examples = num_examples\n",
    "        self.train_ratio = train_ratio\n",
    "        self.val_ratio = val_ratio\n",
    "\n",
    "        # Decides which indices belong to which split.\n",
    "        train_indices, val_indices, test_indices = self.split_data(num_examples, train_ratio=train_ratio, val_ratio=val_ratio)\n",
    "\n",
    "        if split == 'train':\n",
    "            indices = train_indices\n",
    "        elif split == 'val':\n",
    "            indices = val_indices\n",
    "        elif split == 'test':\n",
    "            indices = test_indices\n",
    "        else:\n",
    "            raise Exception(f'Split {split} not supported.')\n",
    "            \n",
    "        self.indices = indices\n",
    "\n",
    "    def split_data(self, num_examples, train_ratio = 0.8, val_ratio = 0.1):\n",
    "        \"\"\"Splits data into train, val, and test sets based on speaker. When \n",
    "        evaluating methods on the test split, we measure how well they generalize\n",
    "        to new (unseen) speakers.\n",
    "\n",
    "        Concretely, this stores and returns indices belonging to each split.\n",
    "        \"\"\"\n",
    "        # Fix seed so everyone reproduces the same splits.\n",
    "        rs = np.random.RandomState(42)\n",
    "\n",
    "        indices = np.arange(0, num_examples)\n",
    "        train_idx = int(num_examples * train_ratio)\n",
    "        num_remaining = num_examples - train_idx\n",
    "        val_idx = train_idx + int(num_remaining/2)\n",
    "        \n",
    "        print(f'train idx: {train_idx}')\n",
    "        print(f'val idx: {val_idx}')\n",
    "        \n",
    "        train_indices = indices[:train_idx]\n",
    "        val_indices = indices[train_idx:val_idx]\n",
    "        test_indices = indices[val_idx:]\n",
    "        return train_indices, val_indices, test_indices\n",
    "\n",
    "    def __getitem__(self, index):\n",
    "        index = self.indices[index]\n",
    "        return torch.FloatTensor(self.X[index,:]), torch.LongTensor([self.Y[index]])\n",
    "\n",
    "    def __len__(self):\n",
    "        \"\"\"Returns total number of utterances in the dataset.\"\"\"\n",
    "        return len(self.indices)\n"
   ]
  },
  {
   "cell_type": "code",
   "execution_count": 12,
   "metadata": {},
   "outputs": [],
   "source": [
    "# Define the transformer\n",
    "class MLP(nn.Module):\n",
    "    def __init__(self, input_dim, n_classes):\n",
    "        super().__init__()\n",
    "        # Initialize layers\n",
    "        self.linear = nn.Linear(input_dim, n_classes)\n",
    "        self.relu = nn.ReLU()\n",
    "    \n",
    "    def forward(self, x):\n",
    "        output = self.linear(x)\n",
    "        result = self.relu(output)\n",
    "        return result\n",
    "    \n",
    "class EmotionTransformerPrototype(nn.Module):\n",
    "    def __init__(self, input_dim, num_class, num_layers=2, hidden_dim=128):\n",
    "        super().__init__()\n",
    "        # Note: `batch_first=True` argument implies the inputs to the LSTM should\n",
    "        # be of shape (batch_size x T x D) instead of (T x batch_size x D).\n",
    "        self.encoder = MLP(input_dim, hidden_dim)\n",
    "        self.decoder = nn.Linear(hidden_dim, num_class)\n",
    "        self.input_dim = input_dim\n",
    "        self.num_class = num_class\n",
    "        self.num_layers = num_layers\n",
    "        self.hidden_dim = hidden_dim\n",
    "        \n",
    "    def forward(self, inputs):\n",
    "        log_probs = None\n",
    "        # Hint: This is an N-way classification problem.\n",
    "        embed = self.encoder(inputs)\n",
    "        output = self.decoder(embed)\n",
    "        # Softmax for N-way classification, followed by log to make them log_probs\n",
    "        # log_probs = F.log_softmax(output, dim=2)\n",
    "        log_probs = F.log_softmax(output, dim=-1)\n",
    "        # If log softmax --> use negative log likelihood loss\n",
    "        # If normal probabilities --> use normal cross entropy (equivalent methods!)\n",
    "        return log_probs\n",
    "  \n",
    "    def get_loss(self, probs, targets):\n",
    "        loss = None\n",
    "        # Cross entropy loss if probs is normal probabilities\n",
    "        # Negative log likelihood if probs is log probs\n",
    "        # probs = probs.view(-1)\n",
    "        # targets = targets.view(-1).type(dtype=torch.float) # --> float()\n",
    "        # loss = F.cross_entropy(probs, targets)\n",
    "        loss = F.nll_loss(probs, targets)\n",
    "        return loss\n",
    "\n",
    "class EmotionCNNTransformer(nn.Module):\n",
    "    def __init__(\n",
    "          self, input_dim, num_class, kernel_size, num_layers=2, hidden_dim=128, stride=1, padding=0):\n",
    "        super().__init__()\n",
    "        # Note: `batch_first=True` argument implies the inputs to the LSTM should\n",
    "        # be of shape (batch_size x T x D) instead of (T x batch_size x D).\n",
    "        self.encoder = nn.Conv1d(input_dim, hidden_dim, kernel_size, stride=stride, padding=padding)\n",
    "        self.decoder = nn.Linear(hidden_dim, num_class)\n",
    "        self.input_dim = input_dim\n",
    "        self.num_class = num_class\n",
    "        self.num_layers = num_layers\n",
    "        self.hidden_dim = hidden_dim\n",
    "\n",
    "    \n",
    "class EmotionRNNTransformer(nn.Module):\n",
    "    \"\"\"\n",
    "  Encoder-Decoder model to classify emotions for utterances.\n",
    "\n",
    "  Args:\n",
    "    input_dim: integer\n",
    "                number of input features\n",
    "    num_class: integer\n",
    "                number of class labels\n",
    "    num_layers: integer (default: 2)\n",
    "                number of layers in encoder LSTM\n",
    "    hidden_dim: integer (default: 128)\n",
    "                number of hidden dimensions for encoder LSTM\n",
    "    bidirectional: boolean (default: True)\n",
    "                    is the encoder LSTM bidirectional?\n",
    "  \"\"\"\n",
    "    def __init__(\n",
    "          self, input_dim, num_class, num_layers=2, hidden_dim=128,\n",
    "          bidirectional=True):\n",
    "        super().__init__()\n",
    "        # Note: `batch_first=True` argument implies the inputs to the LSTM should\n",
    "        # be of shape (batch_size x T x D) instead of (T x batch_size x D).\n",
    "        self.encoder = nn.LSTM(input_dim, hidden_dim, num_layers=num_layers, \n",
    "                                bidirectional=bidirectional, batch_first=True)\n",
    "        self.decoder = nn.Linear(hidden_dim * 2, num_class)\n",
    "        self.input_dim = input_dim\n",
    "        self.num_class = num_class\n",
    "        self.num_layers = num_layers\n",
    "        self.hidden_dim = hidden_dim\n",
    "        self.embedding_dim = hidden_dim * num_layers * 2 * \\\n",
    "                              (2 if bidirectional else 1)\n",
    "\n",
    "    def combine_h_and_c(self, h, c):\n",
    "        \"\"\"Combine the signals from RNN hidden and cell states.\"\"\"\n",
    "        batch_size = h.size(1)\n",
    "        h = h.permute(1, 0, 2).contiguous()\n",
    "        c = c.permute(1, 0, 2).contiguous()\n",
    "        h = h.view(batch_size, -1)\n",
    "        c = c.view(batch_size, -1)\n",
    "        return torch.cat([h, c], dim=1)  # just concatenate\n",
    "\n",
    "    def forward(self, inputs, input_lengths):\n",
    "        batch_size, max_length, _ = inputs.size()\n",
    "        # `torch.nn.utils.rnn.pack_padded_sequence` collapses padded sequences\n",
    "        # to a contiguous chunk\n",
    "        inputs = torch.nn.utils.rnn.pack_padded_sequence(\n",
    "            inputs, input_lengths.cpu(), batch_first=True, enforce_sorted=False)\n",
    "        log_probs = None\n",
    "        h, c = None, None\n",
    "        ############################ START OF YOUR CODE ############################\n",
    "        # TODO(2.1)\n",
    "        # Hint:\n",
    "        # - Refer to https://pytorch.org/docs/stable/nn.html\n",
    "        # - Use `self.encoder` to get the encodings output which is of shape\n",
    "        #   (batch_size, max_length, num_directions*hidden_dim) and the\n",
    "        #   hidden states and cell states which are both of shape\n",
    "        #   (batch_size, num_layers*num_directions, hidden_dim)\n",
    "        # - Pad outputs with `0.` using `torch.nn.utils.rnn.pad_packed_sequence`\n",
    "        #   (turn on batch_first and set total_length as max_length).\n",
    "        # - Apply 50% dropout.\n",
    "        # - Use `self.decoder` to take the embeddings sequence and return\n",
    "        #   probabilities for each character.\n",
    "        # - Make sure to then convert to log probabilities.\n",
    "\n",
    "        # Get encodings\n",
    "        encodings, (h, c) = self.encoder(inputs)\n",
    "\n",
    "        # Pad outputs with '0'\n",
    "        padded, lengths = torch.nn.utils.rnn.pad_packed_sequence(encodings, batch_first=True, total_length=max_length)\n",
    "\n",
    "        # Apply dropout\n",
    "        dropout = nn.Dropout(p=0.5)\n",
    "        dropped_padded = dropout(padded)\n",
    "\n",
    "        # Decode to get probabilies dimensions (batch_size, time steps, num chars <vocab>)\n",
    "        probabilities = self.decoder(dropped_padded)\n",
    "\n",
    "        # Log probabilities\n",
    "        # dim=2 because softmax over the vocabulary dimension. dim=1 is over time steps\n",
    "        log_probs = F.log_softmax(probabilities, dim=2)\n",
    "\n",
    "        ############################# END OF YOUR CODE #############################\n",
    "\n",
    "        # The extracted embedding is not used for the ASR task but will be\n",
    "        # needed for other auxiliary tasks.\n",
    "        embedding = self.combine_h_and_c(h, c)\n",
    "        return log_probs, embedding\n",
    "\n",
    "    def get_loss(self, log_probs, targets):\n",
    "            # cross-entropy for softmax/negative log likelihood loss for log softmax\n",
    "        return F.nll_loss(probs, targets)\n",
    "\n",
    "    def decode(self, log_probs, input_lengths, labels, label_lengths):\n",
    "        # Use greedy decoding.\n",
    "        decoded = torch.argmax(log_probs, dim=2)\n",
    "        batch_size = decoded.size(0)\n",
    "\n",
    "        hypothesis_lengths = input_lengths.cpu().numpy().tolist()\n",
    "        if labels is None: # Run at inference time.\n",
    "          references, reference_lengths = None, None\n",
    "        else:\n",
    "          references = labels.cpu().numpy().tolist()\n",
    "          reference_lengths = label_lengths.cpu().numpy().tolist()\n",
    "\n",
    "        return hypotheses, hypothesis_lengths, references, reference_lengths"
   ]
  },
  {
   "cell_type": "code",
   "execution_count": 13,
   "metadata": {
    "id": "JLduPvIOC7cb"
   },
   "outputs": [],
   "source": [
    "# Get data and labels for training\n",
    "# train_split = int(0.8 * num_files)\n",
    "# print('train_split: ', train_split)\n",
    "# print(f'train size: {X[:train_split].shape}, val size: {X[train_split:].shape}')\n",
    "\n",
    "# model = LogisticRegression().fit(X[:train_split], Y[:train_split])\n",
    "\n",
    "# # Predict on validation/test (80-20 split)\n",
    "# predictions = model.predict(X[train_split:])\n",
    "\n",
    "# # Output score (mean accuracy)\n",
    "# score = model.score(X[train_split:],Y[train_split:])\n",
    "# print(f'Test accuracy score: {score}')\n",
    "\n",
    "# f1 = f1_score(Y[train_split:], predictions, average='macro')\n",
    "# print(f'macro f1 score: {f1}')\n",
    "# f1 = f1_score(Y[train_split:], predictions, average='micro')\n",
    "# print(f'micro f1 score: {f1}')"
   ]
  },
  {
   "cell_type": "code",
   "execution_count": 14,
   "metadata": {},
   "outputs": [],
   "source": [
    "# Some basic stats for the dataset\n",
    "# avg = np.mean(X, axis=0)\n",
    "# print(f'avg shape: {avg.shape}')\n",
    "# stats = ['f0_min', 'f0_max', 'f0_mean', 'f0_range', 'duration', 'rms_min', 'rms_max', 'rms_mean', 'pitch_max', 'pitch_min', \n",
    "#                   'pitch_range', 'pitch_mean']\n",
    "# stats = ['f0_min', 'f0_max', 'f0_mean', 'f0_range', 'duration', 'rms_min', 'rms_max', 'rms_mean']\n",
    "# for j,stat in enumerate(stats):\n",
    "#     print(f'{stat} average: {avg[j]}')"
   ]
  },
  {
   "cell_type": "code",
   "execution_count": null,
   "metadata": {},
   "outputs": [],
   "source": []
  }
 ],
 "metadata": {
  "colab": {
   "collapsed_sections": [],
   "name": "Baseline.ipynb",
   "provenance": []
  },
  "kernelspec": {
   "display_name": "Python 3",
   "language": "python",
   "name": "python3"
  },
  "language_info": {
   "codemirror_mode": {
    "name": "ipython",
    "version": 3
   },
   "file_extension": ".py",
   "mimetype": "text/x-python",
   "name": "python",
   "nbconvert_exporter": "python",
   "pygments_lexer": "ipython3",
   "version": "3.8.5"
  }
 },
 "nbformat": 4,
 "nbformat_minor": 1
}
